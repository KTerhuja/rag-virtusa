{
 "cells": [
  {
   "cell_type": "code",
   "execution_count": 1,
   "metadata": {},
   "outputs": [
    {
     "name": "stdout",
     "output_type": "stream",
     "text": [
      "5\n",
      "\n"
     ]
    }
   ],
   "source": [
    "from pypdf import PdfReader \n",
    "  \n",
    "# creating a pdf reader object \n",
    "reader = PdfReader('data/Walnut Softech Lionel Paul.pdf') \n",
    "  \n",
    "# printing number of pages in pdf file \n",
    "print(len(reader.pages)) \n",
    "  \n",
    "# getting a specific page from the pdf file \n",
    "page = reader.pages[0] \n",
    "  \n",
    "# extracting text from page \n",
    "text = page.extract_text() \n"
   ]
  },
  {
   "cell_type": "code",
   "execution_count": 3,
   "metadata": {},
   "outputs": [],
   "source": [
    "from splitter import chunk\n",
    "from document_loader import loader\n",
    "from embedding import embedding\n",
    "import pysqlite3\n",
    "import sys\n",
    "sys.modules['sqlite3'] = sys.modules.pop('pysqlite3')\n",
    "from langchain_chroma import Chroma\n",
    "\n",
    "def create_vector_store(texts, embedding_type):\n",
    "    \"\"\"\n",
    "    Create a vector store from documents based on the specified embedding type.\n",
    "\n",
    "    Args:\n",
    "        texts (list): List of texts to create vectors for.\n",
    "        embedding_type (str): Type of embedding to use. 'open_ai' for OpenAI embeddings,\n",
    "                              'gemini' for Google Generative AI embeddings.\n",
    "\n",
    "    Returns:\n",
    "        Chroma: Vector store created using the specified embedding type.\n",
    "    \n",
    "    Raises:\n",
    "        ValueError: If an unsupported embedding type is provided.\n",
    "    \"\"\"\n",
    "    if embedding_type == 'open_ai':\n",
    "        openai_embedding = embedding.load_embedding('open_ai')\n",
    "        db = Chroma.from_documents(texts, openai_embedding, persist_directory= \"vector_store\")\n",
    "        return db\n",
    "    \n",
    "    elif embedding_type == 'gemini':\n",
    "        gemini_embedding = embedding.load_embedding('gemini')\n",
    "        db = Chroma.from_documents(texts, gemini_embedding, persist_directory= \"./data\")\n",
    "    \n",
    "    \n",
    "    else:\n",
    "        raise ValueError(f\"Unsupported embedding type: {embedding_type}\")\n",
    "    \n",
    "\n",
    "if __name__ == \"__main__\":\n",
    "\n",
    "    # Load the document pdf/text/folder of docs\n",
    "    docs = loader.load_docs('data/delio', type='folder')\n",
    "\n",
    "    # Split the loaded document into chunks based on character/tokens\n",
    "    split_texts = chunk.split(docs, 'character')\n",
    "\n",
    "    # Create an embedded vector store from the split texts using the openai/gemini embedding type\n",
    "    embedded_vector_store = create_vector_store(split_texts, embedding_type='gemini')\n",
    "\n",
    "    create_vector_store(split_texts, embedding_type='gemini')\n"
   ]
  },
  {
   "cell_type": "code",
   "execution_count": 2,
   "metadata": {},
   "outputs": [
    {
     "name": "stdout",
     "output_type": "stream",
     "text": [
      "131\n"
     ]
    }
   ],
   "source": [
    "import os\n",
    "from langchain_community.document_loaders import PyPDFLoader\n",
    "from langchain_community.vectorstores import FAISS\n",
    "from splitter import chunk\n",
    "from document_loader import loader\n",
    "from embedding import embedding\n",
    "from langchain_text_splitters import CharacterTextSplitter\n",
    "\n",
    "gemini_embedding = embedding.load_embedding('gemini')\n",
    "\n",
    "directory_path = 'data/poc_files'\n",
    "pdf_files = [os.path.join(directory_path, f) for f in os.listdir(directory_path) if f.endswith('.pdf')]\n",
    "\n",
    "docs = []\n",
    "for pdf_file in pdf_files:\n",
    "    pdf_path = os.path.join(directory_path, pdf_file)\n",
    "    loader = PyPDFLoader(pdf_file)\n",
    "    pages = loader.load()\n",
    "    text_splitter = CharacterTextSplitter(chunk_size=1552, chunk_overlap=0)\n",
    "    split_pages = text_splitter.split_documents(pages)\n",
    "    docs.extend(split_pages)\n",
    "db = FAISS.from_documents(docs, gemini_embedding)\n",
    "print(db.index.ntotal)\n",
    "db.save_local(\"data/jll_poc_vs\")\n"
   ]
  },
  {
   "cell_type": "code",
   "execution_count": 7,
   "metadata": {},
   "outputs": [],
   "source": [
    "embedded_vector_store"
   ]
  },
  {
   "cell_type": "code",
   "execution_count": 4,
   "metadata": {},
   "outputs": [
    {
     "ename": "AttributeError",
     "evalue": "'NoneType' object has no attribute 'as_retriever'",
     "output_type": "error",
     "traceback": [
      "\u001b[0;31m---------------------------------------------------------------------------\u001b[0m",
      "\u001b[0;31mAttributeError\u001b[0m                            Traceback (most recent call last)",
      "Cell \u001b[0;32mIn[4], line 1\u001b[0m\n\u001b[0;32m----> 1\u001b[0m \u001b[43membedded_vector_store\u001b[49m\u001b[38;5;241;43m.\u001b[39;49m\u001b[43mas_retriever\u001b[49m()\u001b[38;5;241m.\u001b[39minvoke(\u001b[38;5;124m'\u001b[39m\u001b[38;5;124mROLES & SECURITY PROPERTIES\u001b[39m\u001b[38;5;124m'\u001b[39m)\n",
      "\u001b[0;31mAttributeError\u001b[0m: 'NoneType' object has no attribute 'as_retriever'"
     ]
    }
   ],
   "source": [
    "embedded_vector_store.as_retriever().invoke('ROLES & SECURITY PROPERTIES')"
   ]
  },
  {
   "cell_type": "code",
   "execution_count": 22,
   "metadata": {},
   "outputs": [
    {
     "name": "stdout",
     "output_type": "stream",
     "text": [
      "208\n"
     ]
    }
   ],
   "source": [
    "# Uncomment the following line if you need to initialize FAISS with no AVX2 optimization\n",
    "# os.environ['FAISS_NO_AVX2'] = '1'\n",
    "\n",
    "from langchain_community.document_loaders import DirectoryLoader\n",
    "from langchain_community.vectorstores import FAISS\n",
    "from langchain_openai import OpenAIEmbeddings\n",
    "from langchain_text_splitters import CharacterTextSplitter\n",
    "gemini_embedding = embedding.load_embedding('gemini')\n",
    "\n",
    "loader = DirectoryLoader('/workspaces/rag-virtusa/data/delio', glob=\"**/*.pdf\")\n",
    "documents = loader.load()\n",
    "text_splitter = CharacterTextSplitter(chunk_size=1552, chunk_overlap=0)\n",
    "docs = text_splitter.split_documents(documents)\n",
    "db = FAISS.from_documents(docs, gemini_embedding)\n",
    "print(db.index.ntotal)\n",
    "db.save_local(\"data/faiss\")"
   ]
  },
  {
   "cell_type": "code",
   "execution_count": null,
   "metadata": {},
   "outputs": [],
   "source": [
    "from langchain_community.vectorstores import FAISS\n",
    "db = FAISS.from_documents(docs, gemini_embedding)"
   ]
  },
  {
   "cell_type": "code",
   "execution_count": 20,
   "metadata": {},
   "outputs": [],
   "source": []
  },
  {
   "cell_type": "code",
   "execution_count": 18,
   "metadata": {},
   "outputs": [
    {
     "data": {
      "text/plain": [
       "[Document(metadata={'source': '/workspaces/rag-virtusa/data/delio/Dealio User Guide.pdf'}, page_content='110\\n\\n119\\n\\n3\\n\\nDealio User Guide\\n\\nINTRODUCTION\\n\\nDealio is a SOX compliant deal management system that tracks and reports on pipelines for several business units, including Capital Markets, Brokerage, Canada Brokerage, Retail and Corporate Solutions. Specific capabilities include:\\n\\n• • • • Revenue recording • Budget tracking • Deal tracking and prospecting • Report Generation • Document storage\\n\\nPipeline management Commission calculation Invoice creation Collection management\\n\\nCHAPTER 1: DEALIO ACCESS\\n\\nJLL currently uses Okta’s Single Sign-On (SSO) authentication process which allow users to gain access to multiple applications with one set of credentials – your network username and password.\\n\\nIf you have a JLL issued laptop that is connected to the corporate network, your login to Dealio will be automatic. If you are connected to Dealio remotely, you will be prompted to login via VPN.'),\n",
       " Document(metadata={'source': '/workspaces/rag-virtusa/data/delio/2023 Dealio User Guide_v1.pdf'}, page_content='110\\n\\n119\\n\\n3\\n\\nDealio User Guide\\n\\nINTRODUCTION\\n\\nDealio is a SOX compliant deal management system that tracks and reports on pipelines for several business units, including Capital Markets, Brokerage, Canada Brokerage, Retail and Corporate Solutions. Specific capabilities include:\\n\\n• • • • Revenue recording • Budget tracking • Deal tracking and prospecting • Report Generation • Document storage\\n\\nPipeline management Commission calculation Invoice creation Collection management\\n\\nCHAPTER 1: DEALIO ACCESS\\n\\nJLL currently uses Okta’s Single Sign-On (SSO) authentication process which allow users to gain access to multiple applications with one set of credentials – your network username and password.\\n\\nIf you have a JLL issued laptop that is connected to the corporate network, your login to Dealio will be automatic. If you are connected to Dealio remotely, you will be prompted to login via VPN.'),\n",
       " Document(metadata={'source': '/workspaces/rag-virtusa/data/delio/Dealio Support - ServiceNow_v2.pdf'}, page_content='By default, the name of the person completing the ticket will appear in the *Affected User field.\\n\\n2.\\n\\nSelect “Application” from the dropdown.\\n\\n3.\\n\\nEnter “Dealio” in the dropdown.\\n\\n4.\\n\\nSelect one of the following areas of focus: Capforce to Dealio Interface • Commissions • Deal tabs • Dealio Access Issue • Dealio System Performance • Dealio/PeopleSoft Interface • Reporting Issue • Other •\\n\\n1\\n\\n2\\n\\n3\\n\\n4\\n\\n5\\n\\n5.\\n\\nComplete the rest of the form. *Note: Additional fields/dropdowns will appear based on the selection made in step 4.\\n\\n6.\\n\\nClick on Submit. An incident number (INCXXXXXXX) will be generated, and you will receive a notification via email that the ticket has been raised.\\n\\n© 2021 Jones Lang LaSalle IP, Inc. All rights reserved.\\n\\n6\\n\\n6\\n\\nDealio Support / ServiceNow\\n\\nCheck ticket Status\\n\\nTo check the status of your ticket:\\n\\n1. Click on the “My tickets” link located at the top of your screen.\\n\\n2.\\n\\nBy default, a list of open tickets, state and days of last update will appear on your screen.'),\n",
       " Document(metadata={'source': '/workspaces/rag-virtusa/data/delio/Dealio User Guide.pdf'}, page_content='2023 DEALIO USER GUIDE ©2023 Jones Lang LaSalle, Inc. All rights reserved\\n\\n[Comments]\\n\\nDealio User Guide\\n\\nTABLE OF CONTENTS\\n\\nIntroduction\\n\\nChapter 1: Dealio Access\\n\\nChapter 2: Navigation Menu Bar\\n\\nChapter 3: Manage Deals\\n\\nSearch Deals Search Results Create New Deals\\n\\nChapter 4: General Deal Info Tab\\n\\nDeal Identification Revenue Projection Commission Calculation\\n\\nStandard Commission Calculation % Aggregate Rental Payments Rate Per Square Feet Adjustments\\n\\nDeal Allocation\\n\\nHow To Search for Co-Broker How to Add a Co-Broker How To Add a Client Rebate\\n\\nJLL Broker Allocation\\n\\nHow To Add Professional Inbound Generating Credit Allocation\\n\\nJLL Revenue Summary Adjustment History Deal Info Panel\\n\\nChapter 5: Deal Details Tab\\n\\nTransaction Details\\n\\nHow to Add a Tenant How to Add a Landlord\\n\\nLease Options\\n\\nHow To Add Lease Options\\n\\nProperty\\n\\nProperty Search How To Add New Property\\n\\nLockheed Martin Deals\\n\\nChapter 6: Contact/Survey/Docs Tab\\n\\nSurvey Information\\n\\n4\\n\\n4\\n\\n5\\n\\n5\\n\\n6 10 11\\n\\n12')]"
      ]
     },
     "execution_count": 18,
     "metadata": {},
     "output_type": "execute_result"
    }
   ],
   "source": [
    "db.as_retriever().invoke('What is Delio')"
   ]
  },
  {
   "cell_type": "code",
   "execution_count": 7,
   "metadata": {},
   "outputs": [
    {
     "ename": "ModuleNotFoundError",
     "evalue": "No module named 'cv2.typing'; 'cv2' is not a package",
     "output_type": "error",
     "traceback": [
      "\u001b[0;31m---------------------------------------------------------------------------\u001b[0m",
      "\u001b[0;31mModuleNotFoundError\u001b[0m                       Traceback (most recent call last)",
      "Cell \u001b[0;32mIn[7], line 1\u001b[0m\n\u001b[0;32m----> 1\u001b[0m \u001b[38;5;28;01mimport\u001b[39;00m \u001b[38;5;21;01mcv2\u001b[39;00m\u001b[38;5;21;01m.\u001b[39;00m\u001b[38;5;21;01mtyping\u001b[39;00m\n",
      "\u001b[0;31mModuleNotFoundError\u001b[0m: No module named 'cv2.typing'; 'cv2' is not a package"
     ]
    }
   ],
   "source": [
    "import cv2.typing"
   ]
  },
  {
   "cell_type": "code",
   "execution_count": 1,
   "metadata": {},
   "outputs": [],
   "source": [
    "from typing import Union\n",
    "from langchain_community.document_loaders import TextLoader, PyMuPDFLoader, DirectoryLoader\n",
    "\n",
    "def load_docs(path: str, doc_type: str) -> Union[str, list]:\n",
    "    \"\"\"\n",
    "    Load documents from specified path based on document type.\n",
    "\n",
    "    Args:\n",
    "        path (str): Path to the document(s) or folder containing documents.\n",
    "        doc_type (str): Type of document(s) to load. Supported types are 'text', 'pdf', or 'folder'.\n",
    "\n",
    "    Returns:\n",
    "        Union[str, list]: Loaded document(s) as a string for single documents ('text', 'pdf'),\n",
    "                          or a list of strings for multiple text files ('folder').\n",
    "    \n",
    "    Raises:\n",
    "        ValueError: If an unsupported document type is provided.\n",
    "    \"\"\"\n",
    "    if doc_type == 'text':\n",
    "        loader = TextLoader(path)\n",
    "    elif doc_type == 'pdf':\n",
    "        loader = PyMuPDFLoader(path)\n",
    "    elif doc_type == 'folder':\n",
    "        loader = DirectoryLoader(path, glob=\"**/*.txt\", loader_cls=TextLoader)\n",
    "    else:\n",
    "        raise ValueError(f\"Unsupported document type: {doc_type}\")\n",
    "\n",
    "    loaded = loader.load()\n",
    "    \n",
    "    return loaded\n"
   ]
  },
  {
   "cell_type": "code",
   "execution_count": 2,
   "metadata": {},
   "outputs": [],
   "source": [
    "from langchain_community.document_loaders import TextLoader, PyMuPDFLoader, DirectoryLoader\n",
    "loader = PyMuPDFLoader('data/sample_doc.pdf')"
   ]
  },
  {
   "cell_type": "code",
   "execution_count": 3,
   "metadata": {},
   "outputs": [],
   "source": [
    "from langchain_text_splitters import CharacterTextSplitter\n",
    "\n",
    "text_splitter = CharacterTextSplitter(\n",
    "    separator=\"\\n\\n\",\n",
    "    chunk_size=1000,\n",
    "    chunk_overlap=200,\n",
    "    length_function=len,\n",
    "    is_separator_regex=False,\n",
    ")"
   ]
  },
  {
   "cell_type": "code",
   "execution_count": 4,
   "metadata": {},
   "outputs": [
    {
     "data": {
      "text/plain": [
       "Document(metadata={'source': 'data/sample_doc.pdf', 'file_path': 'data/sample_doc.pdf', 'page': 0, 'total_pages': 8, 'format': 'PDF 1.7', 'title': '', 'author': 'Jaccarino, Marcus', 'subject': '', 'keywords': '', 'creator': 'Microsoft® Word for Microsoft 365', 'producer': 'Microsoft® Word for Microsoft 365', 'creationDate': \"D:20231228181808-05'00'\", 'modDate': \"D:20240104133558+05'30'\", 'trapped': ''}, page_content=' \\n \\n \\nBSC – RhythmCare POC SOW \\nSTATEMENT OF WORK  \\nStatement of Work No. 01 \\nRhythmCare POC \\nBY AND BETWEEN \\nBOSTON SCIENTIFIC CORPORATION \\nAND \\nVIRTUSA CORPORATION \\n \\nThis Statement of Work No 01 (“Statement of Work” or “SOW”), is entered into as of December 26, 2023 (“SOW \\nEffective Date”) pursuant to the Master Services Agreement between Boston Scientific Corporation (the “Client” \\nor “BSC”) and Virtusa Corporation (the “Vendor” or Service Provider”), with an effective date of October 01, \\n2022 (the “Agreement”). For the purpose of this SOW, Client Shall be Boston Scientific Ibérica, S.A., an affiliate \\nof BSC, and this SOW is issued under and subject to the terms and conditions of the agreement between BSC and \\nService Provider. In the event of a conflict between the Agreement and this SOW, the terms and conditions set \\nforth in the Agreement will govern for purposes of this SOW unless otherwise agreed to herein (consistent with \\nSection 1.2 of the Agreement), or as specified in Section 6.1. Capitalized terms used in this SOW have the \\nmeaning assigned in the Agreement unless otherwise defined herein. \\n \\n1. PROJECT TERM \\n \\n1.1 Project Commencement Date: 26-Dec-2023 \\n \\n1.2 Estimated Project Completion Date: 02-Feb-2024, unless earlier terminated or renewed as provided for \\nunder the Agreement. \\n \\n \\n2. SCOPE, SERVICES and DELIVERABLES \\n \\n2.1. In-Scope  \\nThe scope of this SOW is to: \\n• \\nCreate a Proof-Of-Concept (POC) to demonstrate a virtual assistant that can assist the BSC’s field \\nrepresentatives to respond to questions based on current/latest version of IFU (Information for Use) \\nand DFU (Design for Use) documents. \\n• \\nDevelop a Virtual assistant to provide interactive multi-lingual text-based chat experience to the end-\\nuser, with an initial scope to support English & Spanish languages (depending upon multilingual \\nsupport by zammo.ai). \\n• \\nIntegrate a Chatbot experience based on Field Hospital work profiles, limited to FCS (Field Clinical \\nSpecialist). Create a system experience to be enhanced to create additional personas.  \\n• \\nIntegration of the Chatbot and Generative AI models will include manuals & guidelines to be used \\nfrom publicly available Boston Scientific Consulting web content. \\n• \\nDevelopment of the Virtual assistant that is limited to a “responsive web application only” that can be \\nused from mobile and desktop, to ascertain the efficacy of LLMs for the query/response scenarios. \\n')"
      ]
     },
     "execution_count": 4,
     "metadata": {},
     "output_type": "execute_result"
    }
   ],
   "source": [
    "loader.load()[0]"
   ]
  },
  {
   "cell_type": "code",
   "execution_count": 2,
   "metadata": {},
   "outputs": [
    {
     "name": "stderr",
     "output_type": "stream",
     "text": [
      "/home/codespace/.python/current/lib/python3.10/site-packages/tqdm/auto.py:21: TqdmWarning: IProgress not found. Please update jupyter and ipywidgets. See https://ipywidgets.readthedocs.io/en/stable/user_install.html\n",
      "  from .autonotebook import tqdm as notebook_tqdm\n",
      "WARNING: All log messages before absl::InitializeLog() is called are written to STDERR\n",
      "I0000 00:00:1722861925.220695    1921 config.cc:230] gRPC experiments enabled: call_status_override_on_cancellation, event_engine_dns, event_engine_listener, http2_stats_fix, monitoring_experiment, pick_first_new, trace_record_callops, work_serializer_clears_time_cache\n"
     ]
    },
    {
     "ename": "AttributeError",
     "evalue": "'NoneType' object has no attribute 'as_retriever'",
     "output_type": "error",
     "traceback": [
      "\u001b[0;31m---------------------------------------------------------------------------\u001b[0m",
      "\u001b[0;31mAttributeError\u001b[0m                            Traceback (most recent call last)",
      "Cell \u001b[0;32mIn[2], line 25\u001b[0m\n\u001b[1;32m     22\u001b[0m query \u001b[38;5;241m=\u001b[39m \u001b[38;5;124m'\u001b[39m\u001b[38;5;124mwhat is the scope of this SOW\u001b[39m\u001b[38;5;124m'\u001b[39m\n\u001b[1;32m     24\u001b[0m \u001b[38;5;66;03m# Retrieve relevant context from the embedded vector store based on the query\u001b[39;00m\n\u001b[0;32m---> 25\u001b[0m retrieve_context \u001b[38;5;241m=\u001b[39m \u001b[43mretriever\u001b[49m\u001b[38;5;241;43m.\u001b[39;49m\u001b[43mretrive\u001b[49m\u001b[43m(\u001b[49m\u001b[43membedded_vector_store\u001b[49m\u001b[43m,\u001b[49m\u001b[43m \u001b[49m\u001b[43mquery\u001b[49m\u001b[43m,\u001b[49m\u001b[43m \u001b[49m\u001b[43mretrieval_type\u001b[49m\u001b[38;5;241;43m=\u001b[39;49m\u001b[38;5;124;43m'\u001b[39;49m\u001b[38;5;124;43mmmr\u001b[39;49m\u001b[38;5;124;43m'\u001b[39;49m\u001b[43m)\u001b[49m\n\u001b[1;32m     27\u001b[0m \u001b[38;5;66;03m# Define the prompt for the language model\u001b[39;00m\n\u001b[1;32m     28\u001b[0m prompt \u001b[38;5;241m=\u001b[39m prompts\u001b[38;5;241m.\u001b[39m_generate_prompt(query, retrieve_context)\n",
      "File \u001b[0;32m/workspaces/rag-virtusa/retriever/retriever.py:17\u001b[0m, in \u001b[0;36mretrive\u001b[0;34m(db, query, retrieval_type)\u001b[0m\n\u001b[1;32m      2\u001b[0m \u001b[38;5;250m\u001b[39m\u001b[38;5;124;03m\"\"\"\u001b[39;00m\n\u001b[1;32m      3\u001b[0m \u001b[38;5;124;03mRetrieve documents from the database based on the specified retrieval type.\u001b[39;00m\n\u001b[1;32m      4\u001b[0m \n\u001b[0;32m   (...)\u001b[0m\n\u001b[1;32m     14\u001b[0m \u001b[38;5;124;03m    list: List of documents retrieved based on the specified retrieval_type.\u001b[39;00m\n\u001b[1;32m     15\u001b[0m \u001b[38;5;124;03m\"\"\"\u001b[39;00m\n\u001b[1;32m     16\u001b[0m \u001b[38;5;28;01mif\u001b[39;00m retrieval_type \u001b[38;5;241m==\u001b[39m \u001b[38;5;124m'\u001b[39m\u001b[38;5;124mmmr\u001b[39m\u001b[38;5;124m'\u001b[39m:\n\u001b[0;32m---> 17\u001b[0m     retriever \u001b[38;5;241m=\u001b[39m \u001b[43mdb\u001b[49m\u001b[38;5;241;43m.\u001b[39;49m\u001b[43mas_retriever\u001b[49m(search_type\u001b[38;5;241m=\u001b[39m\u001b[38;5;124m'\u001b[39m\u001b[38;5;124mmmr\u001b[39m\u001b[38;5;124m'\u001b[39m)\n\u001b[1;32m     18\u001b[0m     docs \u001b[38;5;241m=\u001b[39m retriever\u001b[38;5;241m.\u001b[39minvoke(query)\n\u001b[1;32m     19\u001b[0m     \u001b[38;5;28;01mreturn\u001b[39;00m docs\n",
      "\u001b[0;31mAttributeError\u001b[0m: 'NoneType' object has no attribute 'as_retriever'"
     ]
    }
   ],
   "source": [
    "# Importing necessary modules and functions from different components\n",
    "from agents import agents\n",
    "from document_loader import loader\n",
    "from embedding import embedding\n",
    "from models import load_model\n",
    "from retriever import retriever\n",
    "from vector_store import create_vector_store\n",
    "from splitter import chunk\n",
    "from tools import tools\n",
    "from prompt_templates import prompts\n",
    "\n",
    "# Load the document pdf/text/folder of docs\n",
    "docs = loader.load_docs('data/sample_doc.pdf', type='pdf')\n",
    "\n",
    "# Split the loaded document into chunks based on character/tokens\n",
    "split_texts = chunk.split(docs, 'character')\n",
    "\n",
    "# Create an embedded vector store from the split texts using the openai/gemini embedding type\n",
    "embedded_vector_store = create_vector_store.create_vector_store(split_texts, embedding_type='gemini')\n",
    "\n",
    "# Define the input query for retrieval\n",
    "query = 'what is the scope of this SOW'\n",
    "\n",
    "# Retrieve relevant context from the embedded vector store based on the query\n",
    "retrieve_context = retriever.retrive(embedded_vector_store, query, retrieval_type='mmr')\n",
    "\n",
    "# Define the prompt for the language model\n",
    "prompt = prompts._generate_prompt(query, retrieve_context)\n",
    "\n",
    "# Load the language model of type 'gemini'/openai\n",
    "llm = load_model.load_llm(type='gemini')\n",
    "\n",
    "# # Invoke the language model with the combined prompt and query to get the output\n",
    "# output = llm.invoke(prompt + query)\n"
   ]
  },
  {
   "cell_type": "code",
   "execution_count": 6,
   "metadata": {},
   "outputs": [
    {
     "data": {
      "text/plain": [
       "VectorStoreRetriever(tags=['Chroma', 'GoogleGenerativeAIEmbeddings'], vectorstore=<langchain_chroma.vectorstores.Chroma object at 0x78f731401c90>)"
      ]
     },
     "execution_count": 6,
     "metadata": {},
     "output_type": "execute_result"
    }
   ],
   "source": []
  },
  {
   "cell_type": "code",
   "execution_count": 15,
   "metadata": {},
   "outputs": [],
   "source": [
    "from langchain.chains import create_history_aware_retriever\n",
    "from langchain_core.prompts import ChatPromptTemplate, MessagesPlaceholder\n",
    "from langchain.chains import create_retrieval_chain\n",
    "from langchain.chains.combine_documents import create_stuff_documents_chain\n",
    "from langchain_core.messages import HumanMessage\n",
    "\n",
    "contextualize_q_system_prompt = \"\"\"Given a chat history and the latest user question \\\n",
    "which might reference context in the chat history, formulate a standalone question \\\n",
    "which can be understood without the chat history. Do NOT answer the question, \\\n",
    "just reformulate it if needed and otherwise return it as is.\"\"\"\n",
    "contextualize_q_prompt = ChatPromptTemplate.from_messages(\n",
    "    [\n",
    "        (\"system\", contextualize_q_system_prompt),\n",
    "        MessagesPlaceholder(\"chat_history\"),\n",
    "        (\"human\", \"{input}\"),\n",
    "    ]\n",
    ")\n",
    "\n",
    "history_aware_retriever = create_history_aware_retriever(\n",
    "    llm, embedded_vector_store.as_retriever(), contextualize_q_prompt\n",
    ")\n",
    "\n",
    "\n",
    "qa_system_prompt = \"\"\"You are an assistant for question-answering tasks. \\\n",
    "Use the following pieces of retrieved context to answer the question. \\\n",
    "If you don't know the answer, just say that you don't know. \\\n",
    "{context}\"\"\"\n",
    "qa_prompt = ChatPromptTemplate.from_messages(\n",
    "    [\n",
    "        (\"system\", qa_system_prompt),\n",
    "        MessagesPlaceholder(\"chat_history\"),\n",
    "        (\"human\", \"{input}\"),\n",
    "    ]\n",
    ")\n",
    "\n",
    "\n",
    "question_answer_chain = create_stuff_documents_chain(llm, qa_prompt)\n",
    "\n",
    "rag_chain = create_retrieval_chain(history_aware_retriever, question_answer_chain)\n",
    "\n",
    "\n",
    "chat_history = []\n",
    "\n",
    "question = \"What is the scope of the project\"\n",
    "ai_msg_1 = rag_chain.invoke({\"input\": question, \"chat_history\": chat_history})\n",
    "chat_history.extend([HumanMessage(content=question), ai_msg_1[\"answer\"]])"
   ]
  },
  {
   "cell_type": "code",
   "execution_count": 17,
   "metadata": {},
   "outputs": [
    {
     "name": "stdout",
     "output_type": "stream",
     "text": [
      "The scope of this SOW is to: \n",
      "* Create a Proof-Of-Concept (POC) to demonstrate a virtual assistant that can assist the BSC’s field representatives to respond to questions based on current/latest version of IFU (Information for Use) and DFU (Design for Use) documents. \n",
      "* Develop a Virtual assistant to provide interactive multi-lingual text-based chat experience to the end-user, with an initial scope to support English & Spanish languages (depending upon multilingual support by zammo.ai). \n",
      "* Integrate a Chatbot experience based on Field Hospital work profiles, limited to FCS (Field Clinical Specialist). Create a system experience to be enhanced to create additional personas.  \n",
      "* Integration of the Chatbot and Generative AI models will include manuals & guidelines to be used from publicly available Boston Scientific Consulting web content. \n",
      "* Development of the Virtual assistant that is limited to a “responsive web application only” that can be used from mobile and desktop, to ascertain the efficacy of LLMs for the query/response scenarios.\n",
      "* Development of a standalone Generative AI application leveraging zammo.ai platform and LLMs available through the zammo.ai platform, limited to document context provided by BSC. \n",
      "* Development will consist of using Open AI, foundation LLMs and other appropriate cloud services available through zammo.ai platform. \n",
      "* Tune the chat responses by working closely with the identified set of POC users and enhance the prompts, guardrails to achieve the outcome based on the feedback by the POC users for a period of two weeks \n",
      "* Reporting of received questions, provided answers and user’s feedback to the response \n",
      "* IFUs and DFUs in scope are the ones available for the following products \n",
      "    * Priority 1: \n",
      "        * LATITUDE Heart Connect \n",
      "        * Cardiac Resynchronization Therapy Defibrillator \n",
      "        * IMAGEREADY™ MR \n",
      "    * Priority 2: (during the Discovery phase, both parties will determine if, and how many of the following products will be in scope)  \n",
      "        * Lux-DX \n",
      "        * Rhythmia HDx \n",
      "        * 3300 LATITUDE programming system \n",
      "\n"
     ]
    }
   ],
   "source": [
    "print(ai_msg_1['answer'])"
   ]
  },
  {
   "cell_type": "code",
   "execution_count": 4,
   "metadata": {},
   "outputs": [],
   "source": [
    "from embedding import embedding\n",
    "import pysqlite3\n",
    "import sys\n",
    "sys.modules['sqlite3'] = sys.modules.pop('pysqlite3')\n",
    "from langchain_chroma import Chroma\n",
    "\n",
    "def create_vector_store(texts, embedding_type):\n",
    "    \"\"\"\n",
    "    Create a vector store from documents based on the specified embedding type.\n",
    "\n",
    "    Args:\n",
    "        texts (list): List of texts to create vectors for.\n",
    "        embedding_type (str): Type of embedding to use. 'open_ai' for OpenAI embeddings,\n",
    "                              'gemini' for Google Generative AI embeddings.\n",
    "\n",
    "    Returns:\n",
    "        Chroma: Vector store created using the specified embedding type.\n",
    "    \n",
    "    Raises:\n",
    "        ValueError: If an unsupported embedding type is provided.\n",
    "    \"\"\"\n",
    "    if embedding_type == 'open_ai':\n",
    "        openai_embedding = embedding.load_embedding('open_ai')\n",
    "        db = Chroma.from_documents(texts, openai_embedding, persist_directory= \"vector_store\")\n",
    "        return db\n",
    "    \n",
    "    elif embedding_type == 'gemini':\n",
    "        gemini_embedding = embedding.load_embedding('gemini')\n",
    "        db = Chroma.from_documents(texts, gemini_embedding, persist_directory= \"vector_store/test.db\")\n",
    "    \n",
    "        return db\n",
    "    \n",
    "    else:\n",
    "        raise ValueError(f\"Unsupported embedding type: {embedding_type}\")\n"
   ]
  },
  {
   "cell_type": "code",
   "execution_count": 5,
   "metadata": {},
   "outputs": [],
   "source": [
    "from embedding import embedding\n",
    "gemini_embedding = embedding.load_embedding('gemini')\n",
    "vectordb = Chroma(persist_directory='./data', embedding_function=gemini_embedding)"
   ]
  },
  {
   "cell_type": "code",
   "execution_count": 6,
   "metadata": {},
   "outputs": [
    {
     "data": {
      "text/plain": [
       "[Document(metadata={'author': 'Jaccarino, Marcus', 'creationDate': \"D:20231228181808-05'00'\", 'creator': 'Microsoft® Word for Microsoft 365', 'file_path': 'data/sample_doc.pdf', 'format': 'PDF 1.7', 'keywords': '', 'modDate': \"D:20240104133558+05'30'\", 'page': 1, 'producer': 'Microsoft® Word for Microsoft 365', 'source': 'data/sample_doc.pdf', 'subject': '', 'title': '', 'total_pages': 8, 'trapped': ''}, page_content='BSC – RhythmCare POC SOW \\n• \\nDevelopment of a standalone Generative AI application leveraging zammo.ai platform and LLMs \\navailable through the zammo.ai platform, limited to document context provided by BSC. \\n• \\nDevelopment will consist of using Open AI, foundation LLMs and other appropriate cloud services \\navailable through zammo.ai platform. \\n• \\nTune the chat responses by working closely with the identified set of POC users and enhance the \\nprompts, guardrails to achieve the outcome based on the feedback by the POC users for a period of two \\nweeks \\n• \\nReporting of received questions, provided answers and user’s feedback to the response \\n• \\nIFUs and DFUs in scope are the ones available for the following products \\n• \\nPriority 1: \\n• \\nLATITUDE Heart Connect \\n• \\nCardiac Resynchronization Therapy Defibrillator \\n• \\nIMAGEREADY™ MR \\n• \\nPriority 2: (during the Discovery phase, both parties will determine if, and how many of the \\nfollowing products will be in scope)  \\n• \\nLux-DX \\n• \\nRhythmia HDx \\n• \\n3300 LATITUDE programming system \\n \\n2.2. Out of scope \\nBelow are the out of scope for this POC: \\n• \\nRedirection to human user agent during/post the conversation with the interactive chatbot. \\n• \\nOffline use of the virtual assistant, when there is no connectivity at the site. \\n• \\nAvailability of the virtual assistant as mobile app or on hand-held devices. \\n• \\nIntegration to partner systems, CRM (Salesforce) or other applications. \\n• \\nImages or videos or process flow diagrams processing  \\n• \\nIVR based interface for the end user interaction \\n• \\nDeployment packages & deployment to UAT or production environments \\n• \\nOptimization of non-functional requirements for performance, latency & concurrency \\n \\n2.3. Assumptions \\n \\n• \\nThis self-service-based virtual assistant can support between two to five products that have adequate \\ndocumentation; to be finalized upon review of the documents by Virtusa.  \\n• \\nBSC will provide well-written product user manuals and guidelines available for usage \\n• \\nUser groups will be available to support as needed, including field clinical specialists  \\n• \\nBSC will issue licenses in accordance with prearranged schedules \\n• \\nBSC shall provide a single point of contact (SPOC) to coordinate with various stakeholders'),\n",
       " Document(metadata={'author': 'Jaccarino, Marcus', 'creationDate': \"D:20231228181808-05'00'\", 'creator': 'Microsoft® Word for Microsoft 365', 'file_path': 'data/sample_doc.pdf', 'format': 'PDF 1.7', 'keywords': '', 'modDate': \"D:20240104133558+05'30'\", 'page': 7, 'producer': 'Microsoft® Word for Microsoft 365', 'source': 'data/sample_doc.pdf', 'subject': '', 'title': '', 'total_pages': 8, 'trapped': ''}, page_content='BSC – RhythmCare POC SOW \\n6.4 Service Provider Restricted Employees (if applicable): \\n• \\nNot Applicable \\n6.5 Subcontractors: \\n \\n• \\nNot Applicable \\n6.6 Contractors: \\n• \\nNot Applicable \\n6.7 Additional Personnel Roles and Responsibilities: \\n• \\nNot Applicable \\n \\n7. ADDITIONAL TERMS \\n \\n7.1 Place of Performance \\n• \\nService Provider staff are largely located in Service Provider US & India offices.   \\n \\n8. SOURCE MATERIAL ESCROW \\n \\nYES \\n \\n9. OTHER TERMS - N/A \\n \\n \\n \\nIN WITNESS WHEREOF, the parties hereto have executed this SOW No. 01 as of the SOW Effective Date. \\n \\n \\n \\nSERVICE PROVIDER \\nBoston Scientific Ibérica, S.A. \\nVIRTUSA CORPORATION \\n \\nBy: \\n_________________________________  \\nBy:  ________________________________  \\n                            \\nName:   \\n \\n \\n \\n \\n       Name: David Moñino Repolles  \\nTitle:                      \\n \\n \\n                     Title: Digital Development Manager EMEA \\n \\nPaul D. Tutun\\nEVP & General Counsel'),\n",
       " Document(metadata={'author': 'Jaccarino, Marcus', 'creationDate': \"D:20231228181808-05'00'\", 'creator': 'Microsoft® Word for Microsoft 365', 'file_path': 'data/sample_doc.pdf', 'format': 'PDF 1.7', 'keywords': '', 'modDate': \"D:20240104133558+05'30'\", 'page': 2, 'producer': 'Microsoft® Word for Microsoft 365', 'source': 'data/sample_doc.pdf', 'subject': '', 'title': '', 'total_pages': 8, 'trapped': ''}, page_content='BSC – RhythmCare POC SOW \\n• \\nBSC business SMEs will be available to provide any clarification on business scenarios related to \\ndownstream applications \\n• \\nBSC Stakeholders will provide sign-off of on deliverables in writing within three business days \\n• \\nWhile response from the LLMs can be in Spanish, the UI itself will have menus, labels & texts only in \\nEnglish \\n• \\nProvide the FCS with an option to rate the responses and provide feedback  \\n• \\nUI rendering is dependent on functionality available in zammo.ai platform.  \\n \\n \\n \\n2.4. Dependencies \\n \\n• \\nBSC shall provide necessary access to the environment prior to any work beginning in accordance with \\nthe set timelines and tools that are required to complete all deliverables provided in this proposal \\n• \\nDedicated time availability of BSC teams for any clarifications on business functions  \\n• \\nAvailability of SME, to help with historical/likely queries & responses, also for assistance with prompt \\nengineering \\n \\n2.5. Solution View \\nFollowing is a schematic representation of the proposed solution for the POC to help site personnel with \\ncontextual responses from the manuals.'),\n",
       " Document(metadata={'author': 'Jaccarino, Marcus', 'creationDate': \"D:20231228181808-05'00'\", 'creator': 'Microsoft® Word for Microsoft 365', 'file_path': 'data/sample_doc.pdf', 'format': 'PDF 1.7', 'keywords': '', 'modDate': \"D:20240104133558+05'30'\", 'page': 3, 'producer': 'Microsoft® Word for Microsoft 365', 'source': 'data/sample_doc.pdf', 'subject': '', 'title': '', 'total_pages': 8, 'trapped': ''}, page_content='BSC – RhythmCare POC SOW \\n \\n \\n \\nSolution Description: \\nThe solution includes a proof-of-concept, treated as a (MVP) or proof of value, which will include the base \\ncomponents to ultimately build on and serve as a comprehensive Self-Service Hospital Support model (end to \\nend) for the field agents and integration with BSC’s Manuals and ultimately other prominent sources on \\nhealthcare. \\n1. Build the Chat web interface in zammo.ai platform to interact with queries that can be answered \\nreferencing the documents identified for the POC \\n2. Using prompt engineering technique, designing inputs for generative AI tools that will produce optimal \\noutputs  \\n3. Integrate zammo.ai with the necessary APIs or various data source \\n4. Test the chatbot across different scenarios and user inputs. Address any issues related to \\nmisunderstandings, ambiguous queries, or system integrations.  \\n5. Iterate on the design based on user feedback. \\n \\n \\n2.6. Services \\nPursuant to the terms and conditions of this SOW, BSC engages Supplier to perform the services \\ndescribed herein and provide the Deliverables, if any, hereinafter set forth. \\nVirtusa agrees to provide following services under this SOW: \\n• \\nImplementation of the in-scope items mentioned in section 2.1 \\n• \\nProject and Program Management \\n• \\nSupport Demo \\n \\n2.7. Deliverable \\n \\n# \\nName \\nDescriptions \\n1 \\nHigh Level \\nSolution document \\nSolution approach and Logical and Technical Architecture. \\n2 \\nStatus Reports \\nWeekly Status reports showing the progress and key issues. Demo sessions. \\n3 \\nHigh Level \\nExecution Plan \\n Solution Approach and Future Roadmap \\n \\n \\n \\n \\n3. Acceptance Criteria \\nThe POC will be reviewed by Client during the review meeting based on the mutually agreed written \\nspecifications or requirements under this SOW (“Acceptance Criteria”). The POC shall be accepted or rejected \\nby Client in writing based on the Acceptance Criteria within a period of three (3) business days (“Acceptance \\nPeriod”) (Client’s acceptance must be documented in writing in a manner accessible to both parties). The accepted \\nrequirements for this POC will form the basis for Client’s acceptance of the Services and Deliverables. In the \\nevent the Deliverable fails to conform to the Acceptance Criteria for such Deliverable (a “Nonconformity”),')]"
      ]
     },
     "execution_count": 6,
     "metadata": {},
     "output_type": "execute_result"
    }
   ],
   "source": [
    "vectordb.as_retriever().invoke('What is delio')"
   ]
  },
  {
   "cell_type": "code",
   "execution_count": 33,
   "metadata": {},
   "outputs": [],
   "source": [
    "from splitter import chunk\n",
    "from document_loader import loader\n",
    "from vector_store import create_vector_store\n",
    "# Load the document pdf/text/folder of docs\n",
    "docs = loader.load_docs('data/sample_doc.pdf', type='pdf')\n",
    "\n",
    "# Split the loaded document into chunks based on character/tokens\n",
    "split_texts = chunk.split(docs, 'character')\n",
    "\n",
    "# Create an embedded vector store from the split texts using the openai/gemini embedding type\n",
    "embedded_vector_store = create_vector_store.create_vector_store(split_texts, embedding_type='gemini')\n"
   ]
  },
  {
   "cell_type": "code",
   "execution_count": 1,
   "metadata": {},
   "outputs": [
    {
     "ename": "NameError",
     "evalue": "name 'embedding' is not defined",
     "output_type": "error",
     "traceback": [
      "\u001b[0;31m---------------------------------------------------------------------------\u001b[0m",
      "\u001b[0;31mNameError\u001b[0m                                 Traceback (most recent call last)",
      "Cell \u001b[0;32mIn[1], line 1\u001b[0m\n\u001b[0;32m----> 1\u001b[0m gemini_embedding \u001b[38;5;241m=\u001b[39m \u001b[43membedding\u001b[49m\u001b[38;5;241m.\u001b[39mload_embedding(\u001b[38;5;124m'\u001b[39m\u001b[38;5;124mgemini\u001b[39m\u001b[38;5;124m'\u001b[39m)\n\u001b[1;32m      2\u001b[0m db \u001b[38;5;241m=\u001b[39m Chroma\u001b[38;5;241m.\u001b[39mfrom_documents(split_texts, gemini_embedding, persist_directory\u001b[38;5;241m=\u001b[39m \u001b[38;5;124m\"\u001b[39m\u001b[38;5;124m./vector_store\u001b[39m\u001b[38;5;124m\"\u001b[39m)\n",
      "\u001b[0;31mNameError\u001b[0m: name 'embedding' is not defined"
     ]
    }
   ],
   "source": [
    "gemini_embedding = embedding.load_embedding('gemini')\n",
    "db = Chroma.from_documents(split_texts, gemini_embedding, persist_directory= \"./vector_store\")"
   ]
  },
  {
   "cell_type": "code",
   "execution_count": 28,
   "metadata": {},
   "outputs": [
    {
     "data": {
      "text/plain": [
       "'./chroma'"
      ]
     },
     "execution_count": 28,
     "metadata": {},
     "output_type": "execute_result"
    }
   ],
   "source": [
    "embedded_vector_store._persist_directory"
   ]
  },
  {
   "cell_type": "code",
   "execution_count": 18,
   "metadata": {},
   "outputs": [
    {
     "name": "stdout",
     "output_type": "stream",
     "text": [
      "The second point in the scope outlines the development of a **multi-lingual text-based virtual assistant**, focusing on these key aspects:\n",
      "\n",
      "* **Interactive Chat:** The virtual assistant will primarily interact with users through a text-based chat interface, similar to popular chatbot experiences.\n",
      "* **Multi-lingual Support:**  It will be capable of understanding and responding in both English and Spanish. However, this is dependent on the capabilities of the \"zammo.ai\" platform they are using. If \"zammo.ai\" doesn't support Spanish, the multi-lingual aspect might be limited.\n",
      "* **Target Users:** While not explicitly stated, the context suggests this virtual assistant is aimed at supporting Boston Scientific's field representatives, helping them access information quickly and efficiently. \n",
      "\n",
      "Essentially, this point highlights the core functionality of the project: a chatbot-like tool that can understand and respond to user queries in multiple languages. \n",
      "\n"
     ]
    }
   ],
   "source": [
    "second_question = \"can you elaborate on the second point\"\n",
    "ai_msg_2 = rag_chain.invoke({\"input\": second_question, \"chat_history\": chat_history})\n",
    "\n",
    "print(ai_msg_2[\"answer\"])"
   ]
  },
  {
   "cell_type": "code",
   "execution_count": 43,
   "metadata": {},
   "outputs": [
    {
     "data": {
      "text/plain": [
       "{'author': 'Jaccarino, Marcus',\n",
       " 'creationDate': \"D:20231228181808-05'00'\",\n",
       " 'creator': 'Microsoft® Word for Microsoft 365',\n",
       " 'file_path': 'data/sample_doc.pdf',\n",
       " 'format': 'PDF 1.7',\n",
       " 'keywords': '',\n",
       " 'modDate': \"D:20240104133558+05'30'\",\n",
       " 'page': 0,\n",
       " 'producer': 'Microsoft® Word for Microsoft 365',\n",
       " 'source': 'data/sample_doc.pdf',\n",
       " 'subject': '',\n",
       " 'title': '',\n",
       " 'total_pages': 8,\n",
       " 'trapped': ''}"
      ]
     },
     "execution_count": 43,
     "metadata": {},
     "output_type": "execute_result"
    }
   ],
   "source": [
    "ai_msg_2['context'][0].metadata"
   ]
  },
  {
   "cell_type": "code",
   "execution_count": null,
   "metadata": {},
   "outputs": [],
   "source": [
    "from langchain.memory import ChatMessageHistory"
   ]
  },
  {
   "cell_type": "code",
   "execution_count": 19,
   "metadata": {},
   "outputs": [],
   "source": [
    "import os\n",
    "from typing import List, Iterable, Any\n",
    "\n",
    "from dotenv import load_dotenv\n",
    "from langchain.memory import ChatMessageHistory\n",
    "from langchain_core.callbacks import CallbackManagerForRetrieverRun\n",
    "from langchain_core.chat_history import BaseChatMessageHistory\n",
    "from langchain_core.documents import Document\n",
    "from langchain_core.output_parsers import StrOutputParser\n",
    "from langchain_core.prompts import ChatPromptTemplate, MessagesPlaceholder\n",
    "from langchain_core.retrievers import BaseRetriever\n",
    "from langchain_core.runnables.history import RunnableWithMessageHistory\n",
    "\n",
    "# from basic_chain import get_model\n",
    "# from rag_chain import make_rag_chain\n",
    "\n",
    "\n",
    "def create_memory_chain(llm, chat_memory):\n",
    "    contextualize_q_system_prompt = \"\"\"Given a chat history and the latest user question \\\n",
    "        which might reference context in the chat history, formulate a standalone question \\\n",
    "        which can be understood without the chat history. Do NOT answer the question, \\\n",
    "        just reformulate it if needed and otherwise return it as is.\"\"\"\n",
    "\n",
    "    contextualize_q_prompt = ChatPromptTemplate.from_messages(\n",
    "        [\n",
    "            (\"system\", contextualize_q_system_prompt),\n",
    "            MessagesPlaceholder(variable_name=\"chat_history\"),\n",
    "            (\"human\", \"{question}\"),\n",
    "        ]\n",
    "    )\n",
    "\n",
    "    runnable = contextualize_q_prompt | llm \n",
    "\n",
    "    def get_session_history(session_id: str) -> BaseChatMessageHistory:\n",
    "        return chat_memory\n",
    "\n",
    "    with_message_history = RunnableWithMessageHistory(\n",
    "        runnable,\n",
    "        get_session_history,\n",
    "        input_messages_key=\"question\",\n",
    "        history_messages_key=\"chat_history\",\n",
    "    )\n",
    "    return with_message_history\n",
    "\n",
    "\n",
    "class SimpleTextRetriever(BaseRetriever):\n",
    "    docs: List[Document]\n",
    "    \"\"\"Documents.\"\"\"\n",
    "\n",
    "    @classmethod\n",
    "    def from_texts(\n",
    "            cls,\n",
    "            texts: Iterable[str],\n",
    "            **kwargs: Any,\n",
    "    ):\n",
    "        docs = [Document(page_content=t) for t in texts]\n",
    "        return cls(docs=docs, **kwargs)\n",
    "\n",
    "    def _get_relevant_documents(\n",
    "            self, query: str, *, run_manager: CallbackManagerForRetrieverRun\n",
    "    ) -> List[Document]:\n",
    "        return self.docs"
   ]
  },
  {
   "cell_type": "code",
   "execution_count": null,
   "metadata": {},
   "outputs": [],
   "source": []
  },
  {
   "cell_type": "code",
   "execution_count": 20,
   "metadata": {},
   "outputs": [
    {
     "data": {
      "text/plain": [
       "RunnableWithMessageHistory(bound=RunnableBinding(bound=RunnableBinding(bound=RunnableAssign(mapper={\n",
       "  chat_history: RunnableBinding(bound=RunnableLambda(_enter_history), config={'run_name': 'load_history'})\n",
       "}), config={'run_name': 'insert_history'})\n",
       "| RunnableBranch(branches=[(RunnableBinding(bound=RunnableLambda(_is_not_async), config={'run_name': 'RunnableWithMessageHistoryInAsyncMode'}), RunnableBinding(bound=ChatPromptTemplate(input_variables=['chat_history', 'question'], input_types={'chat_history': typing.List[typing.Union[langchain_core.messages.ai.AIMessage, langchain_core.messages.human.HumanMessage, langchain_core.messages.chat.ChatMessage, langchain_core.messages.system.SystemMessage, langchain_core.messages.function.FunctionMessage, langchain_core.messages.tool.ToolMessage]]}, messages=[SystemMessagePromptTemplate(prompt=PromptTemplate(input_variables=[], template='Given a chat history and the latest user question         which might reference context in the chat history, formulate a standalone question         which can be understood without the chat history. Do NOT answer the question,         just reformulate it if needed and otherwise return it as is.')), MessagesPlaceholder(variable_name='chat_history'), HumanMessagePromptTemplate(prompt=PromptTemplate(input_variables=['question'], template='{question}'))])\n",
       "  | ChatGoogleGenerativeAI(model='models/gemini-1.5-pro', google_api_key=SecretStr('**********'), temperature=0.0, max_retries=2, client=<google.ai.generativelanguage_v1beta.services.generative_service.client.GenerativeServiceClient object at 0x79dba26550c0>, async_client=<google.ai.generativelanguage_v1beta.services.generative_service.async_client.GenerativeServiceAsyncClient object at 0x79db9c1550c0>, default_metadata=()), config_factories=[<function Runnable.with_alisteners.<locals>.<lambda> at 0x79db7dd70430>]))], default=RunnableBinding(bound=ChatPromptTemplate(input_variables=['chat_history', 'question'], input_types={'chat_history': typing.List[typing.Union[langchain_core.messages.ai.AIMessage, langchain_core.messages.human.HumanMessage, langchain_core.messages.chat.ChatMessage, langchain_core.messages.system.SystemMessage, langchain_core.messages.function.FunctionMessage, langchain_core.messages.tool.ToolMessage]]}, messages=[SystemMessagePromptTemplate(prompt=PromptTemplate(input_variables=[], template='Given a chat history and the latest user question         which might reference context in the chat history, formulate a standalone question         which can be understood without the chat history. Do NOT answer the question,         just reformulate it if needed and otherwise return it as is.')), MessagesPlaceholder(variable_name='chat_history'), HumanMessagePromptTemplate(prompt=PromptTemplate(input_variables=['question'], template='{question}'))])\n",
       "  | ChatGoogleGenerativeAI(model='models/gemini-1.5-pro', google_api_key=SecretStr('**********'), temperature=0.0, max_retries=2, client=<google.ai.generativelanguage_v1beta.services.generative_service.client.GenerativeServiceClient object at 0x79dba26550c0>, async_client=<google.ai.generativelanguage_v1beta.services.generative_service.async_client.GenerativeServiceAsyncClient object at 0x79db9c1550c0>, default_metadata=()), config_factories=[<function Runnable.with_listeners.<locals>.<lambda> at 0x79db7dd70550>])), config={'run_name': 'RunnableWithMessageHistory'}), get_session_history=<function create_memory_chain.<locals>.get_session_history at 0x79db9c376c20>, input_messages_key='question', history_messages_key='chat_history', history_factory_config=[ConfigurableFieldSpec(id='session_id', annotation=<class 'str'>, name='Session ID', description='Unique identifier for a session.', default='', is_shared=True, dependencies=None)])"
      ]
     },
     "execution_count": 20,
     "metadata": {},
     "output_type": "execute_result"
    }
   ],
   "source": [
    "create_memory_chain(llm, chat_memory={})"
   ]
  },
  {
   "cell_type": "code",
   "execution_count": 2,
   "metadata": {},
   "outputs": [],
   "source": [
    "from langchain.chat_models import ChatOpenAI\n",
    "from langchain.memory.chat_message_histories.in_memory import ChatMessageHistory\n",
    "from langchain.schema import messages_from_dict, messages_to_dict\n",
    "from langchain.memory import ConversationBufferMemory\n",
    "from langchain.chains import ConversationalRetrievalChain, ConversationChain\n",
    "import json"
   ]
  },
  {
   "cell_type": "code",
   "execution_count": 5,
   "metadata": {},
   "outputs": [
    {
     "name": "stderr",
     "output_type": "stream",
     "text": [
      "/home/codespace/.python/current/lib/python3.10/site-packages/langchain_core/_api/deprecation.py:139: LangChainDeprecationWarning: The class `ConversationChain` was deprecated in LangChain 0.2.7 and will be removed in 1.0. Use RunnableWithMessageHistory: https://api.python.langchain.com/en/latest/runnables/langchain_core.runnables.history.RunnableWithMessageHistory.html instead.\n",
      "  warn_deprecated(\n"
     ]
    }
   ],
   "source": [
    "original_chain = ConversationChain(\n",
    "    llm=llm,\n",
    "    verbose=True,\n",
    "    memory=ConversationBufferMemory()\n",
    ")"
   ]
  },
  {
   "cell_type": "code",
   "execution_count": null,
   "metadata": {},
   "outputs": [],
   "source": [
    "Chroma(persist_directory='data',embedding_function=embedding)"
   ]
  },
  {
   "cell_type": "code",
   "execution_count": 17,
   "metadata": {},
   "outputs": [
    {
     "name": "stdout",
     "output_type": "stream",
     "text": [
      "\n",
      "\n",
      "\u001b[1m> Entering new ConversationChain chain...\u001b[0m\n",
      "Prompt after formatting:\n",
      "\u001b[32;1m\u001b[1;3mThe following is a friendly conversation between a human and an AI. The AI is talkative and provides lots of specific details from its context. If the AI does not know the answer to a question, it truthfully says it does not know.\n",
      "\n",
      "Current conversation:\n",
      "Human: You are a helpful bot that will answer the user's query\n",
      "                <query>\n",
      "                what is the scope of this SOW\n",
      "                </query>\n",
      "\n",
      "                based on the given context \n",
      "                <context>\n",
      "                [Document(metadata={'author': 'Jaccarino, Marcus', 'creationDate': \"D:20231228181808-05'00'\", 'creator': 'Microsoft® Word for Microsoft 365', 'file_path': 'data/sample_doc.pdf', 'format': 'PDF 1.7', 'keywords': '', 'modDate': \"D:20240104133558+05'30'\", 'page': 0, 'producer': 'Microsoft® Word for Microsoft 365', 'source': 'data/sample_doc.pdf', 'subject': '', 'title': '', 'total_pages': 8, 'trapped': ''}, page_content='BSC – RhythmCare POC SOW \\nSTATEMENT OF WORK  \\nStatement of Work No. 01 \\nRhythmCare POC \\nBY AND BETWEEN \\nBOSTON SCIENTIFIC CORPORATION \\nAND \\nVIRTUSA CORPORATION \\n \\nThis Statement of Work No 01 (“Statement of Work” or “SOW”), is entered into as of December 26, 2023 (“SOW \\nEffective Date”) pursuant to the Master Services Agreement between Boston Scientific Corporation (the “Client” \\nor “BSC”) and Virtusa Corporation (the “Vendor” or Service Provider”), with an effective date of October 01, \\n2022 (the “Agreement”). For the purpose of this SOW, Client Shall be Boston Scientific Ibérica, S.A., an affiliate \\nof BSC, and this SOW is issued under and subject to the terms and conditions of the agreement between BSC and \\nService Provider. In the event of a conflict between the Agreement and this SOW, the terms and conditions set \\nforth in the Agreement will govern for purposes of this SOW unless otherwise agreed to herein (consistent with \\nSection 1.2 of the Agreement), or as specified in Section 6.1. Capitalized terms used in this SOW have the \\nmeaning assigned in the Agreement unless otherwise defined herein. \\n \\n1. PROJECT TERM \\n \\n1.1 Project Commencement Date: 26-Dec-2023 \\n \\n1.2 Estimated Project Completion Date: 02-Feb-2024, unless earlier terminated or renewed as provided for \\nunder the Agreement. \\n \\n \\n2. SCOPE, SERVICES and DELIVERABLES \\n \\n2.1. In-Scope  \\nThe scope of this SOW is to: \\n• \\nCreate a Proof-Of-Concept (POC) to demonstrate a virtual assistant that can assist the BSC’s field \\nrepresentatives to respond to questions based on current/latest version of IFU (Information for Use) \\nand DFU (Design for Use) documents. \\n• \\nDevelop a Virtual assistant to provide interactive multi-lingual text-based chat experience to the end-\\nuser, with an initial scope to support English & Spanish languages (depending upon multilingual \\nsupport by zammo.ai). \\n• \\nIntegrate a Chatbot experience based on Field Hospital work profiles, limited to FCS (Field Clinical \\nSpecialist). Create a system experience to be enhanced to create additional personas.  \\n• \\nIntegration of the Chatbot and Generative AI models will include manuals & guidelines to be used \\nfrom publicly available Boston Scientific Consulting web content. \\n• \\nDevelopment of the Virtual assistant that is limited to a “responsive web application only” that can be \\nused from mobile and desktop, to ascertain the efficacy of LLMs for the query/response scenarios.'), Document(metadata={'author': 'Jaccarino, Marcus', 'creationDate': \"D:20231228181808-05'00'\", 'creator': 'Microsoft® Word for Microsoft 365', 'file_path': 'data/sample_doc.pdf', 'format': 'PDF 1.7', 'keywords': '', 'modDate': \"D:20240104133558+05'30'\", 'page': 4, 'producer': 'Microsoft® Word for Microsoft 365', 'source': 'data/sample_doc.pdf', 'subject': '', 'title': '', 'total_pages': 8, 'trapped': ''}, page_content='BSC – RhythmCare POC SOW \\nService Provider will re-submit the completed work in a mutually agreed upon timely manner and Client will \\nhave another three (3) business days to review the resubmission of the work based on the Acceptance Criteria. \\nAbsent timely receipt by Service Provider of such notice within the Acceptance Period specified above, the \\nDeliverable, or any re-submission thereof, shall be deemed to have been accepted by Client hereunder. \\n \\n \\n4. FEES; EXPENSES; PAYMENT \\n \\n4.1 NEC (Fixed Price model):   \\n \\nVirtusa will invoice BSC based on the fixed payment schedule below. Payment is due and payable \\nper the terms of the Agreement, and Virtusa agrees to follow the BSC accounts payables process. \\n \\nService Description \\nInvoice Date \\nService Fees \\nPOC Services \\n29-Dec-2023 \\n$51,403 \\n \\n \\nThe total amount above is the overall budgeted amount for this SOW \\n \\n• \\nAny changes in staffing will require mutual written agreement of the parties \\n• \\nAny material changes in staffing level (e.g. extended vacation for project team member) and resulting \\nimpact on monthly invoicing amount will be discussed and agreed between both parties \\n• \\nThe entity that will issue the PO and to which Virtusa will send the invoices for this project is:  \\nBoston Scientific Ibérica, S.A. \\nCIF/VAT: A-80401821 \\nAddress: c/ Ribera del Loira 46, Ed 2 \\n28042, Madrid, Spain \\n \\n \\n4.2 Expenses. Expenses shall not exceed 10% of the NEC. Expenses and travel (if any) will need to get pre-\\napproved by the BSC Product Manager. All travel will follow the Client’s Travel Policy and will be billed \\nas actual. \\n \\n4.3 Rate Card: The rate card below will be used for any potential ramp-up/ramp-down for the project. \\n \\nN/A \\n \\n5. ROLES and RESPONSIBILITIES \\n \\n5.1 Service Provider Scrum Team. To accomplish the objectives of this SOW, Service Provider shall provide a \\nteam with the following roles and responsibilities: \\n \\nRoles \\nResponsibilities'), Document(metadata={'author': 'Jaccarino, Marcus', 'creationDate': \"D:20231228181808-05'00'\", 'creator': 'Microsoft® Word for Microsoft 365', 'file_path': 'data/sample_doc.pdf', 'format': 'PDF 1.7', 'keywords': '', 'modDate': \"D:20240104133558+05'30'\", 'page': 7, 'producer': 'Microsoft® Word for Microsoft 365', 'source': 'data/sample_doc.pdf', 'subject': '', 'title': '', 'total_pages': 8, 'trapped': ''}, page_content='BSC – RhythmCare POC SOW \\n6.4 Service Provider Restricted Employees (if applicable): \\n• \\nNot Applicable \\n6.5 Subcontractors: \\n \\n• \\nNot Applicable \\n6.6 Contractors: \\n• \\nNot Applicable \\n6.7 Additional Personnel Roles and Responsibilities: \\n• \\nNot Applicable \\n \\n7. ADDITIONAL TERMS \\n \\n7.1 Place of Performance \\n• \\nService Provider staff are largely located in Service Provider US & India offices.   \\n \\n8. SOURCE MATERIAL ESCROW \\n \\nYES \\n \\n9. OTHER TERMS - N/A \\n \\n \\n \\nIN WITNESS WHEREOF, the parties hereto have executed this SOW No. 01 as of the SOW Effective Date. \\n \\n \\n \\nSERVICE PROVIDER \\nBoston Scientific Ibérica, S.A. \\nVIRTUSA CORPORATION \\n \\nBy: \\n_________________________________  \\nBy:  ________________________________  \\n                            \\nName:   \\n \\n \\n \\n \\n       Name: David Moñino Repolles  \\nTitle:                      \\n \\n \\n                     Title: Digital Development Manager EMEA \\n \\nPaul D. Tutun\\nEVP & General Counsel'), Document(metadata={'author': 'Jaccarino, Marcus', 'creationDate': \"D:20231228181808-05'00'\", 'creator': 'Microsoft® Word for Microsoft 365', 'file_path': 'data/sample_doc.pdf', 'format': 'PDF 1.7', 'keywords': '', 'modDate': \"D:20240104133558+05'30'\", 'page': 6, 'producer': 'Microsoft® Word for Microsoft 365', 'source': 'data/sample_doc.pdf', 'subject': '', 'title': '', 'total_pages': 8, 'trapped': ''}, page_content='BSC – RhythmCare POC SOW \\n \\n5.2.2 \\nClient Responsibilities \\nIn connection with the Services and Deliverables to be provided under this SOW, Client, in addition to its \\nresponsibilities under the Agreement, agrees to fulfill the following obligations.  Client will perform all \\nClient responsibilities and obligations as set forth herein (it being understood and agreed that Vendor’s \\nperformance is expressly conditional on the timely and complete performance of the Client of its \\nobligations herein; the failure of Client to perform any such obligation or responsibility or otherwise to \\nmeet such deadline(s) may entitle Vendor to adjust the project schedule to accommodate the effect of the \\ndelay or make a change request through the Change Request process as set forth above that may result in \\nadditional cost and expense to Client). \\n• \\nClient will appoint a single point of contact who will act as the key interface for the Vendor’s \\nteam.  In addition, Client will provide reasonable access to certain technical staff personnel that \\nhave the necessary knowledge and expertise relating to the project to collaborate with and assist \\nthe Vendor team on resolving project issues. \\n• \\nClient will provide timely and accurate information as requested by Vendor in order to enable \\nVendor the ability to fulfill its responsibilities under this SOW  \\n• \\nClient core team and SMEs will be available for requirements working sessions, meetings, \\nreviews, and decisions \\n• \\nClient business and technical SMEs that have the necessary knowledge and expertise relating \\nto the project will be available to answer questions in a timely manner  \\n• \\nClient decision makers will be available for meetings requiring approvals and to review and \\napprove all deliverables as per the timelines listed in this SOW  \\n• \\nClient shall be responsible for the performance of other contractors or vendors engaged by \\nClient in connection with this Project  \\n• \\nClient shall be responsible for the contractual relationship with third parties contracted by Client \\nand for ensuring that they cooperate with Vendor. In addition, Client will facilitate support to \\nthird party software used by Vendor, with the exception of Vendor tools \\n \\n6. PERSONNEL \\n \\n6.1 Project Managers:  \\n \\nClient:  \\n• \\nJohn Farragher \\n \\n \\nService Provider:  \\n• \\nTBD \\n \\n6.2 Management Team: The Management Team shall facilitate the resolution of disputes, in accordance with \\nthe provisions set forth in the Agreement. \\nClient:  \\n• \\nTon Meuwissen, Enmanuel Cueva \\n \\n \\nService Provider:  \\n• \\nRanjeeta Singh, Client Partner, Chinmay Pradhan, Life Sciences Head \\n \\n6.3 Service Provider Key Personnel (if applicable):  \\n• \\nNot Applicable')]\n",
      "                </context>\n",
      "\n",
      "                remember to answer the question solely based on the given context and you should not make up \n",
      "                answers. Give your response below\n",
      "\n",
      "                Response:\n",
      "    \n",
      "    \n",
      "                \n",
      "AI: The scope of the SOW is to: \n",
      "\n",
      "* Create a Proof-Of-Concept (POC) to demonstrate a virtual assistant that can assist the BSC’s field representatives to respond to questions based on current/latest version of IFU (Information for Use) and DFU (Design for Use) documents. \n",
      "* Develop a Virtual assistant to provide interactive multi-lingual text-based chat experience to the end-user, with an initial scope to support English & Spanish languages (depending upon multilingual support by zammo.ai). \n",
      "* Integrate a Chatbot experience based on Field Hospital work profiles, limited to FCS (Field Clinical Specialist). Create a system experience to be enhanced to create additional personas.  \n",
      "* Integration of the Chatbot and Generative AI models will include manuals & guidelines to be used from publicly available Boston Scientific Consulting web content. \n",
      "* Development of the Virtual assistant that is limited to a “responsive web application only” that can be used from mobile and desktop, to ascertain the efficacy of LLMs for the query/response scenarios. \n",
      "\n",
      "Human: You are a helpful bot that will answer the user's query\n",
      "                <query>\n",
      "                what is the scope of this SOW\n",
      "                </query>\n",
      "\n",
      "                based on the given context \n",
      "                <context>\n",
      "                [Document(metadata={'author': 'Jaccarino, Marcus', 'creationDate': \"D:20231228181808-05'00'\", 'creator': 'Microsoft® Word for Microsoft 365', 'file_path': 'data/sample_doc.pdf', 'format': 'PDF 1.7', 'keywords': '', 'modDate': \"D:20240104133558+05'30'\", 'page': 0, 'producer': 'Microsoft® Word for Microsoft 365', 'source': 'data/sample_doc.pdf', 'subject': '', 'title': '', 'total_pages': 8, 'trapped': ''}, page_content='BSC – RhythmCare POC SOW \\nSTATEMENT OF WORK  \\nStatement of Work No. 01 \\nRhythmCare POC \\nBY AND BETWEEN \\nBOSTON SCIENTIFIC CORPORATION \\nAND \\nVIRTUSA CORPORATION \\n \\nThis Statement of Work No 01 (“Statement of Work” or “SOW”), is entered into as of December 26, 2023 (“SOW \\nEffective Date”) pursuant to the Master Services Agreement between Boston Scientific Corporation (the “Client” \\nor “BSC”) and Virtusa Corporation (the “Vendor” or Service Provider”), with an effective date of October 01, \\n2022 (the “Agreement”). For the purpose of this SOW, Client Shall be Boston Scientific Ibérica, S.A., an affiliate \\nof BSC, and this SOW is issued under and subject to the terms and conditions of the agreement between BSC and \\nService Provider. In the event of a conflict between the Agreement and this SOW, the terms and conditions set \\nforth in the Agreement will govern for purposes of this SOW unless otherwise agreed to herein (consistent with \\nSection 1.2 of the Agreement), or as specified in Section 6.1. Capitalized terms used in this SOW have the \\nmeaning assigned in the Agreement unless otherwise defined herein. \\n \\n1. PROJECT TERM \\n \\n1.1 Project Commencement Date: 26-Dec-2023 \\n \\n1.2 Estimated Project Completion Date: 02-Feb-2024, unless earlier terminated or renewed as provided for \\nunder the Agreement. \\n \\n \\n2. SCOPE, SERVICES and DELIVERABLES \\n \\n2.1. In-Scope  \\nThe scope of this SOW is to: \\n• \\nCreate a Proof-Of-Concept (POC) to demonstrate a virtual assistant that can assist the BSC’s field \\nrepresentatives to respond to questions based on current/latest version of IFU (Information for Use) \\nand DFU (Design for Use) documents. \\n• \\nDevelop a Virtual assistant to provide interactive multi-lingual text-based chat experience to the end-\\nuser, with an initial scope to support English & Spanish languages (depending upon multilingual \\nsupport by zammo.ai). \\n• \\nIntegrate a Chatbot experience based on Field Hospital work profiles, limited to FCS (Field Clinical \\nSpecialist). Create a system experience to be enhanced to create additional personas.  \\n• \\nIntegration of the Chatbot and Generative AI models will include manuals & guidelines to be used \\nfrom publicly available Boston Scientific Consulting web content. \\n• \\nDevelopment of the Virtual assistant that is limited to a “responsive web application only” that can be \\nused from mobile and desktop, to ascertain the efficacy of LLMs for the query/response scenarios.'), Document(metadata={'author': 'Jaccarino, Marcus', 'creationDate': \"D:20231228181808-05'00'\", 'creator': 'Microsoft® Word for Microsoft 365', 'file_path': 'data/sample_doc.pdf', 'format': 'PDF 1.7', 'keywords': '', 'modDate': \"D:20240104133558+05'30'\", 'page': 4, 'producer': 'Microsoft® Word for Microsoft 365', 'source': 'data/sample_doc.pdf', 'subject': '', 'title': '', 'total_pages': 8, 'trapped': ''}, page_content='BSC – RhythmCare POC SOW \\nService Provider will re-submit the completed work in a mutually agreed upon timely manner and Client will \\nhave another three (3) business days to review the resubmission of the work based on the Acceptance Criteria. \\nAbsent timely receipt by Service Provider of such notice within the Acceptance Period specified above, the \\nDeliverable, or any re-submission thereof, shall be deemed to have been accepted by Client hereunder. \\n \\n \\n4. FEES; EXPENSES; PAYMENT \\n \\n4.1 NEC (Fixed Price model):   \\n \\nVirtusa will invoice BSC based on the fixed payment schedule below. Payment is due and payable \\nper the terms of the Agreement, and Virtusa agrees to follow the BSC accounts payables process. \\n \\nService Description \\nInvoice Date \\nService Fees \\nPOC Services \\n29-Dec-2023 \\n$51,403 \\n \\n \\nThe total amount above is the overall budgeted amount for this SOW \\n \\n• \\nAny changes in staffing will require mutual written agreement of the parties \\n• \\nAny material changes in staffing level (e.g. extended vacation for project team member) and resulting \\nimpact on monthly invoicing amount will be discussed and agreed between both parties \\n• \\nThe entity that will issue the PO and to which Virtusa will send the invoices for this project is:  \\nBoston Scientific Ibérica, S.A. \\nCIF/VAT: A-80401821 \\nAddress: c/ Ribera del Loira 46, Ed 2 \\n28042, Madrid, Spain \\n \\n \\n4.2 Expenses. Expenses shall not exceed 10% of the NEC. Expenses and travel (if any) will need to get pre-\\napproved by the BSC Product Manager. All travel will follow the Client’s Travel Policy and will be billed \\nas actual. \\n \\n4.3 Rate Card: The rate card below will be used for any potential ramp-up/ramp-down for the project. \\n \\nN/A \\n \\n5. ROLES and RESPONSIBILITIES \\n \\n5.1 Service Provider Scrum Team. To accomplish the objectives of this SOW, Service Provider shall provide a \\nteam with the following roles and responsibilities: \\n \\nRoles \\nResponsibilities'), Document(metadata={'author': 'Jaccarino, Marcus', 'creationDate': \"D:20231228181808-05'00'\", 'creator': 'Microsoft® Word for Microsoft 365', 'file_path': 'data/sample_doc.pdf', 'format': 'PDF 1.7', 'keywords': '', 'modDate': \"D:20240104133558+05'30'\", 'page': 7, 'producer': 'Microsoft® Word for Microsoft 365', 'source': 'data/sample_doc.pdf', 'subject': '', 'title': '', 'total_pages': 8, 'trapped': ''}, page_content='BSC – RhythmCare POC SOW \\n6.4 Service Provider Restricted Employees (if applicable): \\n• \\nNot Applicable \\n6.5 Subcontractors: \\n \\n• \\nNot Applicable \\n6.6 Contractors: \\n• \\nNot Applicable \\n6.7 Additional Personnel Roles and Responsibilities: \\n• \\nNot Applicable \\n \\n7. ADDITIONAL TERMS \\n \\n7.1 Place of Performance \\n• \\nService Provider staff are largely located in Service Provider US & India offices.   \\n \\n8. SOURCE MATERIAL ESCROW \\n \\nYES \\n \\n9. OTHER TERMS - N/A \\n \\n \\n \\nIN WITNESS WHEREOF, the parties hereto have executed this SOW No. 01 as of the SOW Effective Date. \\n \\n \\n \\nSERVICE PROVIDER \\nBoston Scientific Ibérica, S.A. \\nVIRTUSA CORPORATION \\n \\nBy: \\n_________________________________  \\nBy:  ________________________________  \\n                            \\nName:   \\n \\n \\n \\n \\n       Name: David Moñino Repolles  \\nTitle:                      \\n \\n \\n                     Title: Digital Development Manager EMEA \\n \\nPaul D. Tutun\\nEVP & General Counsel'), Document(metadata={'author': 'Jaccarino, Marcus', 'creationDate': \"D:20231228181808-05'00'\", 'creator': 'Microsoft® Word for Microsoft 365', 'file_path': 'data/sample_doc.pdf', 'format': 'PDF 1.7', 'keywords': '', 'modDate': \"D:20240104133558+05'30'\", 'page': 6, 'producer': 'Microsoft® Word for Microsoft 365', 'source': 'data/sample_doc.pdf', 'subject': '', 'title': '', 'total_pages': 8, 'trapped': ''}, page_content='BSC – RhythmCare POC SOW \\n \\n5.2.2 \\nClient Responsibilities \\nIn connection with the Services and Deliverables to be provided under this SOW, Client, in addition to its \\nresponsibilities under the Agreement, agrees to fulfill the following obligations.  Client will perform all \\nClient responsibilities and obligations as set forth herein (it being understood and agreed that Vendor’s \\nperformance is expressly conditional on the timely and complete performance of the Client of its \\nobligations herein; the failure of Client to perform any such obligation or responsibility or otherwise to \\nmeet such deadline(s) may entitle Vendor to adjust the project schedule to accommodate the effect of the \\ndelay or make a change request through the Change Request process as set forth above that may result in \\nadditional cost and expense to Client). \\n• \\nClient will appoint a single point of contact who will act as the key interface for the Vendor’s \\nteam.  In addition, Client will provide reasonable access to certain technical staff personnel that \\nhave the necessary knowledge and expertise relating to the project to collaborate with and assist \\nthe Vendor team on resolving project issues. \\n• \\nClient will provide timely and accurate information as requested by Vendor in order to enable \\nVendor the ability to fulfill its responsibilities under this SOW  \\n• \\nClient core team and SMEs will be available for requirements working sessions, meetings, \\nreviews, and decisions \\n• \\nClient business and technical SMEs that have the necessary knowledge and expertise relating \\nto the project will be available to answer questions in a timely manner  \\n• \\nClient decision makers will be available for meetings requiring approvals and to review and \\napprove all deliverables as per the timelines listed in this SOW  \\n• \\nClient shall be responsible for the performance of other contractors or vendors engaged by \\nClient in connection with this Project  \\n• \\nClient shall be responsible for the contractual relationship with third parties contracted by Client \\nand for ensuring that they cooperate with Vendor. In addition, Client will facilitate support to \\nthird party software used by Vendor, with the exception of Vendor tools \\n \\n6. PERSONNEL \\n \\n6.1 Project Managers:  \\n \\nClient:  \\n• \\nJohn Farragher \\n \\n \\nService Provider:  \\n• \\nTBD \\n \\n6.2 Management Team: The Management Team shall facilitate the resolution of disputes, in accordance with \\nthe provisions set forth in the Agreement. \\nClient:  \\n• \\nTon Meuwissen, Enmanuel Cueva \\n \\n \\nService Provider:  \\n• \\nRanjeeta Singh, Client Partner, Chinmay Pradhan, Life Sciences Head \\n \\n6.3 Service Provider Key Personnel (if applicable):  \\n• \\nNot Applicable')]\n",
      "                </context>\n",
      "\n",
      "                remember to answer the question solely based on the given context and you should not make up \n",
      "                answers. Give your response below\n",
      "\n",
      "                Response:\n",
      "    \n",
      "    \n",
      "                \n",
      "AI: The scope of the SOW is to: \n",
      "\n",
      "* Create a Proof-Of-Concept (POC) to demonstrate a virtual assistant that can assist the BSC’s field representatives to respond to questions based on current/latest version of IFU (Information for Use) and DFU (Design for Use) documents. \n",
      "* Develop a Virtual assistant to provide interactive multi-lingual text-based chat experience to the end-user, with an initial scope to support English & Spanish languages (depending upon multilingual support by zammo.ai). \n",
      "* Integrate a Chatbot experience based on Field Hospital work profiles, limited to FCS (Field Clinical Specialist). Create a system experience to be enhanced to create additional personas.  \n",
      "* Integration of the Chatbot and Generative AI models will include manuals & guidelines to be used from publicly available Boston Scientific Consulting web content. \n",
      "* Development of the Virtual assistant that is limited to a “responsive web application only” that can be used from mobile and desktop, to ascertain the efficacy of LLMs for the query/response scenarios. \n",
      "\n",
      "Human: You are a helpful bot that will answer the user's query\n",
      "                <query>\n",
      "                what is the scope of this SOW\n",
      "                </query>\n",
      "\n",
      "                based on the given context \n",
      "                <context>\n",
      "                [Document(metadata={'author': 'Jaccarino, Marcus', 'creationDate': \"D:20231228181808-05'00'\", 'creator': 'Microsoft® Word for Microsoft 365', 'file_path': 'data/sample_doc.pdf', 'format': 'PDF 1.7', 'keywords': '', 'modDate': \"D:20240104133558+05'30'\", 'page': 0, 'producer': 'Microsoft® Word for Microsoft 365', 'source': 'data/sample_doc.pdf', 'subject': '', 'title': '', 'total_pages': 8, 'trapped': ''}, page_content='BSC – RhythmCare POC SOW \\nSTATEMENT OF WORK  \\nStatement of Work No. 01 \\nRhythmCare POC \\nBY AND BETWEEN \\nBOSTON SCIENTIFIC CORPORATION \\nAND \\nVIRTUSA CORPORATION \\n \\nThis Statement of Work No 01 (“Statement of Work” or “SOW”), is entered into as of December 26, 2023 (“SOW \\nEffective Date”) pursuant to the Master Services Agreement between Boston Scientific Corporation (the “Client” \\nor “BSC”) and Virtusa Corporation (the “Vendor” or Service Provider”), with an effective date of October 01, \\n2022 (the “Agreement”). For the purpose of this SOW, Client Shall be Boston Scientific Ibérica, S.A., an affiliate \\nof BSC, and this SOW is issued under and subject to the terms and conditions of the agreement between BSC and \\nService Provider. In the event of a conflict between the Agreement and this SOW, the terms and conditions set \\nforth in the Agreement will govern for purposes of this SOW unless otherwise agreed to herein (consistent with \\nSection 1.2 of the Agreement), or as specified in Section 6.1. Capitalized terms used in this SOW have the \\nmeaning assigned in the Agreement unless otherwise defined herein. \\n \\n1. PROJECT TERM \\n \\n1.1 Project Commencement Date: 26-Dec-2023 \\n \\n1.2 Estimated Project Completion Date: 02-Feb-2024, unless earlier terminated or renewed as provided for \\nunder the Agreement. \\n \\n \\n2. SCOPE, SERVICES and DELIVERABLES \\n \\n2.1. In-Scope  \\nThe scope of this SOW is to: \\n• \\nCreate a Proof-Of-Concept (POC) to demonstrate a virtual assistant that can assist the BSC’s field \\nrepresentatives to respond to questions based on current/latest version of IFU (Information for Use) \\nand DFU (Design for Use) documents. \\n• \\nDevelop a Virtual assistant to provide interactive multi-lingual text-based chat experience to the end-\\nuser, with an initial scope to support English & Spanish languages (depending upon multilingual \\nsupport by zammo.ai). \\n• \\nIntegrate a Chatbot experience based on Field Hospital work profiles, limited to FCS (Field Clinical \\nSpecialist). Create a system experience to be enhanced to create additional personas.  \\n• \\nIntegration of the Chatbot and Generative AI models will include manuals & guidelines to be used \\nfrom publicly available Boston Scientific Consulting web content. \\n• \\nDevelopment of the Virtual assistant that is limited to a “responsive web application only” that can be \\nused from mobile and desktop, to ascertain the efficacy of LLMs for the query/response scenarios.'), Document(metadata={'author': 'Jaccarino, Marcus', 'creationDate': \"D:20231228181808-05'00'\", 'creator': 'Microsoft® Word for Microsoft 365', 'file_path': 'data/sample_doc.pdf', 'format': 'PDF 1.7', 'keywords': '', 'modDate': \"D:20240104133558+05'30'\", 'page': 4, 'producer': 'Microsoft® Word for Microsoft 365', 'source': 'data/sample_doc.pdf', 'subject': '', 'title': '', 'total_pages': 8, 'trapped': ''}, page_content='BSC – RhythmCare POC SOW \\nService Provider will re-submit the completed work in a mutually agreed upon timely manner and Client will \\nhave another three (3) business days to review the resubmission of the work based on the Acceptance Criteria. \\nAbsent timely receipt by Service Provider of such notice within the Acceptance Period specified above, the \\nDeliverable, or any re-submission thereof, shall be deemed to have been accepted by Client hereunder. \\n \\n \\n4. FEES; EXPENSES; PAYMENT \\n \\n4.1 NEC (Fixed Price model):   \\n \\nVirtusa will invoice BSC based on the fixed payment schedule below. Payment is due and payable \\nper the terms of the Agreement, and Virtusa agrees to follow the BSC accounts payables process. \\n \\nService Description \\nInvoice Date \\nService Fees \\nPOC Services \\n29-Dec-2023 \\n$51,403 \\n \\n \\nThe total amount above is the overall budgeted amount for this SOW \\n \\n• \\nAny changes in staffing will require mutual written agreement of the parties \\n• \\nAny material changes in staffing level (e.g. extended vacation for project team member) and resulting \\nimpact on monthly invoicing amount will be discussed and agreed between both parties \\n• \\nThe entity that will issue the PO and to which Virtusa will send the invoices for this project is:  \\nBoston Scientific Ibérica, S.A. \\nCIF/VAT: A-80401821 \\nAddress: c/ Ribera del Loira 46, Ed 2 \\n28042, Madrid, Spain \\n \\n \\n4.2 Expenses. Expenses shall not exceed 10% of the NEC. Expenses and travel (if any) will need to get pre-\\napproved by the BSC Product Manager. All travel will follow the Client’s Travel Policy and will be billed \\nas actual. \\n \\n4.3 Rate Card: The rate card below will be used for any potential ramp-up/ramp-down for the project. \\n \\nN/A \\n \\n5. ROLES and RESPONSIBILITIES \\n \\n5.1 Service Provider Scrum Team. To accomplish the objectives of this SOW, Service Provider shall provide a \\nteam with the following roles and responsibilities: \\n \\nRoles \\nResponsibilities'), Document(metadata={'author': 'Jaccarino, Marcus', 'creationDate': \"D:20231228181808-05'00'\", 'creator': 'Microsoft® Word for Microsoft 365', 'file_path': 'data/sample_doc.pdf', 'format': 'PDF 1.7', 'keywords': '', 'modDate': \"D:20240104133558+05'30'\", 'page': 7, 'producer': 'Microsoft® Word for Microsoft 365', 'source': 'data/sample_doc.pdf', 'subject': '', 'title': '', 'total_pages': 8, 'trapped': ''}, page_content='BSC – RhythmCare POC SOW \\n6.4 Service Provider Restricted Employees (if applicable): \\n• \\nNot Applicable \\n6.5 Subcontractors: \\n \\n• \\nNot Applicable \\n6.6 Contractors: \\n• \\nNot Applicable \\n6.7 Additional Personnel Roles and Responsibilities: \\n• \\nNot Applicable \\n \\n7. ADDITIONAL TERMS \\n \\n7.1 Place of Performance \\n• \\nService Provider staff are largely located in Service Provider US & India offices.   \\n \\n8. SOURCE MATERIAL ESCROW \\n \\nYES \\n \\n9. OTHER TERMS - N/A \\n \\n \\n \\nIN WITNESS WHEREOF, the parties hereto have executed this SOW No. 01 as of the SOW Effective Date. \\n \\n \\n \\nSERVICE PROVIDER \\nBoston Scientific Ibérica, S.A. \\nVIRTUSA CORPORATION \\n \\nBy: \\n_________________________________  \\nBy:  ________________________________  \\n                            \\nName:   \\n \\n \\n \\n \\n       Name: David Moñino Repolles  \\nTitle:                      \\n \\n \\n                     Title: Digital Development Manager EMEA \\n \\nPaul D. Tutun\\nEVP & General Counsel'), Document(metadata={'author': 'Jaccarino, Marcus', 'creationDate': \"D:20231228181808-05'00'\", 'creator': 'Microsoft® Word for Microsoft 365', 'file_path': 'data/sample_doc.pdf', 'format': 'PDF 1.7', 'keywords': '', 'modDate': \"D:20240104133558+05'30'\", 'page': 6, 'producer': 'Microsoft® Word for Microsoft 365', 'source': 'data/sample_doc.pdf', 'subject': '', 'title': '', 'total_pages': 8, 'trapped': ''}, page_content='BSC – RhythmCare POC SOW \\n \\n5.2.2 \\nClient Responsibilities \\nIn connection with the Services and Deliverables to be provided under this SOW, Client, in addition to its \\nresponsibilities under the Agreement, agrees to fulfill the following obligations.  Client will perform all \\nClient responsibilities and obligations as set forth herein (it being understood and agreed that Vendor’s \\nperformance is expressly conditional on the timely and complete performance of the Client of its \\nobligations herein; the failure of Client to perform any such obligation or responsibility or otherwise to \\nmeet such deadline(s) may entitle Vendor to adjust the project schedule to accommodate the effect of the \\ndelay or make a change request through the Change Request process as set forth above that may result in \\nadditional cost and expense to Client). \\n• \\nClient will appoint a single point of contact who will act as the key interface for the Vendor’s \\nteam.  In addition, Client will provide reasonable access to certain technical staff personnel that \\nhave the necessary knowledge and expertise relating to the project to collaborate with and assist \\nthe Vendor team on resolving project issues. \\n• \\nClient will provide timely and accurate information as requested by Vendor in order to enable \\nVendor the ability to fulfill its responsibilities under this SOW  \\n• \\nClient core team and SMEs will be available for requirements working sessions, meetings, \\nreviews, and decisions \\n• \\nClient business and technical SMEs that have the necessary knowledge and expertise relating \\nto the project will be available to answer questions in a timely manner  \\n• \\nClient decision makers will be available for meetings requiring approvals and to review and \\napprove all deliverables as per the timelines listed in this SOW  \\n• \\nClient shall be responsible for the performance of other contractors or vendors engaged by \\nClient in connection with this Project  \\n• \\nClient shall be responsible for the contractual relationship with third parties contracted by Client \\nand for ensuring that they cooperate with Vendor. In addition, Client will facilitate support to \\nthird party software used by Vendor, with the exception of Vendor tools \\n \\n6. PERSONNEL \\n \\n6.1 Project Managers:  \\n \\nClient:  \\n• \\nJohn Farragher \\n \\n \\nService Provider:  \\n• \\nTBD \\n \\n6.2 Management Team: The Management Team shall facilitate the resolution of disputes, in accordance with \\nthe provisions set forth in the Agreement. \\nClient:  \\n• \\nTon Meuwissen, Enmanuel Cueva \\n \\n \\nService Provider:  \\n• \\nRanjeeta Singh, Client Partner, Chinmay Pradhan, Life Sciences Head \\n \\n6.3 Service Provider Key Personnel (if applicable):  \\n• \\nNot Applicable')]\n",
      "                </context>\n",
      "\n",
      "                remember to answer the question solely based on the given context and you should not make up \n",
      "                answers. Give your response below\n",
      "\n",
      "                Response:\n",
      "    \n",
      "    \n",
      "                \n",
      "AI:\u001b[0m\n",
      "\n",
      "\u001b[1m> Finished chain.\u001b[0m\n"
     ]
    }
   ],
   "source": [
    "output = original_chain.run(prompt)"
   ]
  },
  {
   "cell_type": "code",
   "execution_count": 18,
   "metadata": {},
   "outputs": [
    {
     "data": {
      "text/plain": [
       "'The scope of the SOW is to: \\n\\n* Create a Proof-Of-Concept (POC) to demonstrate a virtual assistant that can assist the BSC’s field representatives to respond to questions based on current/latest version of IFU (Information for Use) and DFU (Design for Use) documents. \\n* Develop a Virtual assistant to provide interactive multi-lingual text-based chat experience to the end-user, with an initial scope to support English & Spanish languages (depending upon multilingual support by zammo.ai). \\n* Integrate a Chatbot experience based on Field Hospital work profiles, limited to FCS (Field Clinical Specialist). Create a system experience to be enhanced to create additional personas.  \\n* Integration of the Chatbot and Generative AI models will include manuals & guidelines to be used from publicly available Boston Scientific Consulting web content. \\n* Development of the Virtual assistant that is limited to a “responsive web application only” that can be used from mobile and desktop, to ascertain the efficacy of LLMs for the query/response scenarios. \\n'"
      ]
     },
     "execution_count": 18,
     "metadata": {},
     "output_type": "execute_result"
    }
   ],
   "source": [
    "output"
   ]
  },
  {
   "cell_type": "code",
   "execution_count": 9,
   "metadata": {},
   "outputs": [
    {
     "name": "stdout",
     "output_type": "stream",
     "text": [
      "\n",
      "\n",
      "\u001b[1m> Entering new ConversationChain chain...\u001b[0m\n",
      "Prompt after formatting:\n",
      "\u001b[32;1m\u001b[1;3mThe following is a friendly conversation between a human and an AI. The AI is talkative and provides lots of specific details from its context. If the AI does not know the answer to a question, it truthfully says it does not know.\n",
      "\n",
      "Current conversation:\n",
      "Human: You are a helpful bot that will answer the user's query\n",
      "                <query>\n",
      "                what is the scope of this SOW\n",
      "                </query>\n",
      "\n",
      "                based on the given context \n",
      "                <context>\n",
      "                [Document(metadata={'author': 'Jaccarino, Marcus', 'creationDate': \"D:20231228181808-05'00'\", 'creator': 'Microsoft® Word for Microsoft 365', 'file_path': 'data/sample_doc.pdf', 'format': 'PDF 1.7', 'keywords': '', 'modDate': \"D:20240104133558+05'30'\", 'page': 0, 'producer': 'Microsoft® Word for Microsoft 365', 'source': 'data/sample_doc.pdf', 'subject': '', 'title': '', 'total_pages': 8, 'trapped': ''}, page_content='BSC – RhythmCare POC SOW \\nSTATEMENT OF WORK  \\nStatement of Work No. 01 \\nRhythmCare POC \\nBY AND BETWEEN \\nBOSTON SCIENTIFIC CORPORATION \\nAND \\nVIRTUSA CORPORATION \\n \\nThis Statement of Work No 01 (“Statement of Work” or “SOW”), is entered into as of December 26, 2023 (“SOW \\nEffective Date”) pursuant to the Master Services Agreement between Boston Scientific Corporation (the “Client” \\nor “BSC”) and Virtusa Corporation (the “Vendor” or Service Provider”), with an effective date of October 01, \\n2022 (the “Agreement”). For the purpose of this SOW, Client Shall be Boston Scientific Ibérica, S.A., an affiliate \\nof BSC, and this SOW is issued under and subject to the terms and conditions of the agreement between BSC and \\nService Provider. In the event of a conflict between the Agreement and this SOW, the terms and conditions set \\nforth in the Agreement will govern for purposes of this SOW unless otherwise agreed to herein (consistent with \\nSection 1.2 of the Agreement), or as specified in Section 6.1. Capitalized terms used in this SOW have the \\nmeaning assigned in the Agreement unless otherwise defined herein. \\n \\n1. PROJECT TERM \\n \\n1.1 Project Commencement Date: 26-Dec-2023 \\n \\n1.2 Estimated Project Completion Date: 02-Feb-2024, unless earlier terminated or renewed as provided for \\nunder the Agreement. \\n \\n \\n2. SCOPE, SERVICES and DELIVERABLES \\n \\n2.1. In-Scope  \\nThe scope of this SOW is to: \\n• \\nCreate a Proof-Of-Concept (POC) to demonstrate a virtual assistant that can assist the BSC’s field \\nrepresentatives to respond to questions based on current/latest version of IFU (Information for Use) \\nand DFU (Design for Use) documents. \\n• \\nDevelop a Virtual assistant to provide interactive multi-lingual text-based chat experience to the end-\\nuser, with an initial scope to support English & Spanish languages (depending upon multilingual \\nsupport by zammo.ai). \\n• \\nIntegrate a Chatbot experience based on Field Hospital work profiles, limited to FCS (Field Clinical \\nSpecialist). Create a system experience to be enhanced to create additional personas.  \\n• \\nIntegration of the Chatbot and Generative AI models will include manuals & guidelines to be used \\nfrom publicly available Boston Scientific Consulting web content. \\n• \\nDevelopment of the Virtual assistant that is limited to a “responsive web application only” that can be \\nused from mobile and desktop, to ascertain the efficacy of LLMs for the query/response scenarios.'), Document(metadata={'author': 'Jaccarino, Marcus', 'creationDate': \"D:20231228181808-05'00'\", 'creator': 'Microsoft® Word for Microsoft 365', 'file_path': 'data/sample_doc.pdf', 'format': 'PDF 1.7', 'keywords': '', 'modDate': \"D:20240104133558+05'30'\", 'page': 4, 'producer': 'Microsoft® Word for Microsoft 365', 'source': 'data/sample_doc.pdf', 'subject': '', 'title': '', 'total_pages': 8, 'trapped': ''}, page_content='BSC – RhythmCare POC SOW \\nService Provider will re-submit the completed work in a mutually agreed upon timely manner and Client will \\nhave another three (3) business days to review the resubmission of the work based on the Acceptance Criteria. \\nAbsent timely receipt by Service Provider of such notice within the Acceptance Period specified above, the \\nDeliverable, or any re-submission thereof, shall be deemed to have been accepted by Client hereunder. \\n \\n \\n4. FEES; EXPENSES; PAYMENT \\n \\n4.1 NEC (Fixed Price model):   \\n \\nVirtusa will invoice BSC based on the fixed payment schedule below. Payment is due and payable \\nper the terms of the Agreement, and Virtusa agrees to follow the BSC accounts payables process. \\n \\nService Description \\nInvoice Date \\nService Fees \\nPOC Services \\n29-Dec-2023 \\n$51,403 \\n \\n \\nThe total amount above is the overall budgeted amount for this SOW \\n \\n• \\nAny changes in staffing will require mutual written agreement of the parties \\n• \\nAny material changes in staffing level (e.g. extended vacation for project team member) and resulting \\nimpact on monthly invoicing amount will be discussed and agreed between both parties \\n• \\nThe entity that will issue the PO and to which Virtusa will send the invoices for this project is:  \\nBoston Scientific Ibérica, S.A. \\nCIF/VAT: A-80401821 \\nAddress: c/ Ribera del Loira 46, Ed 2 \\n28042, Madrid, Spain \\n \\n \\n4.2 Expenses. Expenses shall not exceed 10% of the NEC. Expenses and travel (if any) will need to get pre-\\napproved by the BSC Product Manager. All travel will follow the Client’s Travel Policy and will be billed \\nas actual. \\n \\n4.3 Rate Card: The rate card below will be used for any potential ramp-up/ramp-down for the project. \\n \\nN/A \\n \\n5. ROLES and RESPONSIBILITIES \\n \\n5.1 Service Provider Scrum Team. To accomplish the objectives of this SOW, Service Provider shall provide a \\nteam with the following roles and responsibilities: \\n \\nRoles \\nResponsibilities'), Document(metadata={'author': 'Jaccarino, Marcus', 'creationDate': \"D:20231228181808-05'00'\", 'creator': 'Microsoft® Word for Microsoft 365', 'file_path': 'data/sample_doc.pdf', 'format': 'PDF 1.7', 'keywords': '', 'modDate': \"D:20240104133558+05'30'\", 'page': 7, 'producer': 'Microsoft® Word for Microsoft 365', 'source': 'data/sample_doc.pdf', 'subject': '', 'title': '', 'total_pages': 8, 'trapped': ''}, page_content='BSC – RhythmCare POC SOW \\n6.4 Service Provider Restricted Employees (if applicable): \\n• \\nNot Applicable \\n6.5 Subcontractors: \\n \\n• \\nNot Applicable \\n6.6 Contractors: \\n• \\nNot Applicable \\n6.7 Additional Personnel Roles and Responsibilities: \\n• \\nNot Applicable \\n \\n7. ADDITIONAL TERMS \\n \\n7.1 Place of Performance \\n• \\nService Provider staff are largely located in Service Provider US & India offices.   \\n \\n8. SOURCE MATERIAL ESCROW \\n \\nYES \\n \\n9. OTHER TERMS - N/A \\n \\n \\n \\nIN WITNESS WHEREOF, the parties hereto have executed this SOW No. 01 as of the SOW Effective Date. \\n \\n \\n \\nSERVICE PROVIDER \\nBoston Scientific Ibérica, S.A. \\nVIRTUSA CORPORATION \\n \\nBy: \\n_________________________________  \\nBy:  ________________________________  \\n                            \\nName:   \\n \\n \\n \\n \\n       Name: David Moñino Repolles  \\nTitle:                      \\n \\n \\n                     Title: Digital Development Manager EMEA \\n \\nPaul D. Tutun\\nEVP & General Counsel'), Document(metadata={'author': 'Jaccarino, Marcus', 'creationDate': \"D:20231228181808-05'00'\", 'creator': 'Microsoft® Word for Microsoft 365', 'file_path': 'data/sample_doc.pdf', 'format': 'PDF 1.7', 'keywords': '', 'modDate': \"D:20240104133558+05'30'\", 'page': 6, 'producer': 'Microsoft® Word for Microsoft 365', 'source': 'data/sample_doc.pdf', 'subject': '', 'title': '', 'total_pages': 8, 'trapped': ''}, page_content='BSC – RhythmCare POC SOW \\n \\n5.2.2 \\nClient Responsibilities \\nIn connection with the Services and Deliverables to be provided under this SOW, Client, in addition to its \\nresponsibilities under the Agreement, agrees to fulfill the following obligations.  Client will perform all \\nClient responsibilities and obligations as set forth herein (it being understood and agreed that Vendor’s \\nperformance is expressly conditional on the timely and complete performance of the Client of its \\nobligations herein; the failure of Client to perform any such obligation or responsibility or otherwise to \\nmeet such deadline(s) may entitle Vendor to adjust the project schedule to accommodate the effect of the \\ndelay or make a change request through the Change Request process as set forth above that may result in \\nadditional cost and expense to Client). \\n• \\nClient will appoint a single point of contact who will act as the key interface for the Vendor’s \\nteam.  In addition, Client will provide reasonable access to certain technical staff personnel that \\nhave the necessary knowledge and expertise relating to the project to collaborate with and assist \\nthe Vendor team on resolving project issues. \\n• \\nClient will provide timely and accurate information as requested by Vendor in order to enable \\nVendor the ability to fulfill its responsibilities under this SOW  \\n• \\nClient core team and SMEs will be available for requirements working sessions, meetings, \\nreviews, and decisions \\n• \\nClient business and technical SMEs that have the necessary knowledge and expertise relating \\nto the project will be available to answer questions in a timely manner  \\n• \\nClient decision makers will be available for meetings requiring approvals and to review and \\napprove all deliverables as per the timelines listed in this SOW  \\n• \\nClient shall be responsible for the performance of other contractors or vendors engaged by \\nClient in connection with this Project  \\n• \\nClient shall be responsible for the contractual relationship with third parties contracted by Client \\nand for ensuring that they cooperate with Vendor. In addition, Client will facilitate support to \\nthird party software used by Vendor, with the exception of Vendor tools \\n \\n6. PERSONNEL \\n \\n6.1 Project Managers:  \\n \\nClient:  \\n• \\nJohn Farragher \\n \\n \\nService Provider:  \\n• \\nTBD \\n \\n6.2 Management Team: The Management Team shall facilitate the resolution of disputes, in accordance with \\nthe provisions set forth in the Agreement. \\nClient:  \\n• \\nTon Meuwissen, Enmanuel Cueva \\n \\n \\nService Provider:  \\n• \\nRanjeeta Singh, Client Partner, Chinmay Pradhan, Life Sciences Head \\n \\n6.3 Service Provider Key Personnel (if applicable):  \\n• \\nNot Applicable')]\n",
      "                </context>\n",
      "\n",
      "                remember to answer the question solely based on the given context and you should not make up \n",
      "                answers. Give your response below\n",
      "\n",
      "                Response:\n",
      "    \n",
      "    \n",
      "                \n",
      "AI: The scope of the SOW is to: \n",
      "\n",
      "* Create a Proof-Of-Concept (POC) to demonstrate a virtual assistant that can assist the BSC’s field representatives to respond to questions based on current/latest version of IFU (Information for Use) and DFU (Design for Use) documents. \n",
      "* Develop a Virtual assistant to provide interactive multi-lingual text-based chat experience to the end-user, with an initial scope to support English & Spanish languages (depending upon multilingual support by zammo.ai). \n",
      "* Integrate a Chatbot experience based on Field Hospital work profiles, limited to FCS (Field Clinical Specialist). Create a system experience to be enhanced to create additional personas.  \n",
      "* Integration of the Chatbot and Generative AI models will include manuals & guidelines to be used from publicly available Boston Scientific Consulting web content. \n",
      "* Development of the Virtual assistant that is limited to a “responsive web application only” that can be used from mobile and desktop, to ascertain the efficacy of LLMs for the query/response scenarios. \n",
      "\n",
      "Human: You are a helpful bot that will answer the user's query\n",
      "                <query>\n",
      "                what is the scope of this SOW\n",
      "                </query>\n",
      "\n",
      "                based on the given context \n",
      "                <context>\n",
      "                [Document(metadata={'author': 'Jaccarino, Marcus', 'creationDate': \"D:20231228181808-05'00'\", 'creator': 'Microsoft® Word for Microsoft 365', 'file_path': 'data/sample_doc.pdf', 'format': 'PDF 1.7', 'keywords': '', 'modDate': \"D:20240104133558+05'30'\", 'page': 0, 'producer': 'Microsoft® Word for Microsoft 365', 'source': 'data/sample_doc.pdf', 'subject': '', 'title': '', 'total_pages': 8, 'trapped': ''}, page_content='BSC – RhythmCare POC SOW \\nSTATEMENT OF WORK  \\nStatement of Work No. 01 \\nRhythmCare POC \\nBY AND BETWEEN \\nBOSTON SCIENTIFIC CORPORATION \\nAND \\nVIRTUSA CORPORATION \\n \\nThis Statement of Work No 01 (“Statement of Work” or “SOW”), is entered into as of December 26, 2023 (“SOW \\nEffective Date”) pursuant to the Master Services Agreement between Boston Scientific Corporation (the “Client” \\nor “BSC”) and Virtusa Corporation (the “Vendor” or Service Provider”), with an effective date of October 01, \\n2022 (the “Agreement”). For the purpose of this SOW, Client Shall be Boston Scientific Ibérica, S.A., an affiliate \\nof BSC, and this SOW is issued under and subject to the terms and conditions of the agreement between BSC and \\nService Provider. In the event of a conflict between the Agreement and this SOW, the terms and conditions set \\nforth in the Agreement will govern for purposes of this SOW unless otherwise agreed to herein (consistent with \\nSection 1.2 of the Agreement), or as specified in Section 6.1. Capitalized terms used in this SOW have the \\nmeaning assigned in the Agreement unless otherwise defined herein. \\n \\n1. PROJECT TERM \\n \\n1.1 Project Commencement Date: 26-Dec-2023 \\n \\n1.2 Estimated Project Completion Date: 02-Feb-2024, unless earlier terminated or renewed as provided for \\nunder the Agreement. \\n \\n \\n2. SCOPE, SERVICES and DELIVERABLES \\n \\n2.1. In-Scope  \\nThe scope of this SOW is to: \\n• \\nCreate a Proof-Of-Concept (POC) to demonstrate a virtual assistant that can assist the BSC’s field \\nrepresentatives to respond to questions based on current/latest version of IFU (Information for Use) \\nand DFU (Design for Use) documents. \\n• \\nDevelop a Virtual assistant to provide interactive multi-lingual text-based chat experience to the end-\\nuser, with an initial scope to support English & Spanish languages (depending upon multilingual \\nsupport by zammo.ai). \\n• \\nIntegrate a Chatbot experience based on Field Hospital work profiles, limited to FCS (Field Clinical \\nSpecialist). Create a system experience to be enhanced to create additional personas.  \\n• \\nIntegration of the Chatbot and Generative AI models will include manuals & guidelines to be used \\nfrom publicly available Boston Scientific Consulting web content. \\n• \\nDevelopment of the Virtual assistant that is limited to a “responsive web application only” that can be \\nused from mobile and desktop, to ascertain the efficacy of LLMs for the query/response scenarios.'), Document(metadata={'author': 'Jaccarino, Marcus', 'creationDate': \"D:20231228181808-05'00'\", 'creator': 'Microsoft® Word for Microsoft 365', 'file_path': 'data/sample_doc.pdf', 'format': 'PDF 1.7', 'keywords': '', 'modDate': \"D:20240104133558+05'30'\", 'page': 4, 'producer': 'Microsoft® Word for Microsoft 365', 'source': 'data/sample_doc.pdf', 'subject': '', 'title': '', 'total_pages': 8, 'trapped': ''}, page_content='BSC – RhythmCare POC SOW \\nService Provider will re-submit the completed work in a mutually agreed upon timely manner and Client will \\nhave another three (3) business days to review the resubmission of the work based on the Acceptance Criteria. \\nAbsent timely receipt by Service Provider of such notice within the Acceptance Period specified above, the \\nDeliverable, or any re-submission thereof, shall be deemed to have been accepted by Client hereunder. \\n \\n \\n4. FEES; EXPENSES; PAYMENT \\n \\n4.1 NEC (Fixed Price model):   \\n \\nVirtusa will invoice BSC based on the fixed payment schedule below. Payment is due and payable \\nper the terms of the Agreement, and Virtusa agrees to follow the BSC accounts payables process. \\n \\nService Description \\nInvoice Date \\nService Fees \\nPOC Services \\n29-Dec-2023 \\n$51,403 \\n \\n \\nThe total amount above is the overall budgeted amount for this SOW \\n \\n• \\nAny changes in staffing will require mutual written agreement of the parties \\n• \\nAny material changes in staffing level (e.g. extended vacation for project team member) and resulting \\nimpact on monthly invoicing amount will be discussed and agreed between both parties \\n• \\nThe entity that will issue the PO and to which Virtusa will send the invoices for this project is:  \\nBoston Scientific Ibérica, S.A. \\nCIF/VAT: A-80401821 \\nAddress: c/ Ribera del Loira 46, Ed 2 \\n28042, Madrid, Spain \\n \\n \\n4.2 Expenses. Expenses shall not exceed 10% of the NEC. Expenses and travel (if any) will need to get pre-\\napproved by the BSC Product Manager. All travel will follow the Client’s Travel Policy and will be billed \\nas actual. \\n \\n4.3 Rate Card: The rate card below will be used for any potential ramp-up/ramp-down for the project. \\n \\nN/A \\n \\n5. ROLES and RESPONSIBILITIES \\n \\n5.1 Service Provider Scrum Team. To accomplish the objectives of this SOW, Service Provider shall provide a \\nteam with the following roles and responsibilities: \\n \\nRoles \\nResponsibilities'), Document(metadata={'author': 'Jaccarino, Marcus', 'creationDate': \"D:20231228181808-05'00'\", 'creator': 'Microsoft® Word for Microsoft 365', 'file_path': 'data/sample_doc.pdf', 'format': 'PDF 1.7', 'keywords': '', 'modDate': \"D:20240104133558+05'30'\", 'page': 7, 'producer': 'Microsoft® Word for Microsoft 365', 'source': 'data/sample_doc.pdf', 'subject': '', 'title': '', 'total_pages': 8, 'trapped': ''}, page_content='BSC – RhythmCare POC SOW \\n6.4 Service Provider Restricted Employees (if applicable): \\n• \\nNot Applicable \\n6.5 Subcontractors: \\n \\n• \\nNot Applicable \\n6.6 Contractors: \\n• \\nNot Applicable \\n6.7 Additional Personnel Roles and Responsibilities: \\n• \\nNot Applicable \\n \\n7. ADDITIONAL TERMS \\n \\n7.1 Place of Performance \\n• \\nService Provider staff are largely located in Service Provider US & India offices.   \\n \\n8. SOURCE MATERIAL ESCROW \\n \\nYES \\n \\n9. OTHER TERMS - N/A \\n \\n \\n \\nIN WITNESS WHEREOF, the parties hereto have executed this SOW No. 01 as of the SOW Effective Date. \\n \\n \\n \\nSERVICE PROVIDER \\nBoston Scientific Ibérica, S.A. \\nVIRTUSA CORPORATION \\n \\nBy: \\n_________________________________  \\nBy:  ________________________________  \\n                            \\nName:   \\n \\n \\n \\n \\n       Name: David Moñino Repolles  \\nTitle:                      \\n \\n \\n                     Title: Digital Development Manager EMEA \\n \\nPaul D. Tutun\\nEVP & General Counsel'), Document(metadata={'author': 'Jaccarino, Marcus', 'creationDate': \"D:20231228181808-05'00'\", 'creator': 'Microsoft® Word for Microsoft 365', 'file_path': 'data/sample_doc.pdf', 'format': 'PDF 1.7', 'keywords': '', 'modDate': \"D:20240104133558+05'30'\", 'page': 6, 'producer': 'Microsoft® Word for Microsoft 365', 'source': 'data/sample_doc.pdf', 'subject': '', 'title': '', 'total_pages': 8, 'trapped': ''}, page_content='BSC – RhythmCare POC SOW \\n \\n5.2.2 \\nClient Responsibilities \\nIn connection with the Services and Deliverables to be provided under this SOW, Client, in addition to its \\nresponsibilities under the Agreement, agrees to fulfill the following obligations.  Client will perform all \\nClient responsibilities and obligations as set forth herein (it being understood and agreed that Vendor’s \\nperformance is expressly conditional on the timely and complete performance of the Client of its \\nobligations herein; the failure of Client to perform any such obligation or responsibility or otherwise to \\nmeet such deadline(s) may entitle Vendor to adjust the project schedule to accommodate the effect of the \\ndelay or make a change request through the Change Request process as set forth above that may result in \\nadditional cost and expense to Client). \\n• \\nClient will appoint a single point of contact who will act as the key interface for the Vendor’s \\nteam.  In addition, Client will provide reasonable access to certain technical staff personnel that \\nhave the necessary knowledge and expertise relating to the project to collaborate with and assist \\nthe Vendor team on resolving project issues. \\n• \\nClient will provide timely and accurate information as requested by Vendor in order to enable \\nVendor the ability to fulfill its responsibilities under this SOW  \\n• \\nClient core team and SMEs will be available for requirements working sessions, meetings, \\nreviews, and decisions \\n• \\nClient business and technical SMEs that have the necessary knowledge and expertise relating \\nto the project will be available to answer questions in a timely manner  \\n• \\nClient decision makers will be available for meetings requiring approvals and to review and \\napprove all deliverables as per the timelines listed in this SOW  \\n• \\nClient shall be responsible for the performance of other contractors or vendors engaged by \\nClient in connection with this Project  \\n• \\nClient shall be responsible for the contractual relationship with third parties contracted by Client \\nand for ensuring that they cooperate with Vendor. In addition, Client will facilitate support to \\nthird party software used by Vendor, with the exception of Vendor tools \\n \\n6. PERSONNEL \\n \\n6.1 Project Managers:  \\n \\nClient:  \\n• \\nJohn Farragher \\n \\n \\nService Provider:  \\n• \\nTBD \\n \\n6.2 Management Team: The Management Team shall facilitate the resolution of disputes, in accordance with \\nthe provisions set forth in the Agreement. \\nClient:  \\n• \\nTon Meuwissen, Enmanuel Cueva \\n \\n \\nService Provider:  \\n• \\nRanjeeta Singh, Client Partner, Chinmay Pradhan, Life Sciences Head \\n \\n6.3 Service Provider Key Personnel (if applicable):  \\n• \\nNot Applicable')]\n",
      "                </context>\n",
      "\n",
      "                remember to answer the question solely based on the given context and you should not make up \n",
      "                answers. Give your response below\n",
      "\n",
      "                Response:\n",
      "    \n",
      "    \n",
      "                \n",
      "AI:\u001b[0m\n",
      "\n",
      "\u001b[1m> Finished chain.\u001b[0m\n"
     ]
    }
   ],
   "source": [
    "original_chain.run(prompt)\n",
    "extracted_messages = original_chain.memory.chat_memory.messages\n",
    "ingest_to_db = messages_to_dict(extracted_messages)"
   ]
  },
  {
   "cell_type": "code",
   "execution_count": 10,
   "metadata": {},
   "outputs": [
    {
     "data": {
      "text/plain": [
       "[{'type': 'human',\n",
       "  'data': {'content': 'You are a helpful bot that will answer the user\\'s query\\n                <query>\\n                what is the scope of this SOW\\n                </query>\\n\\n                based on the given context \\n                <context>\\n                [Document(metadata={\\'author\\': \\'Jaccarino, Marcus\\', \\'creationDate\\': \"D:20231228181808-05\\'00\\'\", \\'creator\\': \\'Microsoft® Word for Microsoft 365\\', \\'file_path\\': \\'data/sample_doc.pdf\\', \\'format\\': \\'PDF 1.7\\', \\'keywords\\': \\'\\', \\'modDate\\': \"D:20240104133558+05\\'30\\'\", \\'page\\': 0, \\'producer\\': \\'Microsoft® Word for Microsoft 365\\', \\'source\\': \\'data/sample_doc.pdf\\', \\'subject\\': \\'\\', \\'title\\': \\'\\', \\'total_pages\\': 8, \\'trapped\\': \\'\\'}, page_content=\\'BSC – RhythmCare POC SOW \\\\nSTATEMENT OF WORK  \\\\nStatement of Work No. 01 \\\\nRhythmCare POC \\\\nBY AND BETWEEN \\\\nBOSTON SCIENTIFIC CORPORATION \\\\nAND \\\\nVIRTUSA CORPORATION \\\\n \\\\nThis Statement of Work No 01 (“Statement of Work” or “SOW”), is entered into as of December 26, 2023 (“SOW \\\\nEffective Date”) pursuant to the Master Services Agreement between Boston Scientific Corporation (the “Client” \\\\nor “BSC”) and Virtusa Corporation (the “Vendor” or Service Provider”), with an effective date of October 01, \\\\n2022 (the “Agreement”). For the purpose of this SOW, Client Shall be Boston Scientific Ibérica, S.A., an affiliate \\\\nof BSC, and this SOW is issued under and subject to the terms and conditions of the agreement between BSC and \\\\nService Provider. In the event of a conflict between the Agreement and this SOW, the terms and conditions set \\\\nforth in the Agreement will govern for purposes of this SOW unless otherwise agreed to herein (consistent with \\\\nSection 1.2 of the Agreement), or as specified in Section 6.1. Capitalized terms used in this SOW have the \\\\nmeaning assigned in the Agreement unless otherwise defined herein. \\\\n \\\\n1. PROJECT TERM \\\\n \\\\n1.1 Project Commencement Date: 26-Dec-2023 \\\\n \\\\n1.2 Estimated Project Completion Date: 02-Feb-2024, unless earlier terminated or renewed as provided for \\\\nunder the Agreement. \\\\n \\\\n \\\\n2. SCOPE, SERVICES and DELIVERABLES \\\\n \\\\n2.1. In-Scope  \\\\nThe scope of this SOW is to: \\\\n• \\\\nCreate a Proof-Of-Concept (POC) to demonstrate a virtual assistant that can assist the BSC’s field \\\\nrepresentatives to respond to questions based on current/latest version of IFU (Information for Use) \\\\nand DFU (Design for Use) documents. \\\\n• \\\\nDevelop a Virtual assistant to provide interactive multi-lingual text-based chat experience to the end-\\\\nuser, with an initial scope to support English & Spanish languages (depending upon multilingual \\\\nsupport by zammo.ai). \\\\n• \\\\nIntegrate a Chatbot experience based on Field Hospital work profiles, limited to FCS (Field Clinical \\\\nSpecialist). Create a system experience to be enhanced to create additional personas.  \\\\n• \\\\nIntegration of the Chatbot and Generative AI models will include manuals & guidelines to be used \\\\nfrom publicly available Boston Scientific Consulting web content. \\\\n• \\\\nDevelopment of the Virtual assistant that is limited to a “responsive web application only” that can be \\\\nused from mobile and desktop, to ascertain the efficacy of LLMs for the query/response scenarios.\\'), Document(metadata={\\'author\\': \\'Jaccarino, Marcus\\', \\'creationDate\\': \"D:20231228181808-05\\'00\\'\", \\'creator\\': \\'Microsoft® Word for Microsoft 365\\', \\'file_path\\': \\'data/sample_doc.pdf\\', \\'format\\': \\'PDF 1.7\\', \\'keywords\\': \\'\\', \\'modDate\\': \"D:20240104133558+05\\'30\\'\", \\'page\\': 4, \\'producer\\': \\'Microsoft® Word for Microsoft 365\\', \\'source\\': \\'data/sample_doc.pdf\\', \\'subject\\': \\'\\', \\'title\\': \\'\\', \\'total_pages\\': 8, \\'trapped\\': \\'\\'}, page_content=\\'BSC – RhythmCare POC SOW \\\\nService Provider will re-submit the completed work in a mutually agreed upon timely manner and Client will \\\\nhave another three (3) business days to review the resubmission of the work based on the Acceptance Criteria. \\\\nAbsent timely receipt by Service Provider of such notice within the Acceptance Period specified above, the \\\\nDeliverable, or any re-submission thereof, shall be deemed to have been accepted by Client hereunder. \\\\n \\\\n \\\\n4. FEES; EXPENSES; PAYMENT \\\\n \\\\n4.1 NEC (Fixed Price model):   \\\\n \\\\nVirtusa will invoice BSC based on the fixed payment schedule below. Payment is due and payable \\\\nper the terms of the Agreement, and Virtusa agrees to follow the BSC accounts payables process. \\\\n \\\\nService Description \\\\nInvoice Date \\\\nService Fees \\\\nPOC Services \\\\n29-Dec-2023 \\\\n$51,403 \\\\n \\\\n \\\\nThe total amount above is the overall budgeted amount for this SOW \\\\n \\\\n• \\\\nAny changes in staffing will require mutual written agreement of the parties \\\\n• \\\\nAny material changes in staffing level (e.g. extended vacation for project team member) and resulting \\\\nimpact on monthly invoicing amount will be discussed and agreed between both parties \\\\n• \\\\nThe entity that will issue the PO and to which Virtusa will send the invoices for this project is:  \\\\nBoston Scientific Ibérica, S.A. \\\\nCIF/VAT: A-80401821 \\\\nAddress: c/ Ribera del Loira 46, Ed 2 \\\\n28042, Madrid, Spain \\\\n \\\\n \\\\n4.2 Expenses. Expenses shall not exceed 10% of the NEC. Expenses and travel (if any) will need to get pre-\\\\napproved by the BSC Product Manager. All travel will follow the Client’s Travel Policy and will be billed \\\\nas actual. \\\\n \\\\n4.3 Rate Card: The rate card below will be used for any potential ramp-up/ramp-down for the project. \\\\n \\\\nN/A \\\\n \\\\n5. ROLES and RESPONSIBILITIES \\\\n \\\\n5.1 Service Provider Scrum Team. To accomplish the objectives of this SOW, Service Provider shall provide a \\\\nteam with the following roles and responsibilities: \\\\n \\\\nRoles \\\\nResponsibilities\\'), Document(metadata={\\'author\\': \\'Jaccarino, Marcus\\', \\'creationDate\\': \"D:20231228181808-05\\'00\\'\", \\'creator\\': \\'Microsoft® Word for Microsoft 365\\', \\'file_path\\': \\'data/sample_doc.pdf\\', \\'format\\': \\'PDF 1.7\\', \\'keywords\\': \\'\\', \\'modDate\\': \"D:20240104133558+05\\'30\\'\", \\'page\\': 7, \\'producer\\': \\'Microsoft® Word for Microsoft 365\\', \\'source\\': \\'data/sample_doc.pdf\\', \\'subject\\': \\'\\', \\'title\\': \\'\\', \\'total_pages\\': 8, \\'trapped\\': \\'\\'}, page_content=\\'BSC – RhythmCare POC SOW \\\\n6.4 Service Provider Restricted Employees (if applicable): \\\\n• \\\\nNot Applicable \\\\n6.5 Subcontractors: \\\\n \\\\n• \\\\nNot Applicable \\\\n6.6 Contractors: \\\\n• \\\\nNot Applicable \\\\n6.7 Additional Personnel Roles and Responsibilities: \\\\n• \\\\nNot Applicable \\\\n \\\\n7. ADDITIONAL TERMS \\\\n \\\\n7.1 Place of Performance \\\\n• \\\\nService Provider staff are largely located in Service Provider US & India offices.   \\\\n \\\\n8. SOURCE MATERIAL ESCROW \\\\n \\\\nYES \\\\n \\\\n9. OTHER TERMS - N/A \\\\n \\\\n \\\\n \\\\nIN WITNESS WHEREOF, the parties hereto have executed this SOW No. 01 as of the SOW Effective Date. \\\\n \\\\n \\\\n \\\\nSERVICE PROVIDER \\\\nBoston Scientific Ibérica, S.A. \\\\nVIRTUSA CORPORATION \\\\n \\\\nBy: \\\\n_________________________________  \\\\nBy:  ________________________________  \\\\n                            \\\\nName:   \\\\n \\\\n \\\\n \\\\n \\\\n       Name: David Moñino Repolles  \\\\nTitle:                      \\\\n \\\\n \\\\n                     Title: Digital Development Manager EMEA \\\\n \\\\nPaul D. Tutun\\\\nEVP & General Counsel\\'), Document(metadata={\\'author\\': \\'Jaccarino, Marcus\\', \\'creationDate\\': \"D:20231228181808-05\\'00\\'\", \\'creator\\': \\'Microsoft® Word for Microsoft 365\\', \\'file_path\\': \\'data/sample_doc.pdf\\', \\'format\\': \\'PDF 1.7\\', \\'keywords\\': \\'\\', \\'modDate\\': \"D:20240104133558+05\\'30\\'\", \\'page\\': 6, \\'producer\\': \\'Microsoft® Word for Microsoft 365\\', \\'source\\': \\'data/sample_doc.pdf\\', \\'subject\\': \\'\\', \\'title\\': \\'\\', \\'total_pages\\': 8, \\'trapped\\': \\'\\'}, page_content=\\'BSC – RhythmCare POC SOW \\\\n \\\\n5.2.2 \\\\nClient Responsibilities \\\\nIn connection with the Services and Deliverables to be provided under this SOW, Client, in addition to its \\\\nresponsibilities under the Agreement, agrees to fulfill the following obligations.  Client will perform all \\\\nClient responsibilities and obligations as set forth herein (it being understood and agreed that Vendor’s \\\\nperformance is expressly conditional on the timely and complete performance of the Client of its \\\\nobligations herein; the failure of Client to perform any such obligation or responsibility or otherwise to \\\\nmeet such deadline(s) may entitle Vendor to adjust the project schedule to accommodate the effect of the \\\\ndelay or make a change request through the Change Request process as set forth above that may result in \\\\nadditional cost and expense to Client). \\\\n• \\\\nClient will appoint a single point of contact who will act as the key interface for the Vendor’s \\\\nteam.  In addition, Client will provide reasonable access to certain technical staff personnel that \\\\nhave the necessary knowledge and expertise relating to the project to collaborate with and assist \\\\nthe Vendor team on resolving project issues. \\\\n• \\\\nClient will provide timely and accurate information as requested by Vendor in order to enable \\\\nVendor the ability to fulfill its responsibilities under this SOW  \\\\n• \\\\nClient core team and SMEs will be available for requirements working sessions, meetings, \\\\nreviews, and decisions \\\\n• \\\\nClient business and technical SMEs that have the necessary knowledge and expertise relating \\\\nto the project will be available to answer questions in a timely manner  \\\\n• \\\\nClient decision makers will be available for meetings requiring approvals and to review and \\\\napprove all deliverables as per the timelines listed in this SOW  \\\\n• \\\\nClient shall be responsible for the performance of other contractors or vendors engaged by \\\\nClient in connection with this Project  \\\\n• \\\\nClient shall be responsible for the contractual relationship with third parties contracted by Client \\\\nand for ensuring that they cooperate with Vendor. In addition, Client will facilitate support to \\\\nthird party software used by Vendor, with the exception of Vendor tools \\\\n \\\\n6. PERSONNEL \\\\n \\\\n6.1 Project Managers:  \\\\n \\\\nClient:  \\\\n• \\\\nJohn Farragher \\\\n \\\\n \\\\nService Provider:  \\\\n• \\\\nTBD \\\\n \\\\n6.2 Management Team: The Management Team shall facilitate the resolution of disputes, in accordance with \\\\nthe provisions set forth in the Agreement. \\\\nClient:  \\\\n• \\\\nTon Meuwissen, Enmanuel Cueva \\\\n \\\\n \\\\nService Provider:  \\\\n• \\\\nRanjeeta Singh, Client Partner, Chinmay Pradhan, Life Sciences Head \\\\n \\\\n6.3 Service Provider Key Personnel (if applicable):  \\\\n• \\\\nNot Applicable\\')]\\n                </context>\\n\\n                remember to answer the question solely based on the given context and you should not make up \\n                answers. Give your response below\\n\\n                Response:\\n    \\n    \\n                ',\n",
       "   'additional_kwargs': {},\n",
       "   'response_metadata': {},\n",
       "   'type': 'human',\n",
       "   'name': None,\n",
       "   'id': None,\n",
       "   'example': False}},\n",
       " {'type': 'ai',\n",
       "  'data': {'content': 'The scope of the SOW is to: \\n\\n* Create a Proof-Of-Concept (POC) to demonstrate a virtual assistant that can assist the BSC’s field representatives to respond to questions based on current/latest version of IFU (Information for Use) and DFU (Design for Use) documents. \\n* Develop a Virtual assistant to provide interactive multi-lingual text-based chat experience to the end-user, with an initial scope to support English & Spanish languages (depending upon multilingual support by zammo.ai). \\n* Integrate a Chatbot experience based on Field Hospital work profiles, limited to FCS (Field Clinical Specialist). Create a system experience to be enhanced to create additional personas.  \\n* Integration of the Chatbot and Generative AI models will include manuals & guidelines to be used from publicly available Boston Scientific Consulting web content. \\n* Development of the Virtual assistant that is limited to a “responsive web application only” that can be used from mobile and desktop, to ascertain the efficacy of LLMs for the query/response scenarios. \\n',\n",
       "   'additional_kwargs': {},\n",
       "   'response_metadata': {},\n",
       "   'type': 'ai',\n",
       "   'name': None,\n",
       "   'id': None,\n",
       "   'example': False,\n",
       "   'tool_calls': [],\n",
       "   'invalid_tool_calls': [],\n",
       "   'usage_metadata': None}},\n",
       " {'type': 'human',\n",
       "  'data': {'content': 'You are a helpful bot that will answer the user\\'s query\\n                <query>\\n                what is the scope of this SOW\\n                </query>\\n\\n                based on the given context \\n                <context>\\n                [Document(metadata={\\'author\\': \\'Jaccarino, Marcus\\', \\'creationDate\\': \"D:20231228181808-05\\'00\\'\", \\'creator\\': \\'Microsoft® Word for Microsoft 365\\', \\'file_path\\': \\'data/sample_doc.pdf\\', \\'format\\': \\'PDF 1.7\\', \\'keywords\\': \\'\\', \\'modDate\\': \"D:20240104133558+05\\'30\\'\", \\'page\\': 0, \\'producer\\': \\'Microsoft® Word for Microsoft 365\\', \\'source\\': \\'data/sample_doc.pdf\\', \\'subject\\': \\'\\', \\'title\\': \\'\\', \\'total_pages\\': 8, \\'trapped\\': \\'\\'}, page_content=\\'BSC – RhythmCare POC SOW \\\\nSTATEMENT OF WORK  \\\\nStatement of Work No. 01 \\\\nRhythmCare POC \\\\nBY AND BETWEEN \\\\nBOSTON SCIENTIFIC CORPORATION \\\\nAND \\\\nVIRTUSA CORPORATION \\\\n \\\\nThis Statement of Work No 01 (“Statement of Work” or “SOW”), is entered into as of December 26, 2023 (“SOW \\\\nEffective Date”) pursuant to the Master Services Agreement between Boston Scientific Corporation (the “Client” \\\\nor “BSC”) and Virtusa Corporation (the “Vendor” or Service Provider”), with an effective date of October 01, \\\\n2022 (the “Agreement”). For the purpose of this SOW, Client Shall be Boston Scientific Ibérica, S.A., an affiliate \\\\nof BSC, and this SOW is issued under and subject to the terms and conditions of the agreement between BSC and \\\\nService Provider. In the event of a conflict between the Agreement and this SOW, the terms and conditions set \\\\nforth in the Agreement will govern for purposes of this SOW unless otherwise agreed to herein (consistent with \\\\nSection 1.2 of the Agreement), or as specified in Section 6.1. Capitalized terms used in this SOW have the \\\\nmeaning assigned in the Agreement unless otherwise defined herein. \\\\n \\\\n1. PROJECT TERM \\\\n \\\\n1.1 Project Commencement Date: 26-Dec-2023 \\\\n \\\\n1.2 Estimated Project Completion Date: 02-Feb-2024, unless earlier terminated or renewed as provided for \\\\nunder the Agreement. \\\\n \\\\n \\\\n2. SCOPE, SERVICES and DELIVERABLES \\\\n \\\\n2.1. In-Scope  \\\\nThe scope of this SOW is to: \\\\n• \\\\nCreate a Proof-Of-Concept (POC) to demonstrate a virtual assistant that can assist the BSC’s field \\\\nrepresentatives to respond to questions based on current/latest version of IFU (Information for Use) \\\\nand DFU (Design for Use) documents. \\\\n• \\\\nDevelop a Virtual assistant to provide interactive multi-lingual text-based chat experience to the end-\\\\nuser, with an initial scope to support English & Spanish languages (depending upon multilingual \\\\nsupport by zammo.ai). \\\\n• \\\\nIntegrate a Chatbot experience based on Field Hospital work profiles, limited to FCS (Field Clinical \\\\nSpecialist). Create a system experience to be enhanced to create additional personas.  \\\\n• \\\\nIntegration of the Chatbot and Generative AI models will include manuals & guidelines to be used \\\\nfrom publicly available Boston Scientific Consulting web content. \\\\n• \\\\nDevelopment of the Virtual assistant that is limited to a “responsive web application only” that can be \\\\nused from mobile and desktop, to ascertain the efficacy of LLMs for the query/response scenarios.\\'), Document(metadata={\\'author\\': \\'Jaccarino, Marcus\\', \\'creationDate\\': \"D:20231228181808-05\\'00\\'\", \\'creator\\': \\'Microsoft® Word for Microsoft 365\\', \\'file_path\\': \\'data/sample_doc.pdf\\', \\'format\\': \\'PDF 1.7\\', \\'keywords\\': \\'\\', \\'modDate\\': \"D:20240104133558+05\\'30\\'\", \\'page\\': 4, \\'producer\\': \\'Microsoft® Word for Microsoft 365\\', \\'source\\': \\'data/sample_doc.pdf\\', \\'subject\\': \\'\\', \\'title\\': \\'\\', \\'total_pages\\': 8, \\'trapped\\': \\'\\'}, page_content=\\'BSC – RhythmCare POC SOW \\\\nService Provider will re-submit the completed work in a mutually agreed upon timely manner and Client will \\\\nhave another three (3) business days to review the resubmission of the work based on the Acceptance Criteria. \\\\nAbsent timely receipt by Service Provider of such notice within the Acceptance Period specified above, the \\\\nDeliverable, or any re-submission thereof, shall be deemed to have been accepted by Client hereunder. \\\\n \\\\n \\\\n4. FEES; EXPENSES; PAYMENT \\\\n \\\\n4.1 NEC (Fixed Price model):   \\\\n \\\\nVirtusa will invoice BSC based on the fixed payment schedule below. Payment is due and payable \\\\nper the terms of the Agreement, and Virtusa agrees to follow the BSC accounts payables process. \\\\n \\\\nService Description \\\\nInvoice Date \\\\nService Fees \\\\nPOC Services \\\\n29-Dec-2023 \\\\n$51,403 \\\\n \\\\n \\\\nThe total amount above is the overall budgeted amount for this SOW \\\\n \\\\n• \\\\nAny changes in staffing will require mutual written agreement of the parties \\\\n• \\\\nAny material changes in staffing level (e.g. extended vacation for project team member) and resulting \\\\nimpact on monthly invoicing amount will be discussed and agreed between both parties \\\\n• \\\\nThe entity that will issue the PO and to which Virtusa will send the invoices for this project is:  \\\\nBoston Scientific Ibérica, S.A. \\\\nCIF/VAT: A-80401821 \\\\nAddress: c/ Ribera del Loira 46, Ed 2 \\\\n28042, Madrid, Spain \\\\n \\\\n \\\\n4.2 Expenses. Expenses shall not exceed 10% of the NEC. Expenses and travel (if any) will need to get pre-\\\\napproved by the BSC Product Manager. All travel will follow the Client’s Travel Policy and will be billed \\\\nas actual. \\\\n \\\\n4.3 Rate Card: The rate card below will be used for any potential ramp-up/ramp-down for the project. \\\\n \\\\nN/A \\\\n \\\\n5. ROLES and RESPONSIBILITIES \\\\n \\\\n5.1 Service Provider Scrum Team. To accomplish the objectives of this SOW, Service Provider shall provide a \\\\nteam with the following roles and responsibilities: \\\\n \\\\nRoles \\\\nResponsibilities\\'), Document(metadata={\\'author\\': \\'Jaccarino, Marcus\\', \\'creationDate\\': \"D:20231228181808-05\\'00\\'\", \\'creator\\': \\'Microsoft® Word for Microsoft 365\\', \\'file_path\\': \\'data/sample_doc.pdf\\', \\'format\\': \\'PDF 1.7\\', \\'keywords\\': \\'\\', \\'modDate\\': \"D:20240104133558+05\\'30\\'\", \\'page\\': 7, \\'producer\\': \\'Microsoft® Word for Microsoft 365\\', \\'source\\': \\'data/sample_doc.pdf\\', \\'subject\\': \\'\\', \\'title\\': \\'\\', \\'total_pages\\': 8, \\'trapped\\': \\'\\'}, page_content=\\'BSC – RhythmCare POC SOW \\\\n6.4 Service Provider Restricted Employees (if applicable): \\\\n• \\\\nNot Applicable \\\\n6.5 Subcontractors: \\\\n \\\\n• \\\\nNot Applicable \\\\n6.6 Contractors: \\\\n• \\\\nNot Applicable \\\\n6.7 Additional Personnel Roles and Responsibilities: \\\\n• \\\\nNot Applicable \\\\n \\\\n7. ADDITIONAL TERMS \\\\n \\\\n7.1 Place of Performance \\\\n• \\\\nService Provider staff are largely located in Service Provider US & India offices.   \\\\n \\\\n8. SOURCE MATERIAL ESCROW \\\\n \\\\nYES \\\\n \\\\n9. OTHER TERMS - N/A \\\\n \\\\n \\\\n \\\\nIN WITNESS WHEREOF, the parties hereto have executed this SOW No. 01 as of the SOW Effective Date. \\\\n \\\\n \\\\n \\\\nSERVICE PROVIDER \\\\nBoston Scientific Ibérica, S.A. \\\\nVIRTUSA CORPORATION \\\\n \\\\nBy: \\\\n_________________________________  \\\\nBy:  ________________________________  \\\\n                            \\\\nName:   \\\\n \\\\n \\\\n \\\\n \\\\n       Name: David Moñino Repolles  \\\\nTitle:                      \\\\n \\\\n \\\\n                     Title: Digital Development Manager EMEA \\\\n \\\\nPaul D. Tutun\\\\nEVP & General Counsel\\'), Document(metadata={\\'author\\': \\'Jaccarino, Marcus\\', \\'creationDate\\': \"D:20231228181808-05\\'00\\'\", \\'creator\\': \\'Microsoft® Word for Microsoft 365\\', \\'file_path\\': \\'data/sample_doc.pdf\\', \\'format\\': \\'PDF 1.7\\', \\'keywords\\': \\'\\', \\'modDate\\': \"D:20240104133558+05\\'30\\'\", \\'page\\': 6, \\'producer\\': \\'Microsoft® Word for Microsoft 365\\', \\'source\\': \\'data/sample_doc.pdf\\', \\'subject\\': \\'\\', \\'title\\': \\'\\', \\'total_pages\\': 8, \\'trapped\\': \\'\\'}, page_content=\\'BSC – RhythmCare POC SOW \\\\n \\\\n5.2.2 \\\\nClient Responsibilities \\\\nIn connection with the Services and Deliverables to be provided under this SOW, Client, in addition to its \\\\nresponsibilities under the Agreement, agrees to fulfill the following obligations.  Client will perform all \\\\nClient responsibilities and obligations as set forth herein (it being understood and agreed that Vendor’s \\\\nperformance is expressly conditional on the timely and complete performance of the Client of its \\\\nobligations herein; the failure of Client to perform any such obligation or responsibility or otherwise to \\\\nmeet such deadline(s) may entitle Vendor to adjust the project schedule to accommodate the effect of the \\\\ndelay or make a change request through the Change Request process as set forth above that may result in \\\\nadditional cost and expense to Client). \\\\n• \\\\nClient will appoint a single point of contact who will act as the key interface for the Vendor’s \\\\nteam.  In addition, Client will provide reasonable access to certain technical staff personnel that \\\\nhave the necessary knowledge and expertise relating to the project to collaborate with and assist \\\\nthe Vendor team on resolving project issues. \\\\n• \\\\nClient will provide timely and accurate information as requested by Vendor in order to enable \\\\nVendor the ability to fulfill its responsibilities under this SOW  \\\\n• \\\\nClient core team and SMEs will be available for requirements working sessions, meetings, \\\\nreviews, and decisions \\\\n• \\\\nClient business and technical SMEs that have the necessary knowledge and expertise relating \\\\nto the project will be available to answer questions in a timely manner  \\\\n• \\\\nClient decision makers will be available for meetings requiring approvals and to review and \\\\napprove all deliverables as per the timelines listed in this SOW  \\\\n• \\\\nClient shall be responsible for the performance of other contractors or vendors engaged by \\\\nClient in connection with this Project  \\\\n• \\\\nClient shall be responsible for the contractual relationship with third parties contracted by Client \\\\nand for ensuring that they cooperate with Vendor. In addition, Client will facilitate support to \\\\nthird party software used by Vendor, with the exception of Vendor tools \\\\n \\\\n6. PERSONNEL \\\\n \\\\n6.1 Project Managers:  \\\\n \\\\nClient:  \\\\n• \\\\nJohn Farragher \\\\n \\\\n \\\\nService Provider:  \\\\n• \\\\nTBD \\\\n \\\\n6.2 Management Team: The Management Team shall facilitate the resolution of disputes, in accordance with \\\\nthe provisions set forth in the Agreement. \\\\nClient:  \\\\n• \\\\nTon Meuwissen, Enmanuel Cueva \\\\n \\\\n \\\\nService Provider:  \\\\n• \\\\nRanjeeta Singh, Client Partner, Chinmay Pradhan, Life Sciences Head \\\\n \\\\n6.3 Service Provider Key Personnel (if applicable):  \\\\n• \\\\nNot Applicable\\')]\\n                </context>\\n\\n                remember to answer the question solely based on the given context and you should not make up \\n                answers. Give your response below\\n\\n                Response:\\n    \\n    \\n                ',\n",
       "   'additional_kwargs': {},\n",
       "   'response_metadata': {},\n",
       "   'type': 'human',\n",
       "   'name': None,\n",
       "   'id': None,\n",
       "   'example': False}},\n",
       " {'type': 'ai',\n",
       "  'data': {'content': 'The scope of the SOW is to: \\n\\n* Create a Proof-Of-Concept (POC) to demonstrate a virtual assistant that can assist the BSC’s field representatives to respond to questions based on current/latest version of IFU (Information for Use) and DFU (Design for Use) documents. \\n* Develop a Virtual assistant to provide interactive multi-lingual text-based chat experience to the end-user, with an initial scope to support English & Spanish languages (depending upon multilingual support by zammo.ai). \\n* Integrate a Chatbot experience based on Field Hospital work profiles, limited to FCS (Field Clinical Specialist). Create a system experience to be enhanced to create additional personas.  \\n* Integration of the Chatbot and Generative AI models will include manuals & guidelines to be used from publicly available Boston Scientific Consulting web content. \\n* Development of the Virtual assistant that is limited to a “responsive web application only” that can be used from mobile and desktop, to ascertain the efficacy of LLMs for the query/response scenarios. \\n',\n",
       "   'additional_kwargs': {},\n",
       "   'response_metadata': {},\n",
       "   'type': 'ai',\n",
       "   'name': None,\n",
       "   'id': None,\n",
       "   'example': False,\n",
       "   'tool_calls': [],\n",
       "   'invalid_tool_calls': [],\n",
       "   'usage_metadata': None}}]"
      ]
     },
     "execution_count": 10,
     "metadata": {},
     "output_type": "execute_result"
    }
   ],
   "source": [
    "ingest_to_db"
   ]
  },
  {
   "cell_type": "code",
   "execution_count": 15,
   "metadata": {},
   "outputs": [],
   "source": [
    "message = messages_from_dict(ingest_to_db)"
   ]
  },
  {
   "cell_type": "code",
   "execution_count": 16,
   "metadata": {},
   "outputs": [
    {
     "data": {
      "text/plain": [
       "InMemoryChatMessageHistory(messages=[HumanMessage(content='You are a helpful bot that will answer the user\\'s query\\n                <query>\\n                what is the scope of this SOW\\n                </query>\\n\\n                based on the given context \\n                <context>\\n                [Document(metadata={\\'author\\': \\'Jaccarino, Marcus\\', \\'creationDate\\': \"D:20231228181808-05\\'00\\'\", \\'creator\\': \\'Microsoft® Word for Microsoft 365\\', \\'file_path\\': \\'data/sample_doc.pdf\\', \\'format\\': \\'PDF 1.7\\', \\'keywords\\': \\'\\', \\'modDate\\': \"D:20240104133558+05\\'30\\'\", \\'page\\': 0, \\'producer\\': \\'Microsoft® Word for Microsoft 365\\', \\'source\\': \\'data/sample_doc.pdf\\', \\'subject\\': \\'\\', \\'title\\': \\'\\', \\'total_pages\\': 8, \\'trapped\\': \\'\\'}, page_content=\\'BSC – RhythmCare POC SOW \\\\nSTATEMENT OF WORK  \\\\nStatement of Work No. 01 \\\\nRhythmCare POC \\\\nBY AND BETWEEN \\\\nBOSTON SCIENTIFIC CORPORATION \\\\nAND \\\\nVIRTUSA CORPORATION \\\\n \\\\nThis Statement of Work No 01 (“Statement of Work” or “SOW”), is entered into as of December 26, 2023 (“SOW \\\\nEffective Date”) pursuant to the Master Services Agreement between Boston Scientific Corporation (the “Client” \\\\nor “BSC”) and Virtusa Corporation (the “Vendor” or Service Provider”), with an effective date of October 01, \\\\n2022 (the “Agreement”). For the purpose of this SOW, Client Shall be Boston Scientific Ibérica, S.A., an affiliate \\\\nof BSC, and this SOW is issued under and subject to the terms and conditions of the agreement between BSC and \\\\nService Provider. In the event of a conflict between the Agreement and this SOW, the terms and conditions set \\\\nforth in the Agreement will govern for purposes of this SOW unless otherwise agreed to herein (consistent with \\\\nSection 1.2 of the Agreement), or as specified in Section 6.1. Capitalized terms used in this SOW have the \\\\nmeaning assigned in the Agreement unless otherwise defined herein. \\\\n \\\\n1. PROJECT TERM \\\\n \\\\n1.1 Project Commencement Date: 26-Dec-2023 \\\\n \\\\n1.2 Estimated Project Completion Date: 02-Feb-2024, unless earlier terminated or renewed as provided for \\\\nunder the Agreement. \\\\n \\\\n \\\\n2. SCOPE, SERVICES and DELIVERABLES \\\\n \\\\n2.1. In-Scope  \\\\nThe scope of this SOW is to: \\\\n• \\\\nCreate a Proof-Of-Concept (POC) to demonstrate a virtual assistant that can assist the BSC’s field \\\\nrepresentatives to respond to questions based on current/latest version of IFU (Information for Use) \\\\nand DFU (Design for Use) documents. \\\\n• \\\\nDevelop a Virtual assistant to provide interactive multi-lingual text-based chat experience to the end-\\\\nuser, with an initial scope to support English & Spanish languages (depending upon multilingual \\\\nsupport by zammo.ai). \\\\n• \\\\nIntegrate a Chatbot experience based on Field Hospital work profiles, limited to FCS (Field Clinical \\\\nSpecialist). Create a system experience to be enhanced to create additional personas.  \\\\n• \\\\nIntegration of the Chatbot and Generative AI models will include manuals & guidelines to be used \\\\nfrom publicly available Boston Scientific Consulting web content. \\\\n• \\\\nDevelopment of the Virtual assistant that is limited to a “responsive web application only” that can be \\\\nused from mobile and desktop, to ascertain the efficacy of LLMs for the query/response scenarios.\\'), Document(metadata={\\'author\\': \\'Jaccarino, Marcus\\', \\'creationDate\\': \"D:20231228181808-05\\'00\\'\", \\'creator\\': \\'Microsoft® Word for Microsoft 365\\', \\'file_path\\': \\'data/sample_doc.pdf\\', \\'format\\': \\'PDF 1.7\\', \\'keywords\\': \\'\\', \\'modDate\\': \"D:20240104133558+05\\'30\\'\", \\'page\\': 4, \\'producer\\': \\'Microsoft® Word for Microsoft 365\\', \\'source\\': \\'data/sample_doc.pdf\\', \\'subject\\': \\'\\', \\'title\\': \\'\\', \\'total_pages\\': 8, \\'trapped\\': \\'\\'}, page_content=\\'BSC – RhythmCare POC SOW \\\\nService Provider will re-submit the completed work in a mutually agreed upon timely manner and Client will \\\\nhave another three (3) business days to review the resubmission of the work based on the Acceptance Criteria. \\\\nAbsent timely receipt by Service Provider of such notice within the Acceptance Period specified above, the \\\\nDeliverable, or any re-submission thereof, shall be deemed to have been accepted by Client hereunder. \\\\n \\\\n \\\\n4. FEES; EXPENSES; PAYMENT \\\\n \\\\n4.1 NEC (Fixed Price model):   \\\\n \\\\nVirtusa will invoice BSC based on the fixed payment schedule below. Payment is due and payable \\\\nper the terms of the Agreement, and Virtusa agrees to follow the BSC accounts payables process. \\\\n \\\\nService Description \\\\nInvoice Date \\\\nService Fees \\\\nPOC Services \\\\n29-Dec-2023 \\\\n$51,403 \\\\n \\\\n \\\\nThe total amount above is the overall budgeted amount for this SOW \\\\n \\\\n• \\\\nAny changes in staffing will require mutual written agreement of the parties \\\\n• \\\\nAny material changes in staffing level (e.g. extended vacation for project team member) and resulting \\\\nimpact on monthly invoicing amount will be discussed and agreed between both parties \\\\n• \\\\nThe entity that will issue the PO and to which Virtusa will send the invoices for this project is:  \\\\nBoston Scientific Ibérica, S.A. \\\\nCIF/VAT: A-80401821 \\\\nAddress: c/ Ribera del Loira 46, Ed 2 \\\\n28042, Madrid, Spain \\\\n \\\\n \\\\n4.2 Expenses. Expenses shall not exceed 10% of the NEC. Expenses and travel (if any) will need to get pre-\\\\napproved by the BSC Product Manager. All travel will follow the Client’s Travel Policy and will be billed \\\\nas actual. \\\\n \\\\n4.3 Rate Card: The rate card below will be used for any potential ramp-up/ramp-down for the project. \\\\n \\\\nN/A \\\\n \\\\n5. ROLES and RESPONSIBILITIES \\\\n \\\\n5.1 Service Provider Scrum Team. To accomplish the objectives of this SOW, Service Provider shall provide a \\\\nteam with the following roles and responsibilities: \\\\n \\\\nRoles \\\\nResponsibilities\\'), Document(metadata={\\'author\\': \\'Jaccarino, Marcus\\', \\'creationDate\\': \"D:20231228181808-05\\'00\\'\", \\'creator\\': \\'Microsoft® Word for Microsoft 365\\', \\'file_path\\': \\'data/sample_doc.pdf\\', \\'format\\': \\'PDF 1.7\\', \\'keywords\\': \\'\\', \\'modDate\\': \"D:20240104133558+05\\'30\\'\", \\'page\\': 7, \\'producer\\': \\'Microsoft® Word for Microsoft 365\\', \\'source\\': \\'data/sample_doc.pdf\\', \\'subject\\': \\'\\', \\'title\\': \\'\\', \\'total_pages\\': 8, \\'trapped\\': \\'\\'}, page_content=\\'BSC – RhythmCare POC SOW \\\\n6.4 Service Provider Restricted Employees (if applicable): \\\\n• \\\\nNot Applicable \\\\n6.5 Subcontractors: \\\\n \\\\n• \\\\nNot Applicable \\\\n6.6 Contractors: \\\\n• \\\\nNot Applicable \\\\n6.7 Additional Personnel Roles and Responsibilities: \\\\n• \\\\nNot Applicable \\\\n \\\\n7. ADDITIONAL TERMS \\\\n \\\\n7.1 Place of Performance \\\\n• \\\\nService Provider staff are largely located in Service Provider US & India offices.   \\\\n \\\\n8. SOURCE MATERIAL ESCROW \\\\n \\\\nYES \\\\n \\\\n9. OTHER TERMS - N/A \\\\n \\\\n \\\\n \\\\nIN WITNESS WHEREOF, the parties hereto have executed this SOW No. 01 as of the SOW Effective Date. \\\\n \\\\n \\\\n \\\\nSERVICE PROVIDER \\\\nBoston Scientific Ibérica, S.A. \\\\nVIRTUSA CORPORATION \\\\n \\\\nBy: \\\\n_________________________________  \\\\nBy:  ________________________________  \\\\n                            \\\\nName:   \\\\n \\\\n \\\\n \\\\n \\\\n       Name: David Moñino Repolles  \\\\nTitle:                      \\\\n \\\\n \\\\n                     Title: Digital Development Manager EMEA \\\\n \\\\nPaul D. Tutun\\\\nEVP & General Counsel\\'), Document(metadata={\\'author\\': \\'Jaccarino, Marcus\\', \\'creationDate\\': \"D:20231228181808-05\\'00\\'\", \\'creator\\': \\'Microsoft® Word for Microsoft 365\\', \\'file_path\\': \\'data/sample_doc.pdf\\', \\'format\\': \\'PDF 1.7\\', \\'keywords\\': \\'\\', \\'modDate\\': \"D:20240104133558+05\\'30\\'\", \\'page\\': 6, \\'producer\\': \\'Microsoft® Word for Microsoft 365\\', \\'source\\': \\'data/sample_doc.pdf\\', \\'subject\\': \\'\\', \\'title\\': \\'\\', \\'total_pages\\': 8, \\'trapped\\': \\'\\'}, page_content=\\'BSC – RhythmCare POC SOW \\\\n \\\\n5.2.2 \\\\nClient Responsibilities \\\\nIn connection with the Services and Deliverables to be provided under this SOW, Client, in addition to its \\\\nresponsibilities under the Agreement, agrees to fulfill the following obligations.  Client will perform all \\\\nClient responsibilities and obligations as set forth herein (it being understood and agreed that Vendor’s \\\\nperformance is expressly conditional on the timely and complete performance of the Client of its \\\\nobligations herein; the failure of Client to perform any such obligation or responsibility or otherwise to \\\\nmeet such deadline(s) may entitle Vendor to adjust the project schedule to accommodate the effect of the \\\\ndelay or make a change request through the Change Request process as set forth above that may result in \\\\nadditional cost and expense to Client). \\\\n• \\\\nClient will appoint a single point of contact who will act as the key interface for the Vendor’s \\\\nteam.  In addition, Client will provide reasonable access to certain technical staff personnel that \\\\nhave the necessary knowledge and expertise relating to the project to collaborate with and assist \\\\nthe Vendor team on resolving project issues. \\\\n• \\\\nClient will provide timely and accurate information as requested by Vendor in order to enable \\\\nVendor the ability to fulfill its responsibilities under this SOW  \\\\n• \\\\nClient core team and SMEs will be available for requirements working sessions, meetings, \\\\nreviews, and decisions \\\\n• \\\\nClient business and technical SMEs that have the necessary knowledge and expertise relating \\\\nto the project will be available to answer questions in a timely manner  \\\\n• \\\\nClient decision makers will be available for meetings requiring approvals and to review and \\\\napprove all deliverables as per the timelines listed in this SOW  \\\\n• \\\\nClient shall be responsible for the performance of other contractors or vendors engaged by \\\\nClient in connection with this Project  \\\\n• \\\\nClient shall be responsible for the contractual relationship with third parties contracted by Client \\\\nand for ensuring that they cooperate with Vendor. In addition, Client will facilitate support to \\\\nthird party software used by Vendor, with the exception of Vendor tools \\\\n \\\\n6. PERSONNEL \\\\n \\\\n6.1 Project Managers:  \\\\n \\\\nClient:  \\\\n• \\\\nJohn Farragher \\\\n \\\\n \\\\nService Provider:  \\\\n• \\\\nTBD \\\\n \\\\n6.2 Management Team: The Management Team shall facilitate the resolution of disputes, in accordance with \\\\nthe provisions set forth in the Agreement. \\\\nClient:  \\\\n• \\\\nTon Meuwissen, Enmanuel Cueva \\\\n \\\\n \\\\nService Provider:  \\\\n• \\\\nRanjeeta Singh, Client Partner, Chinmay Pradhan, Life Sciences Head \\\\n \\\\n6.3 Service Provider Key Personnel (if applicable):  \\\\n• \\\\nNot Applicable\\')]\\n                </context>\\n\\n                remember to answer the question solely based on the given context and you should not make up \\n                answers. Give your response below\\n\\n                Response:\\n    \\n    \\n                '), AIMessage(content='The scope of the SOW is to: \\n\\n* Create a Proof-Of-Concept (POC) to demonstrate a virtual assistant that can assist the BSC’s field representatives to respond to questions based on current/latest version of IFU (Information for Use) and DFU (Design for Use) documents. \\n* Develop a Virtual assistant to provide interactive multi-lingual text-based chat experience to the end-user, with an initial scope to support English & Spanish languages (depending upon multilingual support by zammo.ai). \\n* Integrate a Chatbot experience based on Field Hospital work profiles, limited to FCS (Field Clinical Specialist). Create a system experience to be enhanced to create additional personas.  \\n* Integration of the Chatbot and Generative AI models will include manuals & guidelines to be used from publicly available Boston Scientific Consulting web content. \\n* Development of the Virtual assistant that is limited to a “responsive web application only” that can be used from mobile and desktop, to ascertain the efficacy of LLMs for the query/response scenarios. \\n'), HumanMessage(content='You are a helpful bot that will answer the user\\'s query\\n                <query>\\n                what is the scope of this SOW\\n                </query>\\n\\n                based on the given context \\n                <context>\\n                [Document(metadata={\\'author\\': \\'Jaccarino, Marcus\\', \\'creationDate\\': \"D:20231228181808-05\\'00\\'\", \\'creator\\': \\'Microsoft® Word for Microsoft 365\\', \\'file_path\\': \\'data/sample_doc.pdf\\', \\'format\\': \\'PDF 1.7\\', \\'keywords\\': \\'\\', \\'modDate\\': \"D:20240104133558+05\\'30\\'\", \\'page\\': 0, \\'producer\\': \\'Microsoft® Word for Microsoft 365\\', \\'source\\': \\'data/sample_doc.pdf\\', \\'subject\\': \\'\\', \\'title\\': \\'\\', \\'total_pages\\': 8, \\'trapped\\': \\'\\'}, page_content=\\'BSC – RhythmCare POC SOW \\\\nSTATEMENT OF WORK  \\\\nStatement of Work No. 01 \\\\nRhythmCare POC \\\\nBY AND BETWEEN \\\\nBOSTON SCIENTIFIC CORPORATION \\\\nAND \\\\nVIRTUSA CORPORATION \\\\n \\\\nThis Statement of Work No 01 (“Statement of Work” or “SOW”), is entered into as of December 26, 2023 (“SOW \\\\nEffective Date”) pursuant to the Master Services Agreement between Boston Scientific Corporation (the “Client” \\\\nor “BSC”) and Virtusa Corporation (the “Vendor” or Service Provider”), with an effective date of October 01, \\\\n2022 (the “Agreement”). For the purpose of this SOW, Client Shall be Boston Scientific Ibérica, S.A., an affiliate \\\\nof BSC, and this SOW is issued under and subject to the terms and conditions of the agreement between BSC and \\\\nService Provider. In the event of a conflict between the Agreement and this SOW, the terms and conditions set \\\\nforth in the Agreement will govern for purposes of this SOW unless otherwise agreed to herein (consistent with \\\\nSection 1.2 of the Agreement), or as specified in Section 6.1. Capitalized terms used in this SOW have the \\\\nmeaning assigned in the Agreement unless otherwise defined herein. \\\\n \\\\n1. PROJECT TERM \\\\n \\\\n1.1 Project Commencement Date: 26-Dec-2023 \\\\n \\\\n1.2 Estimated Project Completion Date: 02-Feb-2024, unless earlier terminated or renewed as provided for \\\\nunder the Agreement. \\\\n \\\\n \\\\n2. SCOPE, SERVICES and DELIVERABLES \\\\n \\\\n2.1. In-Scope  \\\\nThe scope of this SOW is to: \\\\n• \\\\nCreate a Proof-Of-Concept (POC) to demonstrate a virtual assistant that can assist the BSC’s field \\\\nrepresentatives to respond to questions based on current/latest version of IFU (Information for Use) \\\\nand DFU (Design for Use) documents. \\\\n• \\\\nDevelop a Virtual assistant to provide interactive multi-lingual text-based chat experience to the end-\\\\nuser, with an initial scope to support English & Spanish languages (depending upon multilingual \\\\nsupport by zammo.ai). \\\\n• \\\\nIntegrate a Chatbot experience based on Field Hospital work profiles, limited to FCS (Field Clinical \\\\nSpecialist). Create a system experience to be enhanced to create additional personas.  \\\\n• \\\\nIntegration of the Chatbot and Generative AI models will include manuals & guidelines to be used \\\\nfrom publicly available Boston Scientific Consulting web content. \\\\n• \\\\nDevelopment of the Virtual assistant that is limited to a “responsive web application only” that can be \\\\nused from mobile and desktop, to ascertain the efficacy of LLMs for the query/response scenarios.\\'), Document(metadata={\\'author\\': \\'Jaccarino, Marcus\\', \\'creationDate\\': \"D:20231228181808-05\\'00\\'\", \\'creator\\': \\'Microsoft® Word for Microsoft 365\\', \\'file_path\\': \\'data/sample_doc.pdf\\', \\'format\\': \\'PDF 1.7\\', \\'keywords\\': \\'\\', \\'modDate\\': \"D:20240104133558+05\\'30\\'\", \\'page\\': 4, \\'producer\\': \\'Microsoft® Word for Microsoft 365\\', \\'source\\': \\'data/sample_doc.pdf\\', \\'subject\\': \\'\\', \\'title\\': \\'\\', \\'total_pages\\': 8, \\'trapped\\': \\'\\'}, page_content=\\'BSC – RhythmCare POC SOW \\\\nService Provider will re-submit the completed work in a mutually agreed upon timely manner and Client will \\\\nhave another three (3) business days to review the resubmission of the work based on the Acceptance Criteria. \\\\nAbsent timely receipt by Service Provider of such notice within the Acceptance Period specified above, the \\\\nDeliverable, or any re-submission thereof, shall be deemed to have been accepted by Client hereunder. \\\\n \\\\n \\\\n4. FEES; EXPENSES; PAYMENT \\\\n \\\\n4.1 NEC (Fixed Price model):   \\\\n \\\\nVirtusa will invoice BSC based on the fixed payment schedule below. Payment is due and payable \\\\nper the terms of the Agreement, and Virtusa agrees to follow the BSC accounts payables process. \\\\n \\\\nService Description \\\\nInvoice Date \\\\nService Fees \\\\nPOC Services \\\\n29-Dec-2023 \\\\n$51,403 \\\\n \\\\n \\\\nThe total amount above is the overall budgeted amount for this SOW \\\\n \\\\n• \\\\nAny changes in staffing will require mutual written agreement of the parties \\\\n• \\\\nAny material changes in staffing level (e.g. extended vacation for project team member) and resulting \\\\nimpact on monthly invoicing amount will be discussed and agreed between both parties \\\\n• \\\\nThe entity that will issue the PO and to which Virtusa will send the invoices for this project is:  \\\\nBoston Scientific Ibérica, S.A. \\\\nCIF/VAT: A-80401821 \\\\nAddress: c/ Ribera del Loira 46, Ed 2 \\\\n28042, Madrid, Spain \\\\n \\\\n \\\\n4.2 Expenses. Expenses shall not exceed 10% of the NEC. Expenses and travel (if any) will need to get pre-\\\\napproved by the BSC Product Manager. All travel will follow the Client’s Travel Policy and will be billed \\\\nas actual. \\\\n \\\\n4.3 Rate Card: The rate card below will be used for any potential ramp-up/ramp-down for the project. \\\\n \\\\nN/A \\\\n \\\\n5. ROLES and RESPONSIBILITIES \\\\n \\\\n5.1 Service Provider Scrum Team. To accomplish the objectives of this SOW, Service Provider shall provide a \\\\nteam with the following roles and responsibilities: \\\\n \\\\nRoles \\\\nResponsibilities\\'), Document(metadata={\\'author\\': \\'Jaccarino, Marcus\\', \\'creationDate\\': \"D:20231228181808-05\\'00\\'\", \\'creator\\': \\'Microsoft® Word for Microsoft 365\\', \\'file_path\\': \\'data/sample_doc.pdf\\', \\'format\\': \\'PDF 1.7\\', \\'keywords\\': \\'\\', \\'modDate\\': \"D:20240104133558+05\\'30\\'\", \\'page\\': 7, \\'producer\\': \\'Microsoft® Word for Microsoft 365\\', \\'source\\': \\'data/sample_doc.pdf\\', \\'subject\\': \\'\\', \\'title\\': \\'\\', \\'total_pages\\': 8, \\'trapped\\': \\'\\'}, page_content=\\'BSC – RhythmCare POC SOW \\\\n6.4 Service Provider Restricted Employees (if applicable): \\\\n• \\\\nNot Applicable \\\\n6.5 Subcontractors: \\\\n \\\\n• \\\\nNot Applicable \\\\n6.6 Contractors: \\\\n• \\\\nNot Applicable \\\\n6.7 Additional Personnel Roles and Responsibilities: \\\\n• \\\\nNot Applicable \\\\n \\\\n7. ADDITIONAL TERMS \\\\n \\\\n7.1 Place of Performance \\\\n• \\\\nService Provider staff are largely located in Service Provider US & India offices.   \\\\n \\\\n8. SOURCE MATERIAL ESCROW \\\\n \\\\nYES \\\\n \\\\n9. OTHER TERMS - N/A \\\\n \\\\n \\\\n \\\\nIN WITNESS WHEREOF, the parties hereto have executed this SOW No. 01 as of the SOW Effective Date. \\\\n \\\\n \\\\n \\\\nSERVICE PROVIDER \\\\nBoston Scientific Ibérica, S.A. \\\\nVIRTUSA CORPORATION \\\\n \\\\nBy: \\\\n_________________________________  \\\\nBy:  ________________________________  \\\\n                            \\\\nName:   \\\\n \\\\n \\\\n \\\\n \\\\n       Name: David Moñino Repolles  \\\\nTitle:                      \\\\n \\\\n \\\\n                     Title: Digital Development Manager EMEA \\\\n \\\\nPaul D. Tutun\\\\nEVP & General Counsel\\'), Document(metadata={\\'author\\': \\'Jaccarino, Marcus\\', \\'creationDate\\': \"D:20231228181808-05\\'00\\'\", \\'creator\\': \\'Microsoft® Word for Microsoft 365\\', \\'file_path\\': \\'data/sample_doc.pdf\\', \\'format\\': \\'PDF 1.7\\', \\'keywords\\': \\'\\', \\'modDate\\': \"D:20240104133558+05\\'30\\'\", \\'page\\': 6, \\'producer\\': \\'Microsoft® Word for Microsoft 365\\', \\'source\\': \\'data/sample_doc.pdf\\', \\'subject\\': \\'\\', \\'title\\': \\'\\', \\'total_pages\\': 8, \\'trapped\\': \\'\\'}, page_content=\\'BSC – RhythmCare POC SOW \\\\n \\\\n5.2.2 \\\\nClient Responsibilities \\\\nIn connection with the Services and Deliverables to be provided under this SOW, Client, in addition to its \\\\nresponsibilities under the Agreement, agrees to fulfill the following obligations.  Client will perform all \\\\nClient responsibilities and obligations as set forth herein (it being understood and agreed that Vendor’s \\\\nperformance is expressly conditional on the timely and complete performance of the Client of its \\\\nobligations herein; the failure of Client to perform any such obligation or responsibility or otherwise to \\\\nmeet such deadline(s) may entitle Vendor to adjust the project schedule to accommodate the effect of the \\\\ndelay or make a change request through the Change Request process as set forth above that may result in \\\\nadditional cost and expense to Client). \\\\n• \\\\nClient will appoint a single point of contact who will act as the key interface for the Vendor’s \\\\nteam.  In addition, Client will provide reasonable access to certain technical staff personnel that \\\\nhave the necessary knowledge and expertise relating to the project to collaborate with and assist \\\\nthe Vendor team on resolving project issues. \\\\n• \\\\nClient will provide timely and accurate information as requested by Vendor in order to enable \\\\nVendor the ability to fulfill its responsibilities under this SOW  \\\\n• \\\\nClient core team and SMEs will be available for requirements working sessions, meetings, \\\\nreviews, and decisions \\\\n• \\\\nClient business and technical SMEs that have the necessary knowledge and expertise relating \\\\nto the project will be available to answer questions in a timely manner  \\\\n• \\\\nClient decision makers will be available for meetings requiring approvals and to review and \\\\napprove all deliverables as per the timelines listed in this SOW  \\\\n• \\\\nClient shall be responsible for the performance of other contractors or vendors engaged by \\\\nClient in connection with this Project  \\\\n• \\\\nClient shall be responsible for the contractual relationship with third parties contracted by Client \\\\nand for ensuring that they cooperate with Vendor. In addition, Client will facilitate support to \\\\nthird party software used by Vendor, with the exception of Vendor tools \\\\n \\\\n6. PERSONNEL \\\\n \\\\n6.1 Project Managers:  \\\\n \\\\nClient:  \\\\n• \\\\nJohn Farragher \\\\n \\\\n \\\\nService Provider:  \\\\n• \\\\nTBD \\\\n \\\\n6.2 Management Team: The Management Team shall facilitate the resolution of disputes, in accordance with \\\\nthe provisions set forth in the Agreement. \\\\nClient:  \\\\n• \\\\nTon Meuwissen, Enmanuel Cueva \\\\n \\\\n \\\\nService Provider:  \\\\n• \\\\nRanjeeta Singh, Client Partner, Chinmay Pradhan, Life Sciences Head \\\\n \\\\n6.3 Service Provider Key Personnel (if applicable):  \\\\n• \\\\nNot Applicable\\')]\\n                </context>\\n\\n                remember to answer the question solely based on the given context and you should not make up \\n                answers. Give your response below\\n\\n                Response:\\n    \\n    \\n                '), AIMessage(content='The scope of the SOW is to: \\n\\n* Create a Proof-Of-Concept (POC) to demonstrate a virtual assistant that can assist the BSC’s field representatives to respond to questions based on current/latest version of IFU (Information for Use) and DFU (Design for Use) documents. \\n* Develop a Virtual assistant to provide interactive multi-lingual text-based chat experience to the end-user, with an initial scope to support English & Spanish languages (depending upon multilingual support by zammo.ai). \\n* Integrate a Chatbot experience based on Field Hospital work profiles, limited to FCS (Field Clinical Specialist). Create a system experience to be enhanced to create additional personas.  \\n* Integration of the Chatbot and Generative AI models will include manuals & guidelines to be used from publicly available Boston Scientific Consulting web content. \\n* Development of the Virtual assistant that is limited to a “responsive web application only” that can be used from mobile and desktop, to ascertain the efficacy of LLMs for the query/response scenarios. \\n')])"
      ]
     },
     "execution_count": 16,
     "metadata": {},
     "output_type": "execute_result"
    }
   ],
   "source": [
    "ChatMessageHistory(messages = message)"
   ]
  },
  {
   "cell_type": "code",
   "execution_count": 8,
   "metadata": {},
   "outputs": [
    {
     "name": "stderr",
     "output_type": "stream",
     "text": [
      "/home/codespace/.python/current/lib/python3.10/site-packages/langchain_core/_api/deprecation.py:139: LangChainDeprecationWarning: The method `Chain.run` was deprecated in langchain 0.1.0 and will be removed in 0.3.0. Use invoke instead.\n",
      "  warn_deprecated(\n"
     ]
    },
    {
     "name": "stdout",
     "output_type": "stream",
     "text": [
      "\n",
      "\n",
      "\u001b[1m> Entering new ConversationChain chain...\u001b[0m\n",
      "Prompt after formatting:\n",
      "\u001b[32;1m\u001b[1;3mThe following is a friendly conversation between a human and an AI. The AI is talkative and provides lots of specific details from its context. If the AI does not know the answer to a question, it truthfully says it does not know.\n",
      "\n",
      "Current conversation:\n",
      "\n",
      "Human: You are a helpful bot that will answer the user's query\n",
      "                <query>\n",
      "                what is the scope of this SOW\n",
      "                </query>\n",
      "\n",
      "                based on the given context \n",
      "                <context>\n",
      "                [Document(metadata={'author': 'Jaccarino, Marcus', 'creationDate': \"D:20231228181808-05'00'\", 'creator': 'Microsoft® Word for Microsoft 365', 'file_path': 'data/sample_doc.pdf', 'format': 'PDF 1.7', 'keywords': '', 'modDate': \"D:20240104133558+05'30'\", 'page': 0, 'producer': 'Microsoft® Word for Microsoft 365', 'source': 'data/sample_doc.pdf', 'subject': '', 'title': '', 'total_pages': 8, 'trapped': ''}, page_content='BSC – RhythmCare POC SOW \\nSTATEMENT OF WORK  \\nStatement of Work No. 01 \\nRhythmCare POC \\nBY AND BETWEEN \\nBOSTON SCIENTIFIC CORPORATION \\nAND \\nVIRTUSA CORPORATION \\n \\nThis Statement of Work No 01 (“Statement of Work” or “SOW”), is entered into as of December 26, 2023 (“SOW \\nEffective Date”) pursuant to the Master Services Agreement between Boston Scientific Corporation (the “Client” \\nor “BSC”) and Virtusa Corporation (the “Vendor” or Service Provider”), with an effective date of October 01, \\n2022 (the “Agreement”). For the purpose of this SOW, Client Shall be Boston Scientific Ibérica, S.A., an affiliate \\nof BSC, and this SOW is issued under and subject to the terms and conditions of the agreement between BSC and \\nService Provider. In the event of a conflict between the Agreement and this SOW, the terms and conditions set \\nforth in the Agreement will govern for purposes of this SOW unless otherwise agreed to herein (consistent with \\nSection 1.2 of the Agreement), or as specified in Section 6.1. Capitalized terms used in this SOW have the \\nmeaning assigned in the Agreement unless otherwise defined herein. \\n \\n1. PROJECT TERM \\n \\n1.1 Project Commencement Date: 26-Dec-2023 \\n \\n1.2 Estimated Project Completion Date: 02-Feb-2024, unless earlier terminated or renewed as provided for \\nunder the Agreement. \\n \\n \\n2. SCOPE, SERVICES and DELIVERABLES \\n \\n2.1. In-Scope  \\nThe scope of this SOW is to: \\n• \\nCreate a Proof-Of-Concept (POC) to demonstrate a virtual assistant that can assist the BSC’s field \\nrepresentatives to respond to questions based on current/latest version of IFU (Information for Use) \\nand DFU (Design for Use) documents. \\n• \\nDevelop a Virtual assistant to provide interactive multi-lingual text-based chat experience to the end-\\nuser, with an initial scope to support English & Spanish languages (depending upon multilingual \\nsupport by zammo.ai). \\n• \\nIntegrate a Chatbot experience based on Field Hospital work profiles, limited to FCS (Field Clinical \\nSpecialist). Create a system experience to be enhanced to create additional personas.  \\n• \\nIntegration of the Chatbot and Generative AI models will include manuals & guidelines to be used \\nfrom publicly available Boston Scientific Consulting web content. \\n• \\nDevelopment of the Virtual assistant that is limited to a “responsive web application only” that can be \\nused from mobile and desktop, to ascertain the efficacy of LLMs for the query/response scenarios.'), Document(metadata={'author': 'Jaccarino, Marcus', 'creationDate': \"D:20231228181808-05'00'\", 'creator': 'Microsoft® Word for Microsoft 365', 'file_path': 'data/sample_doc.pdf', 'format': 'PDF 1.7', 'keywords': '', 'modDate': \"D:20240104133558+05'30'\", 'page': 4, 'producer': 'Microsoft® Word for Microsoft 365', 'source': 'data/sample_doc.pdf', 'subject': '', 'title': '', 'total_pages': 8, 'trapped': ''}, page_content='BSC – RhythmCare POC SOW \\nService Provider will re-submit the completed work in a mutually agreed upon timely manner and Client will \\nhave another three (3) business days to review the resubmission of the work based on the Acceptance Criteria. \\nAbsent timely receipt by Service Provider of such notice within the Acceptance Period specified above, the \\nDeliverable, or any re-submission thereof, shall be deemed to have been accepted by Client hereunder. \\n \\n \\n4. FEES; EXPENSES; PAYMENT \\n \\n4.1 NEC (Fixed Price model):   \\n \\nVirtusa will invoice BSC based on the fixed payment schedule below. Payment is due and payable \\nper the terms of the Agreement, and Virtusa agrees to follow the BSC accounts payables process. \\n \\nService Description \\nInvoice Date \\nService Fees \\nPOC Services \\n29-Dec-2023 \\n$51,403 \\n \\n \\nThe total amount above is the overall budgeted amount for this SOW \\n \\n• \\nAny changes in staffing will require mutual written agreement of the parties \\n• \\nAny material changes in staffing level (e.g. extended vacation for project team member) and resulting \\nimpact on monthly invoicing amount will be discussed and agreed between both parties \\n• \\nThe entity that will issue the PO and to which Virtusa will send the invoices for this project is:  \\nBoston Scientific Ibérica, S.A. \\nCIF/VAT: A-80401821 \\nAddress: c/ Ribera del Loira 46, Ed 2 \\n28042, Madrid, Spain \\n \\n \\n4.2 Expenses. Expenses shall not exceed 10% of the NEC. Expenses and travel (if any) will need to get pre-\\napproved by the BSC Product Manager. All travel will follow the Client’s Travel Policy and will be billed \\nas actual. \\n \\n4.3 Rate Card: The rate card below will be used for any potential ramp-up/ramp-down for the project. \\n \\nN/A \\n \\n5. ROLES and RESPONSIBILITIES \\n \\n5.1 Service Provider Scrum Team. To accomplish the objectives of this SOW, Service Provider shall provide a \\nteam with the following roles and responsibilities: \\n \\nRoles \\nResponsibilities'), Document(metadata={'author': 'Jaccarino, Marcus', 'creationDate': \"D:20231228181808-05'00'\", 'creator': 'Microsoft® Word for Microsoft 365', 'file_path': 'data/sample_doc.pdf', 'format': 'PDF 1.7', 'keywords': '', 'modDate': \"D:20240104133558+05'30'\", 'page': 7, 'producer': 'Microsoft® Word for Microsoft 365', 'source': 'data/sample_doc.pdf', 'subject': '', 'title': '', 'total_pages': 8, 'trapped': ''}, page_content='BSC – RhythmCare POC SOW \\n6.4 Service Provider Restricted Employees (if applicable): \\n• \\nNot Applicable \\n6.5 Subcontractors: \\n \\n• \\nNot Applicable \\n6.6 Contractors: \\n• \\nNot Applicable \\n6.7 Additional Personnel Roles and Responsibilities: \\n• \\nNot Applicable \\n \\n7. ADDITIONAL TERMS \\n \\n7.1 Place of Performance \\n• \\nService Provider staff are largely located in Service Provider US & India offices.   \\n \\n8. SOURCE MATERIAL ESCROW \\n \\nYES \\n \\n9. OTHER TERMS - N/A \\n \\n \\n \\nIN WITNESS WHEREOF, the parties hereto have executed this SOW No. 01 as of the SOW Effective Date. \\n \\n \\n \\nSERVICE PROVIDER \\nBoston Scientific Ibérica, S.A. \\nVIRTUSA CORPORATION \\n \\nBy: \\n_________________________________  \\nBy:  ________________________________  \\n                            \\nName:   \\n \\n \\n \\n \\n       Name: David Moñino Repolles  \\nTitle:                      \\n \\n \\n                     Title: Digital Development Manager EMEA \\n \\nPaul D. Tutun\\nEVP & General Counsel'), Document(metadata={'author': 'Jaccarino, Marcus', 'creationDate': \"D:20231228181808-05'00'\", 'creator': 'Microsoft® Word for Microsoft 365', 'file_path': 'data/sample_doc.pdf', 'format': 'PDF 1.7', 'keywords': '', 'modDate': \"D:20240104133558+05'30'\", 'page': 6, 'producer': 'Microsoft® Word for Microsoft 365', 'source': 'data/sample_doc.pdf', 'subject': '', 'title': '', 'total_pages': 8, 'trapped': ''}, page_content='BSC – RhythmCare POC SOW \\n \\n5.2.2 \\nClient Responsibilities \\nIn connection with the Services and Deliverables to be provided under this SOW, Client, in addition to its \\nresponsibilities under the Agreement, agrees to fulfill the following obligations.  Client will perform all \\nClient responsibilities and obligations as set forth herein (it being understood and agreed that Vendor’s \\nperformance is expressly conditional on the timely and complete performance of the Client of its \\nobligations herein; the failure of Client to perform any such obligation or responsibility or otherwise to \\nmeet such deadline(s) may entitle Vendor to adjust the project schedule to accommodate the effect of the \\ndelay or make a change request through the Change Request process as set forth above that may result in \\nadditional cost and expense to Client). \\n• \\nClient will appoint a single point of contact who will act as the key interface for the Vendor’s \\nteam.  In addition, Client will provide reasonable access to certain technical staff personnel that \\nhave the necessary knowledge and expertise relating to the project to collaborate with and assist \\nthe Vendor team on resolving project issues. \\n• \\nClient will provide timely and accurate information as requested by Vendor in order to enable \\nVendor the ability to fulfill its responsibilities under this SOW  \\n• \\nClient core team and SMEs will be available for requirements working sessions, meetings, \\nreviews, and decisions \\n• \\nClient business and technical SMEs that have the necessary knowledge and expertise relating \\nto the project will be available to answer questions in a timely manner  \\n• \\nClient decision makers will be available for meetings requiring approvals and to review and \\napprove all deliverables as per the timelines listed in this SOW  \\n• \\nClient shall be responsible for the performance of other contractors or vendors engaged by \\nClient in connection with this Project  \\n• \\nClient shall be responsible for the contractual relationship with third parties contracted by Client \\nand for ensuring that they cooperate with Vendor. In addition, Client will facilitate support to \\nthird party software used by Vendor, with the exception of Vendor tools \\n \\n6. PERSONNEL \\n \\n6.1 Project Managers:  \\n \\nClient:  \\n• \\nJohn Farragher \\n \\n \\nService Provider:  \\n• \\nTBD \\n \\n6.2 Management Team: The Management Team shall facilitate the resolution of disputes, in accordance with \\nthe provisions set forth in the Agreement. \\nClient:  \\n• \\nTon Meuwissen, Enmanuel Cueva \\n \\n \\nService Provider:  \\n• \\nRanjeeta Singh, Client Partner, Chinmay Pradhan, Life Sciences Head \\n \\n6.3 Service Provider Key Personnel (if applicable):  \\n• \\nNot Applicable')]\n",
      "                </context>\n",
      "\n",
      "                remember to answer the question solely based on the given context and you should not make up \n",
      "                answers. Give your response below\n",
      "\n",
      "                Response:\n",
      "    \n",
      "    \n",
      "                \n",
      "AI:\u001b[0m\n",
      "\n",
      "\u001b[1m> Finished chain.\u001b[0m\n",
      "\n",
      "\n",
      "\u001b[1m> Entering new ConversationChain chain...\u001b[0m\n",
      "Prompt after formatting:\n",
      "\u001b[32;1m\u001b[1;3mThe following is a friendly conversation between a human and an AI. The AI is talkative and provides lots of specific details from its context. If the AI does not know the answer to a question, it truthfully says it does not know.\n",
      "\n",
      "Current conversation:\n",
      "Human: You are a helpful bot that will answer the user's query\n",
      "                <query>\n",
      "                what is the scope of this SOW\n",
      "                </query>\n",
      "\n",
      "                based on the given context \n",
      "                <context>\n",
      "                [Document(metadata={'author': 'Jaccarino, Marcus', 'creationDate': \"D:20231228181808-05'00'\", 'creator': 'Microsoft® Word for Microsoft 365', 'file_path': 'data/sample_doc.pdf', 'format': 'PDF 1.7', 'keywords': '', 'modDate': \"D:20240104133558+05'30'\", 'page': 0, 'producer': 'Microsoft® Word for Microsoft 365', 'source': 'data/sample_doc.pdf', 'subject': '', 'title': '', 'total_pages': 8, 'trapped': ''}, page_content='BSC – RhythmCare POC SOW \\nSTATEMENT OF WORK  \\nStatement of Work No. 01 \\nRhythmCare POC \\nBY AND BETWEEN \\nBOSTON SCIENTIFIC CORPORATION \\nAND \\nVIRTUSA CORPORATION \\n \\nThis Statement of Work No 01 (“Statement of Work” or “SOW”), is entered into as of December 26, 2023 (“SOW \\nEffective Date”) pursuant to the Master Services Agreement between Boston Scientific Corporation (the “Client” \\nor “BSC”) and Virtusa Corporation (the “Vendor” or Service Provider”), with an effective date of October 01, \\n2022 (the “Agreement”). For the purpose of this SOW, Client Shall be Boston Scientific Ibérica, S.A., an affiliate \\nof BSC, and this SOW is issued under and subject to the terms and conditions of the agreement between BSC and \\nService Provider. In the event of a conflict between the Agreement and this SOW, the terms and conditions set \\nforth in the Agreement will govern for purposes of this SOW unless otherwise agreed to herein (consistent with \\nSection 1.2 of the Agreement), or as specified in Section 6.1. Capitalized terms used in this SOW have the \\nmeaning assigned in the Agreement unless otherwise defined herein. \\n \\n1. PROJECT TERM \\n \\n1.1 Project Commencement Date: 26-Dec-2023 \\n \\n1.2 Estimated Project Completion Date: 02-Feb-2024, unless earlier terminated or renewed as provided for \\nunder the Agreement. \\n \\n \\n2. SCOPE, SERVICES and DELIVERABLES \\n \\n2.1. In-Scope  \\nThe scope of this SOW is to: \\n• \\nCreate a Proof-Of-Concept (POC) to demonstrate a virtual assistant that can assist the BSC’s field \\nrepresentatives to respond to questions based on current/latest version of IFU (Information for Use) \\nand DFU (Design for Use) documents. \\n• \\nDevelop a Virtual assistant to provide interactive multi-lingual text-based chat experience to the end-\\nuser, with an initial scope to support English & Spanish languages (depending upon multilingual \\nsupport by zammo.ai). \\n• \\nIntegrate a Chatbot experience based on Field Hospital work profiles, limited to FCS (Field Clinical \\nSpecialist). Create a system experience to be enhanced to create additional personas.  \\n• \\nIntegration of the Chatbot and Generative AI models will include manuals & guidelines to be used \\nfrom publicly available Boston Scientific Consulting web content. \\n• \\nDevelopment of the Virtual assistant that is limited to a “responsive web application only” that can be \\nused from mobile and desktop, to ascertain the efficacy of LLMs for the query/response scenarios.'), Document(metadata={'author': 'Jaccarino, Marcus', 'creationDate': \"D:20231228181808-05'00'\", 'creator': 'Microsoft® Word for Microsoft 365', 'file_path': 'data/sample_doc.pdf', 'format': 'PDF 1.7', 'keywords': '', 'modDate': \"D:20240104133558+05'30'\", 'page': 4, 'producer': 'Microsoft® Word for Microsoft 365', 'source': 'data/sample_doc.pdf', 'subject': '', 'title': '', 'total_pages': 8, 'trapped': ''}, page_content='BSC – RhythmCare POC SOW \\nService Provider will re-submit the completed work in a mutually agreed upon timely manner and Client will \\nhave another three (3) business days to review the resubmission of the work based on the Acceptance Criteria. \\nAbsent timely receipt by Service Provider of such notice within the Acceptance Period specified above, the \\nDeliverable, or any re-submission thereof, shall be deemed to have been accepted by Client hereunder. \\n \\n \\n4. FEES; EXPENSES; PAYMENT \\n \\n4.1 NEC (Fixed Price model):   \\n \\nVirtusa will invoice BSC based on the fixed payment schedule below. Payment is due and payable \\nper the terms of the Agreement, and Virtusa agrees to follow the BSC accounts payables process. \\n \\nService Description \\nInvoice Date \\nService Fees \\nPOC Services \\n29-Dec-2023 \\n$51,403 \\n \\n \\nThe total amount above is the overall budgeted amount for this SOW \\n \\n• \\nAny changes in staffing will require mutual written agreement of the parties \\n• \\nAny material changes in staffing level (e.g. extended vacation for project team member) and resulting \\nimpact on monthly invoicing amount will be discussed and agreed between both parties \\n• \\nThe entity that will issue the PO and to which Virtusa will send the invoices for this project is:  \\nBoston Scientific Ibérica, S.A. \\nCIF/VAT: A-80401821 \\nAddress: c/ Ribera del Loira 46, Ed 2 \\n28042, Madrid, Spain \\n \\n \\n4.2 Expenses. Expenses shall not exceed 10% of the NEC. Expenses and travel (if any) will need to get pre-\\napproved by the BSC Product Manager. All travel will follow the Client’s Travel Policy and will be billed \\nas actual. \\n \\n4.3 Rate Card: The rate card below will be used for any potential ramp-up/ramp-down for the project. \\n \\nN/A \\n \\n5. ROLES and RESPONSIBILITIES \\n \\n5.1 Service Provider Scrum Team. To accomplish the objectives of this SOW, Service Provider shall provide a \\nteam with the following roles and responsibilities: \\n \\nRoles \\nResponsibilities'), Document(metadata={'author': 'Jaccarino, Marcus', 'creationDate': \"D:20231228181808-05'00'\", 'creator': 'Microsoft® Word for Microsoft 365', 'file_path': 'data/sample_doc.pdf', 'format': 'PDF 1.7', 'keywords': '', 'modDate': \"D:20240104133558+05'30'\", 'page': 7, 'producer': 'Microsoft® Word for Microsoft 365', 'source': 'data/sample_doc.pdf', 'subject': '', 'title': '', 'total_pages': 8, 'trapped': ''}, page_content='BSC – RhythmCare POC SOW \\n6.4 Service Provider Restricted Employees (if applicable): \\n• \\nNot Applicable \\n6.5 Subcontractors: \\n \\n• \\nNot Applicable \\n6.6 Contractors: \\n• \\nNot Applicable \\n6.7 Additional Personnel Roles and Responsibilities: \\n• \\nNot Applicable \\n \\n7. ADDITIONAL TERMS \\n \\n7.1 Place of Performance \\n• \\nService Provider staff are largely located in Service Provider US & India offices.   \\n \\n8. SOURCE MATERIAL ESCROW \\n \\nYES \\n \\n9. OTHER TERMS - N/A \\n \\n \\n \\nIN WITNESS WHEREOF, the parties hereto have executed this SOW No. 01 as of the SOW Effective Date. \\n \\n \\n \\nSERVICE PROVIDER \\nBoston Scientific Ibérica, S.A. \\nVIRTUSA CORPORATION \\n \\nBy: \\n_________________________________  \\nBy:  ________________________________  \\n                            \\nName:   \\n \\n \\n \\n \\n       Name: David Moñino Repolles  \\nTitle:                      \\n \\n \\n                     Title: Digital Development Manager EMEA \\n \\nPaul D. Tutun\\nEVP & General Counsel'), Document(metadata={'author': 'Jaccarino, Marcus', 'creationDate': \"D:20231228181808-05'00'\", 'creator': 'Microsoft® Word for Microsoft 365', 'file_path': 'data/sample_doc.pdf', 'format': 'PDF 1.7', 'keywords': '', 'modDate': \"D:20240104133558+05'30'\", 'page': 6, 'producer': 'Microsoft® Word for Microsoft 365', 'source': 'data/sample_doc.pdf', 'subject': '', 'title': '', 'total_pages': 8, 'trapped': ''}, page_content='BSC – RhythmCare POC SOW \\n \\n5.2.2 \\nClient Responsibilities \\nIn connection with the Services and Deliverables to be provided under this SOW, Client, in addition to its \\nresponsibilities under the Agreement, agrees to fulfill the following obligations.  Client will perform all \\nClient responsibilities and obligations as set forth herein (it being understood and agreed that Vendor’s \\nperformance is expressly conditional on the timely and complete performance of the Client of its \\nobligations herein; the failure of Client to perform any such obligation or responsibility or otherwise to \\nmeet such deadline(s) may entitle Vendor to adjust the project schedule to accommodate the effect of the \\ndelay or make a change request through the Change Request process as set forth above that may result in \\nadditional cost and expense to Client). \\n• \\nClient will appoint a single point of contact who will act as the key interface for the Vendor’s \\nteam.  In addition, Client will provide reasonable access to certain technical staff personnel that \\nhave the necessary knowledge and expertise relating to the project to collaborate with and assist \\nthe Vendor team on resolving project issues. \\n• \\nClient will provide timely and accurate information as requested by Vendor in order to enable \\nVendor the ability to fulfill its responsibilities under this SOW  \\n• \\nClient core team and SMEs will be available for requirements working sessions, meetings, \\nreviews, and decisions \\n• \\nClient business and technical SMEs that have the necessary knowledge and expertise relating \\nto the project will be available to answer questions in a timely manner  \\n• \\nClient decision makers will be available for meetings requiring approvals and to review and \\napprove all deliverables as per the timelines listed in this SOW  \\n• \\nClient shall be responsible for the performance of other contractors or vendors engaged by \\nClient in connection with this Project  \\n• \\nClient shall be responsible for the contractual relationship with third parties contracted by Client \\nand for ensuring that they cooperate with Vendor. In addition, Client will facilitate support to \\nthird party software used by Vendor, with the exception of Vendor tools \\n \\n6. PERSONNEL \\n \\n6.1 Project Managers:  \\n \\nClient:  \\n• \\nJohn Farragher \\n \\n \\nService Provider:  \\n• \\nTBD \\n \\n6.2 Management Team: The Management Team shall facilitate the resolution of disputes, in accordance with \\nthe provisions set forth in the Agreement. \\nClient:  \\n• \\nTon Meuwissen, Enmanuel Cueva \\n \\n \\nService Provider:  \\n• \\nRanjeeta Singh, Client Partner, Chinmay Pradhan, Life Sciences Head \\n \\n6.3 Service Provider Key Personnel (if applicable):  \\n• \\nNot Applicable')]\n",
      "                </context>\n",
      "\n",
      "                remember to answer the question solely based on the given context and you should not make up \n",
      "                answers. Give your response below\n",
      "\n",
      "                Response:\n",
      "    \n",
      "    \n",
      "                \n",
      "AI: The scope of the SOW is to: \n",
      "\n",
      "* Create a Proof-Of-Concept (POC) to demonstrate a virtual assistant that can assist the BSC’s field representatives to respond to questions based on current/latest version of IFU (Information for Use) and DFU (Design for Use) documents. \n",
      "* Develop a Virtual assistant to provide interactive multi-lingual text-based chat experience to the end-user, with an initial scope to support English & Spanish languages (depending upon multilingual support by zammo.ai). \n",
      "* Integrate a Chatbot experience based on Field Hospital work profiles, limited to FCS (Field Clinical Specialist). Create a system experience to be enhanced to create additional personas.  \n",
      "* Integration of the Chatbot and Generative AI models will include manuals & guidelines to be used from publicly available Boston Scientific Consulting web content. \n",
      "* Development of the Virtual assistant that is limited to a “responsive web application only” that can be used from mobile and desktop, to ascertain the efficacy of LLMs for the query/response scenarios. \n",
      "\n",
      "Human: what about Javascript and Ruby\n",
      "AI:\u001b[0m\n",
      "\n",
      "\u001b[1m> Finished chain.\u001b[0m\n"
     ]
    },
    {
     "data": {
      "text/plain": [
       "\"I'm sorry, but the provided text does not mention anything about Javascript or Ruby. Therefore, I cannot answer your question based on the given context. \\n\""
      ]
     },
     "execution_count": 8,
     "metadata": {},
     "output_type": "execute_result"
    }
   ],
   "source": [
    "original_chain.run(prompt)\n",
    "extracted_messages = original_chain.memory.chat_memory.messages\n",
    "ingest_to_db = messages_to_dict(extracted_messages)\n",
    "retrieve_from_db = json.loads(json.dumps(ingest_to_db))\n",
    "retrieved_messages = messages_from_dict(retrieve_from_db)\n",
    "retrieved_chat_history = ChatMessageHistory(messages=retrieved_messages)\n",
    "retrieved_memory = ConversationBufferMemory(chat_memory=retrieved_chat_history)\n",
    "\n",
    "reloaded_chain = ConversationChain(\n",
    "    llm=llm,\n",
    "    verbose=True,\n",
    "    memory=retrieved_memory\n",
    ")\n",
    "reloaded_chain.run('what about Javascript and Ruby')"
   ]
  },
  {
   "cell_type": "code",
   "execution_count": 8,
   "metadata": {},
   "outputs": [
    {
     "name": "stderr",
     "output_type": "stream",
     "text": [
      "/home/codespace/.python/current/lib/python3.10/site-packages/langchain_core/_api/deprecation.py:139: LangChainDeprecationWarning: The method `Chain.__call__` was deprecated in langchain 0.1.0 and will be removed in 0.3.0. Use invoke instead.\n",
      "  warn_deprecated(\n"
     ]
    },
    {
     "name": "stdout",
     "output_type": "stream",
     "text": [
      "\n",
      "\n",
      "\u001b[1m> Entering new ConversationChain chain...\u001b[0m\n",
      "Prompt after formatting:\n",
      "\u001b[32;1m\u001b[1;3mThe following is a friendly conversation between a human and an AI. The AI is talkative and provides lots of specific details from its context. If the AI does not know the answer to a question, it truthfully says it does not know.\n",
      "\n",
      "Current conversation:\n",
      "\n",
      "Human: You are a helpful bot that will answer the user's query\n",
      "                <query>\n",
      "                what is the scope of this SOW\n",
      "                </query>\n",
      "\n",
      "                based on the given context \n",
      "                <context>\n",
      "                [Document(metadata={'author': 'Jaccarino, Marcus', 'creationDate': \"D:20231228181808-05'00'\", 'creator': 'Microsoft® Word for Microsoft 365', 'file_path': 'data/sample_doc.pdf', 'format': 'PDF 1.7', 'keywords': '', 'modDate': \"D:20240104133558+05'30'\", 'page': 0, 'producer': 'Microsoft® Word for Microsoft 365', 'source': 'data/sample_doc.pdf', 'subject': '', 'title': '', 'total_pages': 8, 'trapped': ''}, page_content='BSC – RhythmCare POC SOW \\nSTATEMENT OF WORK  \\nStatement of Work No. 01 \\nRhythmCare POC \\nBY AND BETWEEN \\nBOSTON SCIENTIFIC CORPORATION \\nAND \\nVIRTUSA CORPORATION \\n \\nThis Statement of Work No 01 (“Statement of Work” or “SOW”), is entered into as of December 26, 2023 (“SOW \\nEffective Date”) pursuant to the Master Services Agreement between Boston Scientific Corporation (the “Client” \\nor “BSC”) and Virtusa Corporation (the “Vendor” or Service Provider”), with an effective date of October 01, \\n2022 (the “Agreement”). For the purpose of this SOW, Client Shall be Boston Scientific Ibérica, S.A., an affiliate \\nof BSC, and this SOW is issued under and subject to the terms and conditions of the agreement between BSC and \\nService Provider. In the event of a conflict between the Agreement and this SOW, the terms and conditions set \\nforth in the Agreement will govern for purposes of this SOW unless otherwise agreed to herein (consistent with \\nSection 1.2 of the Agreement), or as specified in Section 6.1. Capitalized terms used in this SOW have the \\nmeaning assigned in the Agreement unless otherwise defined herein. \\n \\n1. PROJECT TERM \\n \\n1.1 Project Commencement Date: 26-Dec-2023 \\n \\n1.2 Estimated Project Completion Date: 02-Feb-2024, unless earlier terminated or renewed as provided for \\nunder the Agreement. \\n \\n \\n2. SCOPE, SERVICES and DELIVERABLES \\n \\n2.1. In-Scope  \\nThe scope of this SOW is to: \\n• \\nCreate a Proof-Of-Concept (POC) to demonstrate a virtual assistant that can assist the BSC’s field \\nrepresentatives to respond to questions based on current/latest version of IFU (Information for Use) \\nand DFU (Design for Use) documents. \\n• \\nDevelop a Virtual assistant to provide interactive multi-lingual text-based chat experience to the end-\\nuser, with an initial scope to support English & Spanish languages (depending upon multilingual \\nsupport by zammo.ai). \\n• \\nIntegrate a Chatbot experience based on Field Hospital work profiles, limited to FCS (Field Clinical \\nSpecialist). Create a system experience to be enhanced to create additional personas.  \\n• \\nIntegration of the Chatbot and Generative AI models will include manuals & guidelines to be used \\nfrom publicly available Boston Scientific Consulting web content. \\n• \\nDevelopment of the Virtual assistant that is limited to a “responsive web application only” that can be \\nused from mobile and desktop, to ascertain the efficacy of LLMs for the query/response scenarios.'), Document(metadata={'author': 'Jaccarino, Marcus', 'creationDate': \"D:20231228181808-05'00'\", 'creator': 'Microsoft® Word for Microsoft 365', 'file_path': 'data/sample_doc.pdf', 'format': 'PDF 1.7', 'keywords': '', 'modDate': \"D:20240104133558+05'30'\", 'page': 4, 'producer': 'Microsoft® Word for Microsoft 365', 'source': 'data/sample_doc.pdf', 'subject': '', 'title': '', 'total_pages': 8, 'trapped': ''}, page_content='BSC – RhythmCare POC SOW \\nService Provider will re-submit the completed work in a mutually agreed upon timely manner and Client will \\nhave another three (3) business days to review the resubmission of the work based on the Acceptance Criteria. \\nAbsent timely receipt by Service Provider of such notice within the Acceptance Period specified above, the \\nDeliverable, or any re-submission thereof, shall be deemed to have been accepted by Client hereunder. \\n \\n \\n4. FEES; EXPENSES; PAYMENT \\n \\n4.1 NEC (Fixed Price model):   \\n \\nVirtusa will invoice BSC based on the fixed payment schedule below. Payment is due and payable \\nper the terms of the Agreement, and Virtusa agrees to follow the BSC accounts payables process. \\n \\nService Description \\nInvoice Date \\nService Fees \\nPOC Services \\n29-Dec-2023 \\n$51,403 \\n \\n \\nThe total amount above is the overall budgeted amount for this SOW \\n \\n• \\nAny changes in staffing will require mutual written agreement of the parties \\n• \\nAny material changes in staffing level (e.g. extended vacation for project team member) and resulting \\nimpact on monthly invoicing amount will be discussed and agreed between both parties \\n• \\nThe entity that will issue the PO and to which Virtusa will send the invoices for this project is:  \\nBoston Scientific Ibérica, S.A. \\nCIF/VAT: A-80401821 \\nAddress: c/ Ribera del Loira 46, Ed 2 \\n28042, Madrid, Spain \\n \\n \\n4.2 Expenses. Expenses shall not exceed 10% of the NEC. Expenses and travel (if any) will need to get pre-\\napproved by the BSC Product Manager. All travel will follow the Client’s Travel Policy and will be billed \\nas actual. \\n \\n4.3 Rate Card: The rate card below will be used for any potential ramp-up/ramp-down for the project. \\n \\nN/A \\n \\n5. ROLES and RESPONSIBILITIES \\n \\n5.1 Service Provider Scrum Team. To accomplish the objectives of this SOW, Service Provider shall provide a \\nteam with the following roles and responsibilities: \\n \\nRoles \\nResponsibilities'), Document(metadata={'author': 'Jaccarino, Marcus', 'creationDate': \"D:20231228181808-05'00'\", 'creator': 'Microsoft® Word for Microsoft 365', 'file_path': 'data/sample_doc.pdf', 'format': 'PDF 1.7', 'keywords': '', 'modDate': \"D:20240104133558+05'30'\", 'page': 7, 'producer': 'Microsoft® Word for Microsoft 365', 'source': 'data/sample_doc.pdf', 'subject': '', 'title': '', 'total_pages': 8, 'trapped': ''}, page_content='BSC – RhythmCare POC SOW \\n6.4 Service Provider Restricted Employees (if applicable): \\n• \\nNot Applicable \\n6.5 Subcontractors: \\n \\n• \\nNot Applicable \\n6.6 Contractors: \\n• \\nNot Applicable \\n6.7 Additional Personnel Roles and Responsibilities: \\n• \\nNot Applicable \\n \\n7. ADDITIONAL TERMS \\n \\n7.1 Place of Performance \\n• \\nService Provider staff are largely located in Service Provider US & India offices.   \\n \\n8. SOURCE MATERIAL ESCROW \\n \\nYES \\n \\n9. OTHER TERMS - N/A \\n \\n \\n \\nIN WITNESS WHEREOF, the parties hereto have executed this SOW No. 01 as of the SOW Effective Date. \\n \\n \\n \\nSERVICE PROVIDER \\nBoston Scientific Ibérica, S.A. \\nVIRTUSA CORPORATION \\n \\nBy: \\n_________________________________  \\nBy:  ________________________________  \\n                            \\nName:   \\n \\n \\n \\n \\n       Name: David Moñino Repolles  \\nTitle:                      \\n \\n \\n                     Title: Digital Development Manager EMEA \\n \\nPaul D. Tutun\\nEVP & General Counsel'), Document(metadata={'author': 'Jaccarino, Marcus', 'creationDate': \"D:20231228181808-05'00'\", 'creator': 'Microsoft® Word for Microsoft 365', 'file_path': 'data/sample_doc.pdf', 'format': 'PDF 1.7', 'keywords': '', 'modDate': \"D:20240104133558+05'30'\", 'page': 5, 'producer': 'Microsoft® Word for Microsoft 365', 'source': 'data/sample_doc.pdf', 'subject': '', 'title': '', 'total_pages': 8, 'trapped': ''}, page_content=\"BSC – RhythmCare POC SOW \\n Sr Solution Architect \\n(Chat bot/Gen AI experience) \\n• \\nProviding recommendations and roadmaps for proposed solutions \\n• \\nDesign, describe, and manage the solution \\n• \\nProviding technical leadership to a team throughout the PoC \\n• \\nRegularly communicating new features and benefits to partners, \\ncustomers, and other stakeholders \\n• \\nDesign chatbot and GenAI architecture \\n Project Manager \\n• \\nProject Manager is the point of contact for escalations \\n• \\nDriving teams across all workstreams \\nAzure Application Developer \\n• \\nExperience with NC/LC for creating ChatBot \\n• \\nDevelop LLM Orchestration model using LLM API  \\n▫ \\nChunking & Embedding \\n▫ \\nPrompt Engineering  \\n▫ \\nAgents  \\nML Engineer  \\n• \\nDesign and Develop LLM Orchestration model using LLM API  \\nPrompt Engineer   \\n• \\nDesign LLM Orchestration PR \\n• \\nPrompt Engineering  \\n• \\nAgents \\nCloud DevOps Engineer \\n• \\nPipeline Development \\n• \\nTerraform Development \\n• \\nConfiguring cloud resources \\n*Note: Any changes in staffing will require a minimum of 4-weeks’ prior written notice. \\n \\n5.2 Client Roles and Responsibilities \\n \\n5.2.1 \\nClient Roles \\nThe following roles will be performed by BSC team and the Service Provider’s team will collaborate \\nin creating product backlog and PI/Sprint planning. \\nProject Manager \\nReview business requirements in the form of user stories, sprint planning \\nand approvals. \\n2 Hours/day  \\nBA \\n• \\nProvide insights into the client's business objectives, priorities, and \\nspecific needs that the project must address. \\n• \\nOffer subject matter expertise for guiding the project team  \\n• \\nProvide feedback and help prioritize features and functionalities \\nbased on business value. \\nAs required \\nApplication \\nTeam  \\nSupport development team to address any queries or validating integration \\npoints during the POC execution. \\nAs required\")]\n",
      "                </context>\n",
      "\n",
      "                remember to answer the question solely based on the given context and you should not make up \n",
      "                answers. Give your response below\n",
      "\n",
      "                Response:\n",
      "    \n",
      "    \n",
      "                \n",
      "AI:\u001b[0m\n",
      "\n",
      "\u001b[1m> Finished chain.\u001b[0m\n"
     ]
    },
    {
     "data": {
      "text/plain": [
       "{'input': 'You are a helpful bot that will answer the user\\'s query\\n                <query>\\n                what is the scope of this SOW\\n                </query>\\n\\n                based on the given context \\n                <context>\\n                [Document(metadata={\\'author\\': \\'Jaccarino, Marcus\\', \\'creationDate\\': \"D:20231228181808-05\\'00\\'\", \\'creator\\': \\'Microsoft® Word for Microsoft 365\\', \\'file_path\\': \\'data/sample_doc.pdf\\', \\'format\\': \\'PDF 1.7\\', \\'keywords\\': \\'\\', \\'modDate\\': \"D:20240104133558+05\\'30\\'\", \\'page\\': 0, \\'producer\\': \\'Microsoft® Word for Microsoft 365\\', \\'source\\': \\'data/sample_doc.pdf\\', \\'subject\\': \\'\\', \\'title\\': \\'\\', \\'total_pages\\': 8, \\'trapped\\': \\'\\'}, page_content=\\'BSC – RhythmCare POC SOW \\\\nSTATEMENT OF WORK  \\\\nStatement of Work No. 01 \\\\nRhythmCare POC \\\\nBY AND BETWEEN \\\\nBOSTON SCIENTIFIC CORPORATION \\\\nAND \\\\nVIRTUSA CORPORATION \\\\n \\\\nThis Statement of Work No 01 (“Statement of Work” or “SOW”), is entered into as of December 26, 2023 (“SOW \\\\nEffective Date”) pursuant to the Master Services Agreement between Boston Scientific Corporation (the “Client” \\\\nor “BSC”) and Virtusa Corporation (the “Vendor” or Service Provider”), with an effective date of October 01, \\\\n2022 (the “Agreement”). For the purpose of this SOW, Client Shall be Boston Scientific Ibérica, S.A., an affiliate \\\\nof BSC, and this SOW is issued under and subject to the terms and conditions of the agreement between BSC and \\\\nService Provider. In the event of a conflict between the Agreement and this SOW, the terms and conditions set \\\\nforth in the Agreement will govern for purposes of this SOW unless otherwise agreed to herein (consistent with \\\\nSection 1.2 of the Agreement), or as specified in Section 6.1. Capitalized terms used in this SOW have the \\\\nmeaning assigned in the Agreement unless otherwise defined herein. \\\\n \\\\n1. PROJECT TERM \\\\n \\\\n1.1 Project Commencement Date: 26-Dec-2023 \\\\n \\\\n1.2 Estimated Project Completion Date: 02-Feb-2024, unless earlier terminated or renewed as provided for \\\\nunder the Agreement. \\\\n \\\\n \\\\n2. SCOPE, SERVICES and DELIVERABLES \\\\n \\\\n2.1. In-Scope  \\\\nThe scope of this SOW is to: \\\\n• \\\\nCreate a Proof-Of-Concept (POC) to demonstrate a virtual assistant that can assist the BSC’s field \\\\nrepresentatives to respond to questions based on current/latest version of IFU (Information for Use) \\\\nand DFU (Design for Use) documents. \\\\n• \\\\nDevelop a Virtual assistant to provide interactive multi-lingual text-based chat experience to the end-\\\\nuser, with an initial scope to support English & Spanish languages (depending upon multilingual \\\\nsupport by zammo.ai). \\\\n• \\\\nIntegrate a Chatbot experience based on Field Hospital work profiles, limited to FCS (Field Clinical \\\\nSpecialist). Create a system experience to be enhanced to create additional personas.  \\\\n• \\\\nIntegration of the Chatbot and Generative AI models will include manuals & guidelines to be used \\\\nfrom publicly available Boston Scientific Consulting web content. \\\\n• \\\\nDevelopment of the Virtual assistant that is limited to a “responsive web application only” that can be \\\\nused from mobile and desktop, to ascertain the efficacy of LLMs for the query/response scenarios.\\'), Document(metadata={\\'author\\': \\'Jaccarino, Marcus\\', \\'creationDate\\': \"D:20231228181808-05\\'00\\'\", \\'creator\\': \\'Microsoft® Word for Microsoft 365\\', \\'file_path\\': \\'data/sample_doc.pdf\\', \\'format\\': \\'PDF 1.7\\', \\'keywords\\': \\'\\', \\'modDate\\': \"D:20240104133558+05\\'30\\'\", \\'page\\': 4, \\'producer\\': \\'Microsoft® Word for Microsoft 365\\', \\'source\\': \\'data/sample_doc.pdf\\', \\'subject\\': \\'\\', \\'title\\': \\'\\', \\'total_pages\\': 8, \\'trapped\\': \\'\\'}, page_content=\\'BSC – RhythmCare POC SOW \\\\nService Provider will re-submit the completed work in a mutually agreed upon timely manner and Client will \\\\nhave another three (3) business days to review the resubmission of the work based on the Acceptance Criteria. \\\\nAbsent timely receipt by Service Provider of such notice within the Acceptance Period specified above, the \\\\nDeliverable, or any re-submission thereof, shall be deemed to have been accepted by Client hereunder. \\\\n \\\\n \\\\n4. FEES; EXPENSES; PAYMENT \\\\n \\\\n4.1 NEC (Fixed Price model):   \\\\n \\\\nVirtusa will invoice BSC based on the fixed payment schedule below. Payment is due and payable \\\\nper the terms of the Agreement, and Virtusa agrees to follow the BSC accounts payables process. \\\\n \\\\nService Description \\\\nInvoice Date \\\\nService Fees \\\\nPOC Services \\\\n29-Dec-2023 \\\\n$51,403 \\\\n \\\\n \\\\nThe total amount above is the overall budgeted amount for this SOW \\\\n \\\\n• \\\\nAny changes in staffing will require mutual written agreement of the parties \\\\n• \\\\nAny material changes in staffing level (e.g. extended vacation for project team member) and resulting \\\\nimpact on monthly invoicing amount will be discussed and agreed between both parties \\\\n• \\\\nThe entity that will issue the PO and to which Virtusa will send the invoices for this project is:  \\\\nBoston Scientific Ibérica, S.A. \\\\nCIF/VAT: A-80401821 \\\\nAddress: c/ Ribera del Loira 46, Ed 2 \\\\n28042, Madrid, Spain \\\\n \\\\n \\\\n4.2 Expenses. Expenses shall not exceed 10% of the NEC. Expenses and travel (if any) will need to get pre-\\\\napproved by the BSC Product Manager. All travel will follow the Client’s Travel Policy and will be billed \\\\nas actual. \\\\n \\\\n4.3 Rate Card: The rate card below will be used for any potential ramp-up/ramp-down for the project. \\\\n \\\\nN/A \\\\n \\\\n5. ROLES and RESPONSIBILITIES \\\\n \\\\n5.1 Service Provider Scrum Team. To accomplish the objectives of this SOW, Service Provider shall provide a \\\\nteam with the following roles and responsibilities: \\\\n \\\\nRoles \\\\nResponsibilities\\'), Document(metadata={\\'author\\': \\'Jaccarino, Marcus\\', \\'creationDate\\': \"D:20231228181808-05\\'00\\'\", \\'creator\\': \\'Microsoft® Word for Microsoft 365\\', \\'file_path\\': \\'data/sample_doc.pdf\\', \\'format\\': \\'PDF 1.7\\', \\'keywords\\': \\'\\', \\'modDate\\': \"D:20240104133558+05\\'30\\'\", \\'page\\': 7, \\'producer\\': \\'Microsoft® Word for Microsoft 365\\', \\'source\\': \\'data/sample_doc.pdf\\', \\'subject\\': \\'\\', \\'title\\': \\'\\', \\'total_pages\\': 8, \\'trapped\\': \\'\\'}, page_content=\\'BSC – RhythmCare POC SOW \\\\n6.4 Service Provider Restricted Employees (if applicable): \\\\n• \\\\nNot Applicable \\\\n6.5 Subcontractors: \\\\n \\\\n• \\\\nNot Applicable \\\\n6.6 Contractors: \\\\n• \\\\nNot Applicable \\\\n6.7 Additional Personnel Roles and Responsibilities: \\\\n• \\\\nNot Applicable \\\\n \\\\n7. ADDITIONAL TERMS \\\\n \\\\n7.1 Place of Performance \\\\n• \\\\nService Provider staff are largely located in Service Provider US & India offices.   \\\\n \\\\n8. SOURCE MATERIAL ESCROW \\\\n \\\\nYES \\\\n \\\\n9. OTHER TERMS - N/A \\\\n \\\\n \\\\n \\\\nIN WITNESS WHEREOF, the parties hereto have executed this SOW No. 01 as of the SOW Effective Date. \\\\n \\\\n \\\\n \\\\nSERVICE PROVIDER \\\\nBoston Scientific Ibérica, S.A. \\\\nVIRTUSA CORPORATION \\\\n \\\\nBy: \\\\n_________________________________  \\\\nBy:  ________________________________  \\\\n                            \\\\nName:   \\\\n \\\\n \\\\n \\\\n \\\\n       Name: David Moñino Repolles  \\\\nTitle:                      \\\\n \\\\n \\\\n                     Title: Digital Development Manager EMEA \\\\n \\\\nPaul D. Tutun\\\\nEVP & General Counsel\\'), Document(metadata={\\'author\\': \\'Jaccarino, Marcus\\', \\'creationDate\\': \"D:20231228181808-05\\'00\\'\", \\'creator\\': \\'Microsoft® Word for Microsoft 365\\', \\'file_path\\': \\'data/sample_doc.pdf\\', \\'format\\': \\'PDF 1.7\\', \\'keywords\\': \\'\\', \\'modDate\\': \"D:20240104133558+05\\'30\\'\", \\'page\\': 5, \\'producer\\': \\'Microsoft® Word for Microsoft 365\\', \\'source\\': \\'data/sample_doc.pdf\\', \\'subject\\': \\'\\', \\'title\\': \\'\\', \\'total_pages\\': 8, \\'trapped\\': \\'\\'}, page_content=\"BSC – RhythmCare POC SOW \\\\n Sr Solution Architect \\\\n(Chat bot/Gen AI experience) \\\\n• \\\\nProviding recommendations and roadmaps for proposed solutions \\\\n• \\\\nDesign, describe, and manage the solution \\\\n• \\\\nProviding technical leadership to a team throughout the PoC \\\\n• \\\\nRegularly communicating new features and benefits to partners, \\\\ncustomers, and other stakeholders \\\\n• \\\\nDesign chatbot and GenAI architecture \\\\n Project Manager \\\\n• \\\\nProject Manager is the point of contact for escalations \\\\n• \\\\nDriving teams across all workstreams \\\\nAzure Application Developer \\\\n• \\\\nExperience with NC/LC for creating ChatBot \\\\n• \\\\nDevelop LLM Orchestration model using LLM API  \\\\n▫ \\\\nChunking & Embedding \\\\n▫ \\\\nPrompt Engineering  \\\\n▫ \\\\nAgents  \\\\nML Engineer  \\\\n• \\\\nDesign and Develop LLM Orchestration model using LLM API  \\\\nPrompt Engineer   \\\\n• \\\\nDesign LLM Orchestration PR \\\\n• \\\\nPrompt Engineering  \\\\n• \\\\nAgents \\\\nCloud DevOps Engineer \\\\n• \\\\nPipeline Development \\\\n• \\\\nTerraform Development \\\\n• \\\\nConfiguring cloud resources \\\\n*Note: Any changes in staffing will require a minimum of 4-weeks’ prior written notice. \\\\n \\\\n5.2 Client Roles and Responsibilities \\\\n \\\\n5.2.1 \\\\nClient Roles \\\\nThe following roles will be performed by BSC team and the Service Provider’s team will collaborate \\\\nin creating product backlog and PI/Sprint planning. \\\\nProject Manager \\\\nReview business requirements in the form of user stories, sprint planning \\\\nand approvals. \\\\n2 Hours/day  \\\\nBA \\\\n• \\\\nProvide insights into the client\\'s business objectives, priorities, and \\\\nspecific needs that the project must address. \\\\n• \\\\nOffer subject matter expertise for guiding the project team  \\\\n• \\\\nProvide feedback and help prioritize features and functionalities \\\\nbased on business value. \\\\nAs required \\\\nApplication \\\\nTeam  \\\\nSupport development team to address any queries or validating integration \\\\npoints during the POC execution. \\\\nAs required\")]\\n                </context>\\n\\n                remember to answer the question solely based on the given context and you should not make up \\n                answers. Give your response below\\n\\n                Response:\\n    \\n    \\n                ',\n",
       " 'history': '',\n",
       " 'response': 'The scope of this SOW (Statement of Work) is to: \\n\\n* Create a Proof-Of-Concept (POC) to demonstrate a virtual assistant that can assist the BSC’s field representatives to respond to questions based on current/latest version of IFU (Information for Use) and DFU (Design for Use) documents. \\n* Develop a Virtual assistant to provide interactive multi-lingual text-based chat experience to the end-user, with an initial scope to support English & Spanish languages (depending upon multilingual support by zammo.ai). \\n* Integrate a Chatbot experience based on Field Hospital work profiles, limited to FCS (Field Clinical Specialist). Create a system experience to be enhanced to create additional personas.  \\n* Integration of the Chatbot and Generative AI models will include manuals & guidelines to be used from publicly available Boston Scientific Consulting web content. \\n* Development of the Virtual assistant that is limited to a “responsive web application only” that can be used from mobile and desktop, to ascertain the efficacy of LLMs for the query/response scenarios. \\n'}"
      ]
     },
     "execution_count": 8,
     "metadata": {},
     "output_type": "execute_result"
    }
   ],
   "source": [
    "original_chain(prompt)"
   ]
  },
  {
   "cell_type": "code",
   "execution_count": 9,
   "metadata": {},
   "outputs": [
    {
     "data": {
      "text/plain": [
       "[HumanMessage(content='You are a helpful bot that will answer the user\\'s query\\n                <query>\\n                what is the scope of this SOW\\n                </query>\\n\\n                based on the given context \\n                <context>\\n                [Document(metadata={\\'author\\': \\'Jaccarino, Marcus\\', \\'creationDate\\': \"D:20231228181808-05\\'00\\'\", \\'creator\\': \\'Microsoft® Word for Microsoft 365\\', \\'file_path\\': \\'data/sample_doc.pdf\\', \\'format\\': \\'PDF 1.7\\', \\'keywords\\': \\'\\', \\'modDate\\': \"D:20240104133558+05\\'30\\'\", \\'page\\': 0, \\'producer\\': \\'Microsoft® Word for Microsoft 365\\', \\'source\\': \\'data/sample_doc.pdf\\', \\'subject\\': \\'\\', \\'title\\': \\'\\', \\'total_pages\\': 8, \\'trapped\\': \\'\\'}, page_content=\\'BSC – RhythmCare POC SOW \\\\nSTATEMENT OF WORK  \\\\nStatement of Work No. 01 \\\\nRhythmCare POC \\\\nBY AND BETWEEN \\\\nBOSTON SCIENTIFIC CORPORATION \\\\nAND \\\\nVIRTUSA CORPORATION \\\\n \\\\nThis Statement of Work No 01 (“Statement of Work” or “SOW”), is entered into as of December 26, 2023 (“SOW \\\\nEffective Date”) pursuant to the Master Services Agreement between Boston Scientific Corporation (the “Client” \\\\nor “BSC”) and Virtusa Corporation (the “Vendor” or Service Provider”), with an effective date of October 01, \\\\n2022 (the “Agreement”). For the purpose of this SOW, Client Shall be Boston Scientific Ibérica, S.A., an affiliate \\\\nof BSC, and this SOW is issued under and subject to the terms and conditions of the agreement between BSC and \\\\nService Provider. In the event of a conflict between the Agreement and this SOW, the terms and conditions set \\\\nforth in the Agreement will govern for purposes of this SOW unless otherwise agreed to herein (consistent with \\\\nSection 1.2 of the Agreement), or as specified in Section 6.1. Capitalized terms used in this SOW have the \\\\nmeaning assigned in the Agreement unless otherwise defined herein. \\\\n \\\\n1. PROJECT TERM \\\\n \\\\n1.1 Project Commencement Date: 26-Dec-2023 \\\\n \\\\n1.2 Estimated Project Completion Date: 02-Feb-2024, unless earlier terminated or renewed as provided for \\\\nunder the Agreement. \\\\n \\\\n \\\\n2. SCOPE, SERVICES and DELIVERABLES \\\\n \\\\n2.1. In-Scope  \\\\nThe scope of this SOW is to: \\\\n• \\\\nCreate a Proof-Of-Concept (POC) to demonstrate a virtual assistant that can assist the BSC’s field \\\\nrepresentatives to respond to questions based on current/latest version of IFU (Information for Use) \\\\nand DFU (Design for Use) documents. \\\\n• \\\\nDevelop a Virtual assistant to provide interactive multi-lingual text-based chat experience to the end-\\\\nuser, with an initial scope to support English & Spanish languages (depending upon multilingual \\\\nsupport by zammo.ai). \\\\n• \\\\nIntegrate a Chatbot experience based on Field Hospital work profiles, limited to FCS (Field Clinical \\\\nSpecialist). Create a system experience to be enhanced to create additional personas.  \\\\n• \\\\nIntegration of the Chatbot and Generative AI models will include manuals & guidelines to be used \\\\nfrom publicly available Boston Scientific Consulting web content. \\\\n• \\\\nDevelopment of the Virtual assistant that is limited to a “responsive web application only” that can be \\\\nused from mobile and desktop, to ascertain the efficacy of LLMs for the query/response scenarios.\\'), Document(metadata={\\'author\\': \\'Jaccarino, Marcus\\', \\'creationDate\\': \"D:20231228181808-05\\'00\\'\", \\'creator\\': \\'Microsoft® Word for Microsoft 365\\', \\'file_path\\': \\'data/sample_doc.pdf\\', \\'format\\': \\'PDF 1.7\\', \\'keywords\\': \\'\\', \\'modDate\\': \"D:20240104133558+05\\'30\\'\", \\'page\\': 4, \\'producer\\': \\'Microsoft® Word for Microsoft 365\\', \\'source\\': \\'data/sample_doc.pdf\\', \\'subject\\': \\'\\', \\'title\\': \\'\\', \\'total_pages\\': 8, \\'trapped\\': \\'\\'}, page_content=\\'BSC – RhythmCare POC SOW \\\\nService Provider will re-submit the completed work in a mutually agreed upon timely manner and Client will \\\\nhave another three (3) business days to review the resubmission of the work based on the Acceptance Criteria. \\\\nAbsent timely receipt by Service Provider of such notice within the Acceptance Period specified above, the \\\\nDeliverable, or any re-submission thereof, shall be deemed to have been accepted by Client hereunder. \\\\n \\\\n \\\\n4. FEES; EXPENSES; PAYMENT \\\\n \\\\n4.1 NEC (Fixed Price model):   \\\\n \\\\nVirtusa will invoice BSC based on the fixed payment schedule below. Payment is due and payable \\\\nper the terms of the Agreement, and Virtusa agrees to follow the BSC accounts payables process. \\\\n \\\\nService Description \\\\nInvoice Date \\\\nService Fees \\\\nPOC Services \\\\n29-Dec-2023 \\\\n$51,403 \\\\n \\\\n \\\\nThe total amount above is the overall budgeted amount for this SOW \\\\n \\\\n• \\\\nAny changes in staffing will require mutual written agreement of the parties \\\\n• \\\\nAny material changes in staffing level (e.g. extended vacation for project team member) and resulting \\\\nimpact on monthly invoicing amount will be discussed and agreed between both parties \\\\n• \\\\nThe entity that will issue the PO and to which Virtusa will send the invoices for this project is:  \\\\nBoston Scientific Ibérica, S.A. \\\\nCIF/VAT: A-80401821 \\\\nAddress: c/ Ribera del Loira 46, Ed 2 \\\\n28042, Madrid, Spain \\\\n \\\\n \\\\n4.2 Expenses. Expenses shall not exceed 10% of the NEC. Expenses and travel (if any) will need to get pre-\\\\napproved by the BSC Product Manager. All travel will follow the Client’s Travel Policy and will be billed \\\\nas actual. \\\\n \\\\n4.3 Rate Card: The rate card below will be used for any potential ramp-up/ramp-down for the project. \\\\n \\\\nN/A \\\\n \\\\n5. ROLES and RESPONSIBILITIES \\\\n \\\\n5.1 Service Provider Scrum Team. To accomplish the objectives of this SOW, Service Provider shall provide a \\\\nteam with the following roles and responsibilities: \\\\n \\\\nRoles \\\\nResponsibilities\\'), Document(metadata={\\'author\\': \\'Jaccarino, Marcus\\', \\'creationDate\\': \"D:20231228181808-05\\'00\\'\", \\'creator\\': \\'Microsoft® Word for Microsoft 365\\', \\'file_path\\': \\'data/sample_doc.pdf\\', \\'format\\': \\'PDF 1.7\\', \\'keywords\\': \\'\\', \\'modDate\\': \"D:20240104133558+05\\'30\\'\", \\'page\\': 7, \\'producer\\': \\'Microsoft® Word for Microsoft 365\\', \\'source\\': \\'data/sample_doc.pdf\\', \\'subject\\': \\'\\', \\'title\\': \\'\\', \\'total_pages\\': 8, \\'trapped\\': \\'\\'}, page_content=\\'BSC – RhythmCare POC SOW \\\\n6.4 Service Provider Restricted Employees (if applicable): \\\\n• \\\\nNot Applicable \\\\n6.5 Subcontractors: \\\\n \\\\n• \\\\nNot Applicable \\\\n6.6 Contractors: \\\\n• \\\\nNot Applicable \\\\n6.7 Additional Personnel Roles and Responsibilities: \\\\n• \\\\nNot Applicable \\\\n \\\\n7. ADDITIONAL TERMS \\\\n \\\\n7.1 Place of Performance \\\\n• \\\\nService Provider staff are largely located in Service Provider US & India offices.   \\\\n \\\\n8. SOURCE MATERIAL ESCROW \\\\n \\\\nYES \\\\n \\\\n9. OTHER TERMS - N/A \\\\n \\\\n \\\\n \\\\nIN WITNESS WHEREOF, the parties hereto have executed this SOW No. 01 as of the SOW Effective Date. \\\\n \\\\n \\\\n \\\\nSERVICE PROVIDER \\\\nBoston Scientific Ibérica, S.A. \\\\nVIRTUSA CORPORATION \\\\n \\\\nBy: \\\\n_________________________________  \\\\nBy:  ________________________________  \\\\n                            \\\\nName:   \\\\n \\\\n \\\\n \\\\n \\\\n       Name: David Moñino Repolles  \\\\nTitle:                      \\\\n \\\\n \\\\n                     Title: Digital Development Manager EMEA \\\\n \\\\nPaul D. Tutun\\\\nEVP & General Counsel\\'), Document(metadata={\\'author\\': \\'Jaccarino, Marcus\\', \\'creationDate\\': \"D:20231228181808-05\\'00\\'\", \\'creator\\': \\'Microsoft® Word for Microsoft 365\\', \\'file_path\\': \\'data/sample_doc.pdf\\', \\'format\\': \\'PDF 1.7\\', \\'keywords\\': \\'\\', \\'modDate\\': \"D:20240104133558+05\\'30\\'\", \\'page\\': 5, \\'producer\\': \\'Microsoft® Word for Microsoft 365\\', \\'source\\': \\'data/sample_doc.pdf\\', \\'subject\\': \\'\\', \\'title\\': \\'\\', \\'total_pages\\': 8, \\'trapped\\': \\'\\'}, page_content=\"BSC – RhythmCare POC SOW \\\\n Sr Solution Architect \\\\n(Chat bot/Gen AI experience) \\\\n• \\\\nProviding recommendations and roadmaps for proposed solutions \\\\n• \\\\nDesign, describe, and manage the solution \\\\n• \\\\nProviding technical leadership to a team throughout the PoC \\\\n• \\\\nRegularly communicating new features and benefits to partners, \\\\ncustomers, and other stakeholders \\\\n• \\\\nDesign chatbot and GenAI architecture \\\\n Project Manager \\\\n• \\\\nProject Manager is the point of contact for escalations \\\\n• \\\\nDriving teams across all workstreams \\\\nAzure Application Developer \\\\n• \\\\nExperience with NC/LC for creating ChatBot \\\\n• \\\\nDevelop LLM Orchestration model using LLM API  \\\\n▫ \\\\nChunking & Embedding \\\\n▫ \\\\nPrompt Engineering  \\\\n▫ \\\\nAgents  \\\\nML Engineer  \\\\n• \\\\nDesign and Develop LLM Orchestration model using LLM API  \\\\nPrompt Engineer   \\\\n• \\\\nDesign LLM Orchestration PR \\\\n• \\\\nPrompt Engineering  \\\\n• \\\\nAgents \\\\nCloud DevOps Engineer \\\\n• \\\\nPipeline Development \\\\n• \\\\nTerraform Development \\\\n• \\\\nConfiguring cloud resources \\\\n*Note: Any changes in staffing will require a minimum of 4-weeks’ prior written notice. \\\\n \\\\n5.2 Client Roles and Responsibilities \\\\n \\\\n5.2.1 \\\\nClient Roles \\\\nThe following roles will be performed by BSC team and the Service Provider’s team will collaborate \\\\nin creating product backlog and PI/Sprint planning. \\\\nProject Manager \\\\nReview business requirements in the form of user stories, sprint planning \\\\nand approvals. \\\\n2 Hours/day  \\\\nBA \\\\n• \\\\nProvide insights into the client\\'s business objectives, priorities, and \\\\nspecific needs that the project must address. \\\\n• \\\\nOffer subject matter expertise for guiding the project team  \\\\n• \\\\nProvide feedback and help prioritize features and functionalities \\\\nbased on business value. \\\\nAs required \\\\nApplication \\\\nTeam  \\\\nSupport development team to address any queries or validating integration \\\\npoints during the POC execution. \\\\nAs required\")]\\n                </context>\\n\\n                remember to answer the question solely based on the given context and you should not make up \\n                answers. Give your response below\\n\\n                Response:\\n    \\n    \\n                '),\n",
       " AIMessage(content='The scope of this SOW (Statement of Work) is to: \\n\\n* Create a Proof-Of-Concept (POC) to demonstrate a virtual assistant that can assist the BSC’s field representatives to respond to questions based on current/latest version of IFU (Information for Use) and DFU (Design for Use) documents. \\n* Develop a Virtual assistant to provide interactive multi-lingual text-based chat experience to the end-user, with an initial scope to support English & Spanish languages (depending upon multilingual support by zammo.ai). \\n* Integrate a Chatbot experience based on Field Hospital work profiles, limited to FCS (Field Clinical Specialist). Create a system experience to be enhanced to create additional personas.  \\n* Integration of the Chatbot and Generative AI models will include manuals & guidelines to be used from publicly available Boston Scientific Consulting web content. \\n* Development of the Virtual assistant that is limited to a “responsive web application only” that can be used from mobile and desktop, to ascertain the efficacy of LLMs for the query/response scenarios. \\n')]"
      ]
     },
     "execution_count": 9,
     "metadata": {},
     "output_type": "execute_result"
    }
   ],
   "source": []
  },
  {
   "cell_type": "code",
   "execution_count": 10,
   "metadata": {},
   "outputs": [
    {
     "data": {
      "text/plain": [
       "[{'type': 'human',\n",
       "  'data': {'content': 'You are a helpful bot that will answer the user\\'s query\\n                <query>\\n                what is the scope of this SOW\\n                </query>\\n\\n                based on the given context \\n                <context>\\n                [Document(metadata={\\'author\\': \\'Jaccarino, Marcus\\', \\'creationDate\\': \"D:20231228181808-05\\'00\\'\", \\'creator\\': \\'Microsoft® Word for Microsoft 365\\', \\'file_path\\': \\'data/sample_doc.pdf\\', \\'format\\': \\'PDF 1.7\\', \\'keywords\\': \\'\\', \\'modDate\\': \"D:20240104133558+05\\'30\\'\", \\'page\\': 0, \\'producer\\': \\'Microsoft® Word for Microsoft 365\\', \\'source\\': \\'data/sample_doc.pdf\\', \\'subject\\': \\'\\', \\'title\\': \\'\\', \\'total_pages\\': 8, \\'trapped\\': \\'\\'}, page_content=\\'BSC – RhythmCare POC SOW \\\\nSTATEMENT OF WORK  \\\\nStatement of Work No. 01 \\\\nRhythmCare POC \\\\nBY AND BETWEEN \\\\nBOSTON SCIENTIFIC CORPORATION \\\\nAND \\\\nVIRTUSA CORPORATION \\\\n \\\\nThis Statement of Work No 01 (“Statement of Work” or “SOW”), is entered into as of December 26, 2023 (“SOW \\\\nEffective Date”) pursuant to the Master Services Agreement between Boston Scientific Corporation (the “Client” \\\\nor “BSC”) and Virtusa Corporation (the “Vendor” or Service Provider”), with an effective date of October 01, \\\\n2022 (the “Agreement”). For the purpose of this SOW, Client Shall be Boston Scientific Ibérica, S.A., an affiliate \\\\nof BSC, and this SOW is issued under and subject to the terms and conditions of the agreement between BSC and \\\\nService Provider. In the event of a conflict between the Agreement and this SOW, the terms and conditions set \\\\nforth in the Agreement will govern for purposes of this SOW unless otherwise agreed to herein (consistent with \\\\nSection 1.2 of the Agreement), or as specified in Section 6.1. Capitalized terms used in this SOW have the \\\\nmeaning assigned in the Agreement unless otherwise defined herein. \\\\n \\\\n1. PROJECT TERM \\\\n \\\\n1.1 Project Commencement Date: 26-Dec-2023 \\\\n \\\\n1.2 Estimated Project Completion Date: 02-Feb-2024, unless earlier terminated or renewed as provided for \\\\nunder the Agreement. \\\\n \\\\n \\\\n2. SCOPE, SERVICES and DELIVERABLES \\\\n \\\\n2.1. In-Scope  \\\\nThe scope of this SOW is to: \\\\n• \\\\nCreate a Proof-Of-Concept (POC) to demonstrate a virtual assistant that can assist the BSC’s field \\\\nrepresentatives to respond to questions based on current/latest version of IFU (Information for Use) \\\\nand DFU (Design for Use) documents. \\\\n• \\\\nDevelop a Virtual assistant to provide interactive multi-lingual text-based chat experience to the end-\\\\nuser, with an initial scope to support English & Spanish languages (depending upon multilingual \\\\nsupport by zammo.ai). \\\\n• \\\\nIntegrate a Chatbot experience based on Field Hospital work profiles, limited to FCS (Field Clinical \\\\nSpecialist). Create a system experience to be enhanced to create additional personas.  \\\\n• \\\\nIntegration of the Chatbot and Generative AI models will include manuals & guidelines to be used \\\\nfrom publicly available Boston Scientific Consulting web content. \\\\n• \\\\nDevelopment of the Virtual assistant that is limited to a “responsive web application only” that can be \\\\nused from mobile and desktop, to ascertain the efficacy of LLMs for the query/response scenarios.\\'), Document(metadata={\\'author\\': \\'Jaccarino, Marcus\\', \\'creationDate\\': \"D:20231228181808-05\\'00\\'\", \\'creator\\': \\'Microsoft® Word for Microsoft 365\\', \\'file_path\\': \\'data/sample_doc.pdf\\', \\'format\\': \\'PDF 1.7\\', \\'keywords\\': \\'\\', \\'modDate\\': \"D:20240104133558+05\\'30\\'\", \\'page\\': 4, \\'producer\\': \\'Microsoft® Word for Microsoft 365\\', \\'source\\': \\'data/sample_doc.pdf\\', \\'subject\\': \\'\\', \\'title\\': \\'\\', \\'total_pages\\': 8, \\'trapped\\': \\'\\'}, page_content=\\'BSC – RhythmCare POC SOW \\\\nService Provider will re-submit the completed work in a mutually agreed upon timely manner and Client will \\\\nhave another three (3) business days to review the resubmission of the work based on the Acceptance Criteria. \\\\nAbsent timely receipt by Service Provider of such notice within the Acceptance Period specified above, the \\\\nDeliverable, or any re-submission thereof, shall be deemed to have been accepted by Client hereunder. \\\\n \\\\n \\\\n4. FEES; EXPENSES; PAYMENT \\\\n \\\\n4.1 NEC (Fixed Price model):   \\\\n \\\\nVirtusa will invoice BSC based on the fixed payment schedule below. Payment is due and payable \\\\nper the terms of the Agreement, and Virtusa agrees to follow the BSC accounts payables process. \\\\n \\\\nService Description \\\\nInvoice Date \\\\nService Fees \\\\nPOC Services \\\\n29-Dec-2023 \\\\n$51,403 \\\\n \\\\n \\\\nThe total amount above is the overall budgeted amount for this SOW \\\\n \\\\n• \\\\nAny changes in staffing will require mutual written agreement of the parties \\\\n• \\\\nAny material changes in staffing level (e.g. extended vacation for project team member) and resulting \\\\nimpact on monthly invoicing amount will be discussed and agreed between both parties \\\\n• \\\\nThe entity that will issue the PO and to which Virtusa will send the invoices for this project is:  \\\\nBoston Scientific Ibérica, S.A. \\\\nCIF/VAT: A-80401821 \\\\nAddress: c/ Ribera del Loira 46, Ed 2 \\\\n28042, Madrid, Spain \\\\n \\\\n \\\\n4.2 Expenses. Expenses shall not exceed 10% of the NEC. Expenses and travel (if any) will need to get pre-\\\\napproved by the BSC Product Manager. All travel will follow the Client’s Travel Policy and will be billed \\\\nas actual. \\\\n \\\\n4.3 Rate Card: The rate card below will be used for any potential ramp-up/ramp-down for the project. \\\\n \\\\nN/A \\\\n \\\\n5. ROLES and RESPONSIBILITIES \\\\n \\\\n5.1 Service Provider Scrum Team. To accomplish the objectives of this SOW, Service Provider shall provide a \\\\nteam with the following roles and responsibilities: \\\\n \\\\nRoles \\\\nResponsibilities\\'), Document(metadata={\\'author\\': \\'Jaccarino, Marcus\\', \\'creationDate\\': \"D:20231228181808-05\\'00\\'\", \\'creator\\': \\'Microsoft® Word for Microsoft 365\\', \\'file_path\\': \\'data/sample_doc.pdf\\', \\'format\\': \\'PDF 1.7\\', \\'keywords\\': \\'\\', \\'modDate\\': \"D:20240104133558+05\\'30\\'\", \\'page\\': 7, \\'producer\\': \\'Microsoft® Word for Microsoft 365\\', \\'source\\': \\'data/sample_doc.pdf\\', \\'subject\\': \\'\\', \\'title\\': \\'\\', \\'total_pages\\': 8, \\'trapped\\': \\'\\'}, page_content=\\'BSC – RhythmCare POC SOW \\\\n6.4 Service Provider Restricted Employees (if applicable): \\\\n• \\\\nNot Applicable \\\\n6.5 Subcontractors: \\\\n \\\\n• \\\\nNot Applicable \\\\n6.6 Contractors: \\\\n• \\\\nNot Applicable \\\\n6.7 Additional Personnel Roles and Responsibilities: \\\\n• \\\\nNot Applicable \\\\n \\\\n7. ADDITIONAL TERMS \\\\n \\\\n7.1 Place of Performance \\\\n• \\\\nService Provider staff are largely located in Service Provider US & India offices.   \\\\n \\\\n8. SOURCE MATERIAL ESCROW \\\\n \\\\nYES \\\\n \\\\n9. OTHER TERMS - N/A \\\\n \\\\n \\\\n \\\\nIN WITNESS WHEREOF, the parties hereto have executed this SOW No. 01 as of the SOW Effective Date. \\\\n \\\\n \\\\n \\\\nSERVICE PROVIDER \\\\nBoston Scientific Ibérica, S.A. \\\\nVIRTUSA CORPORATION \\\\n \\\\nBy: \\\\n_________________________________  \\\\nBy:  ________________________________  \\\\n                            \\\\nName:   \\\\n \\\\n \\\\n \\\\n \\\\n       Name: David Moñino Repolles  \\\\nTitle:                      \\\\n \\\\n \\\\n                     Title: Digital Development Manager EMEA \\\\n \\\\nPaul D. Tutun\\\\nEVP & General Counsel\\'), Document(metadata={\\'author\\': \\'Jaccarino, Marcus\\', \\'creationDate\\': \"D:20231228181808-05\\'00\\'\", \\'creator\\': \\'Microsoft® Word for Microsoft 365\\', \\'file_path\\': \\'data/sample_doc.pdf\\', \\'format\\': \\'PDF 1.7\\', \\'keywords\\': \\'\\', \\'modDate\\': \"D:20240104133558+05\\'30\\'\", \\'page\\': 5, \\'producer\\': \\'Microsoft® Word for Microsoft 365\\', \\'source\\': \\'data/sample_doc.pdf\\', \\'subject\\': \\'\\', \\'title\\': \\'\\', \\'total_pages\\': 8, \\'trapped\\': \\'\\'}, page_content=\"BSC – RhythmCare POC SOW \\\\n Sr Solution Architect \\\\n(Chat bot/Gen AI experience) \\\\n• \\\\nProviding recommendations and roadmaps for proposed solutions \\\\n• \\\\nDesign, describe, and manage the solution \\\\n• \\\\nProviding technical leadership to a team throughout the PoC \\\\n• \\\\nRegularly communicating new features and benefits to partners, \\\\ncustomers, and other stakeholders \\\\n• \\\\nDesign chatbot and GenAI architecture \\\\n Project Manager \\\\n• \\\\nProject Manager is the point of contact for escalations \\\\n• \\\\nDriving teams across all workstreams \\\\nAzure Application Developer \\\\n• \\\\nExperience with NC/LC for creating ChatBot \\\\n• \\\\nDevelop LLM Orchestration model using LLM API  \\\\n▫ \\\\nChunking & Embedding \\\\n▫ \\\\nPrompt Engineering  \\\\n▫ \\\\nAgents  \\\\nML Engineer  \\\\n• \\\\nDesign and Develop LLM Orchestration model using LLM API  \\\\nPrompt Engineer   \\\\n• \\\\nDesign LLM Orchestration PR \\\\n• \\\\nPrompt Engineering  \\\\n• \\\\nAgents \\\\nCloud DevOps Engineer \\\\n• \\\\nPipeline Development \\\\n• \\\\nTerraform Development \\\\n• \\\\nConfiguring cloud resources \\\\n*Note: Any changes in staffing will require a minimum of 4-weeks’ prior written notice. \\\\n \\\\n5.2 Client Roles and Responsibilities \\\\n \\\\n5.2.1 \\\\nClient Roles \\\\nThe following roles will be performed by BSC team and the Service Provider’s team will collaborate \\\\nin creating product backlog and PI/Sprint planning. \\\\nProject Manager \\\\nReview business requirements in the form of user stories, sprint planning \\\\nand approvals. \\\\n2 Hours/day  \\\\nBA \\\\n• \\\\nProvide insights into the client\\'s business objectives, priorities, and \\\\nspecific needs that the project must address. \\\\n• \\\\nOffer subject matter expertise for guiding the project team  \\\\n• \\\\nProvide feedback and help prioritize features and functionalities \\\\nbased on business value. \\\\nAs required \\\\nApplication \\\\nTeam  \\\\nSupport development team to address any queries or validating integration \\\\npoints during the POC execution. \\\\nAs required\")]\\n                </context>\\n\\n                remember to answer the question solely based on the given context and you should not make up \\n                answers. Give your response below\\n\\n                Response:\\n    \\n    \\n                ',\n",
       "   'additional_kwargs': {},\n",
       "   'response_metadata': {},\n",
       "   'type': 'human',\n",
       "   'name': None,\n",
       "   'id': None,\n",
       "   'example': False}},\n",
       " {'type': 'ai',\n",
       "  'data': {'content': 'The scope of this SOW (Statement of Work) is to: \\n\\n* Create a Proof-Of-Concept (POC) to demonstrate a virtual assistant that can assist the BSC’s field representatives to respond to questions based on current/latest version of IFU (Information for Use) and DFU (Design for Use) documents. \\n* Develop a Virtual assistant to provide interactive multi-lingual text-based chat experience to the end-user, with an initial scope to support English & Spanish languages (depending upon multilingual support by zammo.ai). \\n* Integrate a Chatbot experience based on Field Hospital work profiles, limited to FCS (Field Clinical Specialist). Create a system experience to be enhanced to create additional personas.  \\n* Integration of the Chatbot and Generative AI models will include manuals & guidelines to be used from publicly available Boston Scientific Consulting web content. \\n* Development of the Virtual assistant that is limited to a “responsive web application only” that can be used from mobile and desktop, to ascertain the efficacy of LLMs for the query/response scenarios. \\n',\n",
       "   'additional_kwargs': {},\n",
       "   'response_metadata': {},\n",
       "   'type': 'ai',\n",
       "   'name': None,\n",
       "   'id': None,\n",
       "   'example': False,\n",
       "   'tool_calls': [],\n",
       "   'invalid_tool_calls': [],\n",
       "   'usage_metadata': None}}]"
      ]
     },
     "execution_count": 10,
     "metadata": {},
     "output_type": "execute_result"
    }
   ],
   "source": []
  },
  {
   "cell_type": "code",
   "execution_count": 11,
   "metadata": {},
   "outputs": [
    {
     "data": {
      "text/plain": [
       "[{'type': 'human',\n",
       "  'data': {'content': 'You are a helpful bot that will answer the user\\'s query\\n                <query>\\n                what is the scope of this SOW\\n                </query>\\n\\n                based on the given context \\n                <context>\\n                [Document(metadata={\\'author\\': \\'Jaccarino, Marcus\\', \\'creationDate\\': \"D:20231228181808-05\\'00\\'\", \\'creator\\': \\'Microsoft® Word for Microsoft 365\\', \\'file_path\\': \\'data/sample_doc.pdf\\', \\'format\\': \\'PDF 1.7\\', \\'keywords\\': \\'\\', \\'modDate\\': \"D:20240104133558+05\\'30\\'\", \\'page\\': 0, \\'producer\\': \\'Microsoft® Word for Microsoft 365\\', \\'source\\': \\'data/sample_doc.pdf\\', \\'subject\\': \\'\\', \\'title\\': \\'\\', \\'total_pages\\': 8, \\'trapped\\': \\'\\'}, page_content=\\'BSC – RhythmCare POC SOW \\\\nSTATEMENT OF WORK  \\\\nStatement of Work No. 01 \\\\nRhythmCare POC \\\\nBY AND BETWEEN \\\\nBOSTON SCIENTIFIC CORPORATION \\\\nAND \\\\nVIRTUSA CORPORATION \\\\n \\\\nThis Statement of Work No 01 (“Statement of Work” or “SOW”), is entered into as of December 26, 2023 (“SOW \\\\nEffective Date”) pursuant to the Master Services Agreement between Boston Scientific Corporation (the “Client” \\\\nor “BSC”) and Virtusa Corporation (the “Vendor” or Service Provider”), with an effective date of October 01, \\\\n2022 (the “Agreement”). For the purpose of this SOW, Client Shall be Boston Scientific Ibérica, S.A., an affiliate \\\\nof BSC, and this SOW is issued under and subject to the terms and conditions of the agreement between BSC and \\\\nService Provider. In the event of a conflict between the Agreement and this SOW, the terms and conditions set \\\\nforth in the Agreement will govern for purposes of this SOW unless otherwise agreed to herein (consistent with \\\\nSection 1.2 of the Agreement), or as specified in Section 6.1. Capitalized terms used in this SOW have the \\\\nmeaning assigned in the Agreement unless otherwise defined herein. \\\\n \\\\n1. PROJECT TERM \\\\n \\\\n1.1 Project Commencement Date: 26-Dec-2023 \\\\n \\\\n1.2 Estimated Project Completion Date: 02-Feb-2024, unless earlier terminated or renewed as provided for \\\\nunder the Agreement. \\\\n \\\\n \\\\n2. SCOPE, SERVICES and DELIVERABLES \\\\n \\\\n2.1. In-Scope  \\\\nThe scope of this SOW is to: \\\\n• \\\\nCreate a Proof-Of-Concept (POC) to demonstrate a virtual assistant that can assist the BSC’s field \\\\nrepresentatives to respond to questions based on current/latest version of IFU (Information for Use) \\\\nand DFU (Design for Use) documents. \\\\n• \\\\nDevelop a Virtual assistant to provide interactive multi-lingual text-based chat experience to the end-\\\\nuser, with an initial scope to support English & Spanish languages (depending upon multilingual \\\\nsupport by zammo.ai). \\\\n• \\\\nIntegrate a Chatbot experience based on Field Hospital work profiles, limited to FCS (Field Clinical \\\\nSpecialist). Create a system experience to be enhanced to create additional personas.  \\\\n• \\\\nIntegration of the Chatbot and Generative AI models will include manuals & guidelines to be used \\\\nfrom publicly available Boston Scientific Consulting web content. \\\\n• \\\\nDevelopment of the Virtual assistant that is limited to a “responsive web application only” that can be \\\\nused from mobile and desktop, to ascertain the efficacy of LLMs for the query/response scenarios.\\'), Document(metadata={\\'author\\': \\'Jaccarino, Marcus\\', \\'creationDate\\': \"D:20231228181808-05\\'00\\'\", \\'creator\\': \\'Microsoft® Word for Microsoft 365\\', \\'file_path\\': \\'data/sample_doc.pdf\\', \\'format\\': \\'PDF 1.7\\', \\'keywords\\': \\'\\', \\'modDate\\': \"D:20240104133558+05\\'30\\'\", \\'page\\': 4, \\'producer\\': \\'Microsoft® Word for Microsoft 365\\', \\'source\\': \\'data/sample_doc.pdf\\', \\'subject\\': \\'\\', \\'title\\': \\'\\', \\'total_pages\\': 8, \\'trapped\\': \\'\\'}, page_content=\\'BSC – RhythmCare POC SOW \\\\nService Provider will re-submit the completed work in a mutually agreed upon timely manner and Client will \\\\nhave another three (3) business days to review the resubmission of the work based on the Acceptance Criteria. \\\\nAbsent timely receipt by Service Provider of such notice within the Acceptance Period specified above, the \\\\nDeliverable, or any re-submission thereof, shall be deemed to have been accepted by Client hereunder. \\\\n \\\\n \\\\n4. FEES; EXPENSES; PAYMENT \\\\n \\\\n4.1 NEC (Fixed Price model):   \\\\n \\\\nVirtusa will invoice BSC based on the fixed payment schedule below. Payment is due and payable \\\\nper the terms of the Agreement, and Virtusa agrees to follow the BSC accounts payables process. \\\\n \\\\nService Description \\\\nInvoice Date \\\\nService Fees \\\\nPOC Services \\\\n29-Dec-2023 \\\\n$51,403 \\\\n \\\\n \\\\nThe total amount above is the overall budgeted amount for this SOW \\\\n \\\\n• \\\\nAny changes in staffing will require mutual written agreement of the parties \\\\n• \\\\nAny material changes in staffing level (e.g. extended vacation for project team member) and resulting \\\\nimpact on monthly invoicing amount will be discussed and agreed between both parties \\\\n• \\\\nThe entity that will issue the PO and to which Virtusa will send the invoices for this project is:  \\\\nBoston Scientific Ibérica, S.A. \\\\nCIF/VAT: A-80401821 \\\\nAddress: c/ Ribera del Loira 46, Ed 2 \\\\n28042, Madrid, Spain \\\\n \\\\n \\\\n4.2 Expenses. Expenses shall not exceed 10% of the NEC. Expenses and travel (if any) will need to get pre-\\\\napproved by the BSC Product Manager. All travel will follow the Client’s Travel Policy and will be billed \\\\nas actual. \\\\n \\\\n4.3 Rate Card: The rate card below will be used for any potential ramp-up/ramp-down for the project. \\\\n \\\\nN/A \\\\n \\\\n5. ROLES and RESPONSIBILITIES \\\\n \\\\n5.1 Service Provider Scrum Team. To accomplish the objectives of this SOW, Service Provider shall provide a \\\\nteam with the following roles and responsibilities: \\\\n \\\\nRoles \\\\nResponsibilities\\'), Document(metadata={\\'author\\': \\'Jaccarino, Marcus\\', \\'creationDate\\': \"D:20231228181808-05\\'00\\'\", \\'creator\\': \\'Microsoft® Word for Microsoft 365\\', \\'file_path\\': \\'data/sample_doc.pdf\\', \\'format\\': \\'PDF 1.7\\', \\'keywords\\': \\'\\', \\'modDate\\': \"D:20240104133558+05\\'30\\'\", \\'page\\': 7, \\'producer\\': \\'Microsoft® Word for Microsoft 365\\', \\'source\\': \\'data/sample_doc.pdf\\', \\'subject\\': \\'\\', \\'title\\': \\'\\', \\'total_pages\\': 8, \\'trapped\\': \\'\\'}, page_content=\\'BSC – RhythmCare POC SOW \\\\n6.4 Service Provider Restricted Employees (if applicable): \\\\n• \\\\nNot Applicable \\\\n6.5 Subcontractors: \\\\n \\\\n• \\\\nNot Applicable \\\\n6.6 Contractors: \\\\n• \\\\nNot Applicable \\\\n6.7 Additional Personnel Roles and Responsibilities: \\\\n• \\\\nNot Applicable \\\\n \\\\n7. ADDITIONAL TERMS \\\\n \\\\n7.1 Place of Performance \\\\n• \\\\nService Provider staff are largely located in Service Provider US & India offices.   \\\\n \\\\n8. SOURCE MATERIAL ESCROW \\\\n \\\\nYES \\\\n \\\\n9. OTHER TERMS - N/A \\\\n \\\\n \\\\n \\\\nIN WITNESS WHEREOF, the parties hereto have executed this SOW No. 01 as of the SOW Effective Date. \\\\n \\\\n \\\\n \\\\nSERVICE PROVIDER \\\\nBoston Scientific Ibérica, S.A. \\\\nVIRTUSA CORPORATION \\\\n \\\\nBy: \\\\n_________________________________  \\\\nBy:  ________________________________  \\\\n                            \\\\nName:   \\\\n \\\\n \\\\n \\\\n \\\\n       Name: David Moñino Repolles  \\\\nTitle:                      \\\\n \\\\n \\\\n                     Title: Digital Development Manager EMEA \\\\n \\\\nPaul D. Tutun\\\\nEVP & General Counsel\\'), Document(metadata={\\'author\\': \\'Jaccarino, Marcus\\', \\'creationDate\\': \"D:20231228181808-05\\'00\\'\", \\'creator\\': \\'Microsoft® Word for Microsoft 365\\', \\'file_path\\': \\'data/sample_doc.pdf\\', \\'format\\': \\'PDF 1.7\\', \\'keywords\\': \\'\\', \\'modDate\\': \"D:20240104133558+05\\'30\\'\", \\'page\\': 5, \\'producer\\': \\'Microsoft® Word for Microsoft 365\\', \\'source\\': \\'data/sample_doc.pdf\\', \\'subject\\': \\'\\', \\'title\\': \\'\\', \\'total_pages\\': 8, \\'trapped\\': \\'\\'}, page_content=\"BSC – RhythmCare POC SOW \\\\n Sr Solution Architect \\\\n(Chat bot/Gen AI experience) \\\\n• \\\\nProviding recommendations and roadmaps for proposed solutions \\\\n• \\\\nDesign, describe, and manage the solution \\\\n• \\\\nProviding technical leadership to a team throughout the PoC \\\\n• \\\\nRegularly communicating new features and benefits to partners, \\\\ncustomers, and other stakeholders \\\\n• \\\\nDesign chatbot and GenAI architecture \\\\n Project Manager \\\\n• \\\\nProject Manager is the point of contact for escalations \\\\n• \\\\nDriving teams across all workstreams \\\\nAzure Application Developer \\\\n• \\\\nExperience with NC/LC for creating ChatBot \\\\n• \\\\nDevelop LLM Orchestration model using LLM API  \\\\n▫ \\\\nChunking & Embedding \\\\n▫ \\\\nPrompt Engineering  \\\\n▫ \\\\nAgents  \\\\nML Engineer  \\\\n• \\\\nDesign and Develop LLM Orchestration model using LLM API  \\\\nPrompt Engineer   \\\\n• \\\\nDesign LLM Orchestration PR \\\\n• \\\\nPrompt Engineering  \\\\n• \\\\nAgents \\\\nCloud DevOps Engineer \\\\n• \\\\nPipeline Development \\\\n• \\\\nTerraform Development \\\\n• \\\\nConfiguring cloud resources \\\\n*Note: Any changes in staffing will require a minimum of 4-weeks’ prior written notice. \\\\n \\\\n5.2 Client Roles and Responsibilities \\\\n \\\\n5.2.1 \\\\nClient Roles \\\\nThe following roles will be performed by BSC team and the Service Provider’s team will collaborate \\\\nin creating product backlog and PI/Sprint planning. \\\\nProject Manager \\\\nReview business requirements in the form of user stories, sprint planning \\\\nand approvals. \\\\n2 Hours/day  \\\\nBA \\\\n• \\\\nProvide insights into the client\\'s business objectives, priorities, and \\\\nspecific needs that the project must address. \\\\n• \\\\nOffer subject matter expertise for guiding the project team  \\\\n• \\\\nProvide feedback and help prioritize features and functionalities \\\\nbased on business value. \\\\nAs required \\\\nApplication \\\\nTeam  \\\\nSupport development team to address any queries or validating integration \\\\npoints during the POC execution. \\\\nAs required\")]\\n                </context>\\n\\n                remember to answer the question solely based on the given context and you should not make up \\n                answers. Give your response below\\n\\n                Response:\\n    \\n    \\n                ',\n",
       "   'additional_kwargs': {},\n",
       "   'response_metadata': {},\n",
       "   'type': 'human',\n",
       "   'name': None,\n",
       "   'id': None,\n",
       "   'example': False}},\n",
       " {'type': 'ai',\n",
       "  'data': {'content': 'The scope of this SOW (Statement of Work) is to: \\n\\n* Create a Proof-Of-Concept (POC) to demonstrate a virtual assistant that can assist the BSC’s field representatives to respond to questions based on current/latest version of IFU (Information for Use) and DFU (Design for Use) documents. \\n* Develop a Virtual assistant to provide interactive multi-lingual text-based chat experience to the end-user, with an initial scope to support English & Spanish languages (depending upon multilingual support by zammo.ai). \\n* Integrate a Chatbot experience based on Field Hospital work profiles, limited to FCS (Field Clinical Specialist). Create a system experience to be enhanced to create additional personas.  \\n* Integration of the Chatbot and Generative AI models will include manuals & guidelines to be used from publicly available Boston Scientific Consulting web content. \\n* Development of the Virtual assistant that is limited to a “responsive web application only” that can be used from mobile and desktop, to ascertain the efficacy of LLMs for the query/response scenarios. \\n',\n",
       "   'additional_kwargs': {},\n",
       "   'response_metadata': {},\n",
       "   'type': 'ai',\n",
       "   'name': None,\n",
       "   'id': None,\n",
       "   'example': False,\n",
       "   'tool_calls': [],\n",
       "   'invalid_tool_calls': [],\n",
       "   'usage_metadata': None}}]"
      ]
     },
     "execution_count": 11,
     "metadata": {},
     "output_type": "execute_result"
    }
   ],
   "source": []
  },
  {
   "cell_type": "code",
   "execution_count": null,
   "metadata": {},
   "outputs": [],
   "source": []
  },
  {
   "cell_type": "code",
   "execution_count": 5,
   "metadata": {},
   "outputs": [
    {
     "data": {
      "text/plain": [
       "AIMessage(content='The scope of the SOW is to:\\n\\n* Create a Proof-Of-Concept (POC) to demonstrate a virtual assistant that can assist BSC’s field representatives to respond to questions based on current/latest version of IFU (Information for Use) and DFU (Design for Use) documents. \\n* Develop a Virtual assistant to provide interactive multi-lingual text-based chat experience to the end-user, with an initial scope to support English & Spanish languages (depending upon multilingual support by zammo.ai). \\n* Integrate a Chatbot experience based on Field Hospital work profiles, limited to FCS (Field Clinical Specialist). Create a system experience to be enhanced to create additional personas.  \\n* Integration of the Chatbot and Generative AI models will include manuals & guidelines to be used from publicly available Boston Scientific Consulting web content. \\n* Development of the Virtual assistant that is limited to a “responsive web application only” that can be used from mobile and desktop, to ascertain the efficacy of LLMs for the query/response scenarios. \\n', response_metadata={'prompt_feedback': {'block_reason': 0, 'safety_ratings': []}, 'finish_reason': 'STOP', 'safety_ratings': [{'category': 'HARM_CATEGORY_SEXUALLY_EXPLICIT', 'probability': 'NEGLIGIBLE', 'blocked': False}, {'category': 'HARM_CATEGORY_HATE_SPEECH', 'probability': 'NEGLIGIBLE', 'blocked': False}, {'category': 'HARM_CATEGORY_HARASSMENT', 'probability': 'NEGLIGIBLE', 'blocked': False}, {'category': 'HARM_CATEGORY_DANGEROUS_CONTENT', 'probability': 'NEGLIGIBLE', 'blocked': False}]}, id='run-d7a193a7-0cba-49cf-abfe-dbc058820198-0', usage_metadata={'input_tokens': 2677, 'output_tokens': 214, 'total_tokens': 2891})"
      ]
     },
     "execution_count": 5,
     "metadata": {},
     "output_type": "execute_result"
    }
   ],
   "source": [
    "llm.invoke(prompt)"
   ]
  },
  {
   "cell_type": "code",
   "execution_count": 1,
   "metadata": {},
   "outputs": [],
   "source": [
    "import numpy as np"
   ]
  },
  {
   "cell_type": "code",
   "execution_count": 19,
   "metadata": {},
   "outputs": [],
   "source": [
    "x = np.array([[1,2,3],[1,5,6]])"
   ]
  },
  {
   "cell_type": "code",
   "execution_count": 30,
   "metadata": {},
   "outputs": [],
   "source": [
    "y=np.array([2,2,2])"
   ]
  },
  {
   "cell_type": "code",
   "execution_count": 38,
   "metadata": {},
   "outputs": [
    {
     "data": {
      "text/plain": [
       "array([[2, 2, 2]])"
      ]
     },
     "execution_count": 38,
     "metadata": {},
     "output_type": "execute_result"
    }
   ],
   "source": [
    "y.reshape(1,-1)"
   ]
  },
  {
   "cell_type": "code",
   "execution_count": 14,
   "metadata": {},
   "outputs": [
    {
     "data": {
      "text/plain": [
       "array([12, 30])"
      ]
     },
     "execution_count": 14,
     "metadata": {},
     "output_type": "execute_result"
    }
   ],
   "source": [
    "np.matmul(x,y)"
   ]
  },
  {
   "cell_type": "code",
   "execution_count": 20,
   "metadata": {},
   "outputs": [],
   "source": [
    "x_t = x.transpose()"
   ]
  },
  {
   "cell_type": "code",
   "execution_count": 15,
   "metadata": {},
   "outputs": [
    {
     "data": {
      "text/plain": [
       "array([[1, 4],\n",
       "       [2, 5],\n",
       "       [3, 6]])"
      ]
     },
     "execution_count": 15,
     "metadata": {},
     "output_type": "execute_result"
    }
   ],
   "source": [
    "x_t"
   ]
  },
  {
   "cell_type": "code",
   "execution_count": 21,
   "metadata": {},
   "outputs": [],
   "source": [
    "product = np.matmul(x_t, x)"
   ]
  },
  {
   "cell_type": "code",
   "execution_count": 23,
   "metadata": {},
   "outputs": [
    {
     "data": {
      "text/plain": [
       "array([[ 2,  7,  9],\n",
       "       [ 7, 29, 36],\n",
       "       [ 9, 36, 45]])"
      ]
     },
     "execution_count": 23,
     "metadata": {},
     "output_type": "execute_result"
    }
   ],
   "source": [
    "product"
   ]
  },
  {
   "cell_type": "code",
   "execution_count": 22,
   "metadata": {},
   "outputs": [
    {
     "data": {
      "text/plain": [
       "array([[-2.81474977e+14, -2.81474977e+14,  2.81474977e+14],\n",
       "       [-2.81474977e+14, -2.81474977e+14,  2.81474977e+14],\n",
       "       [ 2.81474977e+14,  2.81474977e+14, -2.81474977e+14]])"
      ]
     },
     "execution_count": 22,
     "metadata": {},
     "output_type": "execute_result"
    }
   ],
   "source": [
    "np.linalg.inv(product)"
   ]
  },
  {
   "cell_type": "code",
   "execution_count": null,
   "metadata": {},
   "outputs": [],
   "source": []
  },
  {
   "cell_type": "code",
   "execution_count": 45,
   "metadata": {},
   "outputs": [],
   "source": [
    "import numpy as np\n",
    "def linear_regression_normal_equation(X: list[list[float]], y: list[float]) -> list[float]:\n",
    "    X = np.array(X)\n",
    "    y = np.array(y)\n",
    "    X_t = X.transpose()\n",
    "    left = np.linalg.inv(np.matmul(X_t,X))\n",
    "    # print(X.shape, y.shape)\n",
    "\n",
    "    temp = np.matmul(left,X_t)\n",
    "    right = np.matmul(temp,y)\n",
    "    \n",
    "    theta = np.dot(left,right)\n",
    "    return theta"
   ]
  },
  {
   "cell_type": "code",
   "execution_count": 46,
   "metadata": {},
   "outputs": [
    {
     "name": "stdout",
     "output_type": "stream",
     "text": [
      "(3, 2) (3,)\n",
      "[-1.77635684e-15  1.00000000e+00]\n"
     ]
    }
   ],
   "source": [
    "print(linear_regression_normal_equation([[1, 1], [1, 2], [1, 3]], [1, 2, 3]))"
   ]
  }
 ],
 "metadata": {
  "kernelspec": {
   "display_name": "Python 3",
   "language": "python",
   "name": "python3"
  },
  "language_info": {
   "codemirror_mode": {
    "name": "ipython",
    "version": 3
   },
   "file_extension": ".py",
   "mimetype": "text/x-python",
   "name": "python",
   "nbconvert_exporter": "python",
   "pygments_lexer": "ipython3",
   "version": "3.10.13"
  }
 },
 "nbformat": 4,
 "nbformat_minor": 2
}
